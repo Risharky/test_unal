{
 "cells": [
  {
   "cell_type": "markdown",
   "id": "586d5b1e",
   "metadata": {},
   "source": [
    "# PRUEBA ANALISTA DE DATOS UNAL: Punto 1 series de tiempo Usando el modelo ARIMA #"
   ]
  },
  {
   "cell_type": "markdown",
   "id": "6686dd1a",
   "metadata": {},
   "source": [
    "# Elaborada por Ricardo Rodriguez Otero #"
   ]
  }
 ],
 "metadata": {
  "kernelspec": {
   "display_name": "Python 3 (ipykernel)",
   "language": "python",
   "name": "python3"
  },
  "language_info": {
   "codemirror_mode": {
    "name": "ipython",
    "version": 3
   },
   "file_extension": ".py",
   "mimetype": "text/x-python",
   "name": "python",
   "nbconvert_exporter": "python",
   "pygments_lexer": "ipython3",
   "version": "3.8.13"
  }
 },
 "nbformat": 4,
 "nbformat_minor": 5
}
