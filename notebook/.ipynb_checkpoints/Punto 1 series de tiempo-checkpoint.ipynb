{
 "cells": [
  {
   "cell_type": "markdown",
   "id": "56f1b5c5",
   "metadata": {},
   "source": [
    "# PRUEBA ANALISTA DE DATOS UNAL: Punto 1 series de tiempo Usando el modelo ARIMA #"
   ]
  },
  {
   "cell_type": "markdown",
   "id": "d1970aec",
   "metadata": {},
   "source": [
    "# Elaborada por Ricardo Rodriguez Otero #"
   ]
  },
  {
   "cell_type": "markdown",
   "id": "90df2407",
   "metadata": {},
   "source": [
    "## Importando librerias ##"
   ]
  },
  {
   "cell_type": "code",
   "execution_count": 1,
   "id": "e5e56322",
   "metadata": {},
   "outputs": [],
   "source": [
    "\n",
    "import pandas as pd\n",
    "import numpy as np\n",
    "#import matplotlib.pyplot as plt\n",
    "#import seaborn as sns\n",
    "import plotly.express as px\n",
    "from autots import AutoTS"
   ]
  },
  {
   "cell_type": "markdown",
   "id": "236e575d",
   "metadata": {},
   "source": [
    "## Carga de datos ##"
   ]
  },
  {
   "cell_type": "code",
   "execution_count": 2,
   "id": "fb9db8a1",
   "metadata": {},
   "outputs": [
    {
     "name": "stdout",
     "output_type": "stream",
     "text": [
      "<class 'pandas.core.frame.DataFrame'>\n",
      "RangeIndex: 1056 entries, 0 to 1055\n",
      "Data columns (total 6 columns):\n",
      " #   Column        Non-Null Count  Dtype  \n",
      "---  ------        --------------  -----  \n",
      " 0   Sede          1056 non-null   object \n",
      " 1   Facultad      1056 non-null   object \n",
      " 2   Grado         1056 non-null   object \n",
      " 3   Sexo          1056 non-null   object \n",
      " 4   Periodo       1056 non-null   object \n",
      " 5   Matriculados  1056 non-null   float64\n",
      "dtypes: float64(1), object(5)\n",
      "memory usage: 49.6+ KB\n"
     ]
    }
   ],
   "source": [
    "#carga de datos \n",
    "df= pd.read_excel('Matriculados pba.xlsx')\n",
    "df.info()"
   ]
  },
  {
   "cell_type": "markdown",
   "id": "dd54d9c5",
   "metadata": {},
   "source": [
    "## Remplazando valores con errores ortograficos para evitar duplicados ##"
   ]
  },
  {
   "cell_type": "code",
   "execution_count": 3,
   "id": "0530bb42",
   "metadata": {},
   "outputs": [],
   "source": [
    "df['Facultad']=df['Facultad'].replace(['C.  Humanas', 'Ingenieria', 'Odontologia'],\n",
    "                                      ['C. Humanas', 'Ingeniería', 'Odontología'])"
   ]
  },
  {
   "cell_type": "markdown",
   "id": "b098fccb",
   "metadata": {},
   "source": [
    "## Cambiando tipos de datos ##"
   ]
  },
  {
   "cell_type": "code",
   "execution_count": 4,
   "id": "c4bda41a",
   "metadata": {},
   "outputs": [],
   "source": [
    "df_t = df.convert_dtypes()"
   ]
  },
  {
   "cell_type": "code",
   "execution_count": 5,
   "id": "f0844f3d",
   "metadata": {},
   "outputs": [
    {
     "name": "stdout",
     "output_type": "stream",
     "text": [
      "<class 'pandas.core.frame.DataFrame'>\n",
      "RangeIndex: 1056 entries, 0 to 1055\n",
      "Data columns (total 6 columns):\n",
      " #   Column        Non-Null Count  Dtype \n",
      "---  ------        --------------  ----- \n",
      " 0   Sede          1056 non-null   string\n",
      " 1   Facultad      1056 non-null   string\n",
      " 2   Grado         1056 non-null   string\n",
      " 3   Sexo          1056 non-null   string\n",
      " 4   Periodo       1056 non-null   string\n",
      " 5   Matriculados  1056 non-null   Int64 \n",
      "dtypes: Int64(1), string(5)\n",
      "memory usage: 50.7 KB\n"
     ]
    }
   ],
   "source": [
    "df_t.info()"
   ]
  },
  {
   "cell_type": "markdown",
   "id": "103c2826",
   "metadata": {},
   "source": [
    "## Dividiendo periodo ##"
   ]
  },
  {
   "cell_type": "code",
   "execution_count": 6,
   "id": "ba08ec42",
   "metadata": {},
   "outputs": [],
   "source": [
    "df_t[['Año','Semestre_A']]=df_t['Periodo'].str.split('-', expand=True)"
   ]
  },
  {
   "cell_type": "code",
   "execution_count": 7,
   "id": "e4b0505b",
   "metadata": {},
   "outputs": [
    {
     "data": {
      "text/html": [
       "<div>\n",
       "<style scoped>\n",
       "    .dataframe tbody tr th:only-of-type {\n",
       "        vertical-align: middle;\n",
       "    }\n",
       "\n",
       "    .dataframe tbody tr th {\n",
       "        vertical-align: top;\n",
       "    }\n",
       "\n",
       "    .dataframe thead th {\n",
       "        text-align: right;\n",
       "    }\n",
       "</style>\n",
       "<table border=\"1\" class=\"dataframe\">\n",
       "  <thead>\n",
       "    <tr style=\"text-align: right;\">\n",
       "      <th></th>\n",
       "      <th>Sede</th>\n",
       "      <th>Facultad</th>\n",
       "      <th>Grado</th>\n",
       "      <th>Sexo</th>\n",
       "      <th>Periodo</th>\n",
       "      <th>Matriculados</th>\n",
       "      <th>Año</th>\n",
       "      <th>Semestre_A</th>\n",
       "    </tr>\n",
       "  </thead>\n",
       "  <tbody>\n",
       "    <tr>\n",
       "      <th>0</th>\n",
       "      <td>Bogotá</td>\n",
       "      <td>Artes</td>\n",
       "      <td>Posgrado</td>\n",
       "      <td>Hombres</td>\n",
       "      <td>2009-1</td>\n",
       "      <td>336</td>\n",
       "      <td>2009</td>\n",
       "      <td>1</td>\n",
       "    </tr>\n",
       "    <tr>\n",
       "      <th>1</th>\n",
       "      <td>Bogotá</td>\n",
       "      <td>Artes</td>\n",
       "      <td>Posgrado</td>\n",
       "      <td>Hombres</td>\n",
       "      <td>2009-2</td>\n",
       "      <td>326</td>\n",
       "      <td>2009</td>\n",
       "      <td>2</td>\n",
       "    </tr>\n",
       "    <tr>\n",
       "      <th>2</th>\n",
       "      <td>Bogotá</td>\n",
       "      <td>Artes</td>\n",
       "      <td>Posgrado</td>\n",
       "      <td>Hombres</td>\n",
       "      <td>2010-1</td>\n",
       "      <td>326</td>\n",
       "      <td>2010</td>\n",
       "      <td>1</td>\n",
       "    </tr>\n",
       "    <tr>\n",
       "      <th>3</th>\n",
       "      <td>Bogotá</td>\n",
       "      <td>Artes</td>\n",
       "      <td>Posgrado</td>\n",
       "      <td>Hombres</td>\n",
       "      <td>2010-2</td>\n",
       "      <td>328</td>\n",
       "      <td>2010</td>\n",
       "      <td>2</td>\n",
       "    </tr>\n",
       "    <tr>\n",
       "      <th>4</th>\n",
       "      <td>Bogotá</td>\n",
       "      <td>Artes</td>\n",
       "      <td>Posgrado</td>\n",
       "      <td>Hombres</td>\n",
       "      <td>2011-1</td>\n",
       "      <td>333</td>\n",
       "      <td>2011</td>\n",
       "      <td>1</td>\n",
       "    </tr>\n",
       "    <tr>\n",
       "      <th>5</th>\n",
       "      <td>Bogotá</td>\n",
       "      <td>Artes</td>\n",
       "      <td>Posgrado</td>\n",
       "      <td>Hombres</td>\n",
       "      <td>2011-2</td>\n",
       "      <td>320</td>\n",
       "      <td>2011</td>\n",
       "      <td>2</td>\n",
       "    </tr>\n",
       "    <tr>\n",
       "      <th>6</th>\n",
       "      <td>Bogotá</td>\n",
       "      <td>Artes</td>\n",
       "      <td>Posgrado</td>\n",
       "      <td>Hombres</td>\n",
       "      <td>2012-1</td>\n",
       "      <td>349</td>\n",
       "      <td>2012</td>\n",
       "      <td>1</td>\n",
       "    </tr>\n",
       "    <tr>\n",
       "      <th>7</th>\n",
       "      <td>Bogotá</td>\n",
       "      <td>Artes</td>\n",
       "      <td>Posgrado</td>\n",
       "      <td>Hombres</td>\n",
       "      <td>2012-2</td>\n",
       "      <td>325</td>\n",
       "      <td>2012</td>\n",
       "      <td>2</td>\n",
       "    </tr>\n",
       "    <tr>\n",
       "      <th>8</th>\n",
       "      <td>Bogotá</td>\n",
       "      <td>Artes</td>\n",
       "      <td>Posgrado</td>\n",
       "      <td>Hombres</td>\n",
       "      <td>2013-1</td>\n",
       "      <td>371</td>\n",
       "      <td>2013</td>\n",
       "      <td>1</td>\n",
       "    </tr>\n",
       "    <tr>\n",
       "      <th>9</th>\n",
       "      <td>Bogotá</td>\n",
       "      <td>Artes</td>\n",
       "      <td>Posgrado</td>\n",
       "      <td>Hombres</td>\n",
       "      <td>2013-2</td>\n",
       "      <td>370</td>\n",
       "      <td>2013</td>\n",
       "      <td>2</td>\n",
       "    </tr>\n",
       "  </tbody>\n",
       "</table>\n",
       "</div>"
      ],
      "text/plain": [
       "     Sede Facultad     Grado     Sexo Periodo  Matriculados   Año Semestre_A\n",
       "0  Bogotá    Artes  Posgrado  Hombres  2009-1           336  2009          1\n",
       "1  Bogotá    Artes  Posgrado  Hombres  2009-2           326  2009          2\n",
       "2  Bogotá    Artes  Posgrado  Hombres  2010-1           326  2010          1\n",
       "3  Bogotá    Artes  Posgrado  Hombres  2010-2           328  2010          2\n",
       "4  Bogotá    Artes  Posgrado  Hombres  2011-1           333  2011          1\n",
       "5  Bogotá    Artes  Posgrado  Hombres  2011-2           320  2011          2\n",
       "6  Bogotá    Artes  Posgrado  Hombres  2012-1           349  2012          1\n",
       "7  Bogotá    Artes  Posgrado  Hombres  2012-2           325  2012          2\n",
       "8  Bogotá    Artes  Posgrado  Hombres  2013-1           371  2013          1\n",
       "9  Bogotá    Artes  Posgrado  Hombres  2013-2           370  2013          2"
      ]
     },
     "execution_count": 7,
     "metadata": {},
     "output_type": "execute_result"
    }
   ],
   "source": [
    "#Verificando datos\n",
    "df_t.head(10)"
   ]
  },
  {
   "cell_type": "code",
   "execution_count": 8,
   "id": "ce5fc5f2",
   "metadata": {},
   "outputs": [
    {
     "data": {
      "text/html": [
       "<div>\n",
       "<style scoped>\n",
       "    .dataframe tbody tr th:only-of-type {\n",
       "        vertical-align: middle;\n",
       "    }\n",
       "\n",
       "    .dataframe tbody tr th {\n",
       "        vertical-align: top;\n",
       "    }\n",
       "\n",
       "    .dataframe thead th {\n",
       "        text-align: right;\n",
       "    }\n",
       "</style>\n",
       "<table border=\"1\" class=\"dataframe\">\n",
       "  <thead>\n",
       "    <tr style=\"text-align: right;\">\n",
       "      <th></th>\n",
       "      <th>Sede</th>\n",
       "      <th>Facultad</th>\n",
       "      <th>Grado</th>\n",
       "      <th>Sexo</th>\n",
       "      <th>Periodo</th>\n",
       "      <th>Matriculados</th>\n",
       "      <th>Año</th>\n",
       "      <th>Semestre_A</th>\n",
       "    </tr>\n",
       "  </thead>\n",
       "  <tbody>\n",
       "    <tr>\n",
       "      <th>1046</th>\n",
       "      <td>Bogotá</td>\n",
       "      <td>Odontología</td>\n",
       "      <td>Pregrado</td>\n",
       "      <td>Mujeres</td>\n",
       "      <td>2016-1</td>\n",
       "      <td>305</td>\n",
       "      <td>2016</td>\n",
       "      <td>1</td>\n",
       "    </tr>\n",
       "    <tr>\n",
       "      <th>1047</th>\n",
       "      <td>Bogotá</td>\n",
       "      <td>Odontología</td>\n",
       "      <td>Pregrado</td>\n",
       "      <td>Mujeres</td>\n",
       "      <td>2016-2</td>\n",
       "      <td>311</td>\n",
       "      <td>2016</td>\n",
       "      <td>2</td>\n",
       "    </tr>\n",
       "    <tr>\n",
       "      <th>1048</th>\n",
       "      <td>Bogotá</td>\n",
       "      <td>Odontología</td>\n",
       "      <td>Pregrado</td>\n",
       "      <td>Mujeres</td>\n",
       "      <td>2017-1</td>\n",
       "      <td>311</td>\n",
       "      <td>2017</td>\n",
       "      <td>1</td>\n",
       "    </tr>\n",
       "    <tr>\n",
       "      <th>1049</th>\n",
       "      <td>Bogotá</td>\n",
       "      <td>Odontología</td>\n",
       "      <td>Pregrado</td>\n",
       "      <td>Mujeres</td>\n",
       "      <td>2017-2</td>\n",
       "      <td>303</td>\n",
       "      <td>2017</td>\n",
       "      <td>2</td>\n",
       "    </tr>\n",
       "    <tr>\n",
       "      <th>1050</th>\n",
       "      <td>Bogotá</td>\n",
       "      <td>Odontología</td>\n",
       "      <td>Pregrado</td>\n",
       "      <td>Mujeres</td>\n",
       "      <td>2018-1</td>\n",
       "      <td>298</td>\n",
       "      <td>2018</td>\n",
       "      <td>1</td>\n",
       "    </tr>\n",
       "    <tr>\n",
       "      <th>1051</th>\n",
       "      <td>Bogotá</td>\n",
       "      <td>Odontología</td>\n",
       "      <td>Pregrado</td>\n",
       "      <td>Mujeres</td>\n",
       "      <td>2018-2</td>\n",
       "      <td>295</td>\n",
       "      <td>2018</td>\n",
       "      <td>2</td>\n",
       "    </tr>\n",
       "    <tr>\n",
       "      <th>1052</th>\n",
       "      <td>Bogotá</td>\n",
       "      <td>Odontología</td>\n",
       "      <td>Pregrado</td>\n",
       "      <td>Mujeres</td>\n",
       "      <td>2019-1</td>\n",
       "      <td>298</td>\n",
       "      <td>2019</td>\n",
       "      <td>1</td>\n",
       "    </tr>\n",
       "    <tr>\n",
       "      <th>1053</th>\n",
       "      <td>Bogotá</td>\n",
       "      <td>Odontología</td>\n",
       "      <td>Pregrado</td>\n",
       "      <td>Mujeres</td>\n",
       "      <td>2019-2</td>\n",
       "      <td>301</td>\n",
       "      <td>2019</td>\n",
       "      <td>2</td>\n",
       "    </tr>\n",
       "    <tr>\n",
       "      <th>1054</th>\n",
       "      <td>Bogotá</td>\n",
       "      <td>Odontología</td>\n",
       "      <td>Pregrado</td>\n",
       "      <td>Mujeres</td>\n",
       "      <td>2020-1</td>\n",
       "      <td>314</td>\n",
       "      <td>2020</td>\n",
       "      <td>1</td>\n",
       "    </tr>\n",
       "    <tr>\n",
       "      <th>1055</th>\n",
       "      <td>Bogotá</td>\n",
       "      <td>Odontología</td>\n",
       "      <td>Pregrado</td>\n",
       "      <td>Mujeres</td>\n",
       "      <td>2020-2</td>\n",
       "      <td>332</td>\n",
       "      <td>2020</td>\n",
       "      <td>2</td>\n",
       "    </tr>\n",
       "  </tbody>\n",
       "</table>\n",
       "</div>"
      ],
      "text/plain": [
       "        Sede     Facultad     Grado     Sexo Periodo  Matriculados   Año  \\\n",
       "1046  Bogotá  Odontología  Pregrado  Mujeres  2016-1           305  2016   \n",
       "1047  Bogotá  Odontología  Pregrado  Mujeres  2016-2           311  2016   \n",
       "1048  Bogotá  Odontología  Pregrado  Mujeres  2017-1           311  2017   \n",
       "1049  Bogotá  Odontología  Pregrado  Mujeres  2017-2           303  2017   \n",
       "1050  Bogotá  Odontología  Pregrado  Mujeres  2018-1           298  2018   \n",
       "1051  Bogotá  Odontología  Pregrado  Mujeres  2018-2           295  2018   \n",
       "1052  Bogotá  Odontología  Pregrado  Mujeres  2019-1           298  2019   \n",
       "1053  Bogotá  Odontología  Pregrado  Mujeres  2019-2           301  2019   \n",
       "1054  Bogotá  Odontología  Pregrado  Mujeres  2020-1           314  2020   \n",
       "1055  Bogotá  Odontología  Pregrado  Mujeres  2020-2           332  2020   \n",
       "\n",
       "     Semestre_A  \n",
       "1046          1  \n",
       "1047          2  \n",
       "1048          1  \n",
       "1049          2  \n",
       "1050          1  \n",
       "1051          2  \n",
       "1052          1  \n",
       "1053          2  \n",
       "1054          1  \n",
       "1055          2  "
      ]
     },
     "execution_count": 8,
     "metadata": {},
     "output_type": "execute_result"
    }
   ],
   "source": [
    "#Verificando datos\n",
    "df_t.tail(10)"
   ]
  },
  {
   "cell_type": "markdown",
   "id": "f99b85b7",
   "metadata": {},
   "source": [
    "## Dando formato de fecha para crear las series de tiempo ##"
   ]
  },
  {
   "cell_type": "code",
   "execution_count": 9,
   "id": "8384a0e3",
   "metadata": {},
   "outputs": [
    {
     "data": {
      "text/html": [
       "<div>\n",
       "<style scoped>\n",
       "    .dataframe tbody tr th:only-of-type {\n",
       "        vertical-align: middle;\n",
       "    }\n",
       "\n",
       "    .dataframe tbody tr th {\n",
       "        vertical-align: top;\n",
       "    }\n",
       "\n",
       "    .dataframe thead th {\n",
       "        text-align: right;\n",
       "    }\n",
       "</style>\n",
       "<table border=\"1\" class=\"dataframe\">\n",
       "  <thead>\n",
       "    <tr style=\"text-align: right;\">\n",
       "      <th></th>\n",
       "      <th>Sede</th>\n",
       "      <th>Facultad</th>\n",
       "      <th>Grado</th>\n",
       "      <th>Sexo</th>\n",
       "      <th>Periodo</th>\n",
       "      <th>Matriculados</th>\n",
       "      <th>Año</th>\n",
       "      <th>Semestre_A</th>\n",
       "      <th>Fecha</th>\n",
       "      <th>Mes</th>\n",
       "    </tr>\n",
       "  </thead>\n",
       "  <tbody>\n",
       "    <tr>\n",
       "      <th>0</th>\n",
       "      <td>Bogotá</td>\n",
       "      <td>Artes</td>\n",
       "      <td>Posgrado</td>\n",
       "      <td>Hombres</td>\n",
       "      <td>2009-1</td>\n",
       "      <td>336</td>\n",
       "      <td>2009</td>\n",
       "      <td>1</td>\n",
       "      <td>2009-1</td>\n",
       "      <td>1</td>\n",
       "    </tr>\n",
       "    <tr>\n",
       "      <th>1</th>\n",
       "      <td>Bogotá</td>\n",
       "      <td>Artes</td>\n",
       "      <td>Posgrado</td>\n",
       "      <td>Hombres</td>\n",
       "      <td>2009-2</td>\n",
       "      <td>326</td>\n",
       "      <td>2009</td>\n",
       "      <td>2</td>\n",
       "      <td>2009-2</td>\n",
       "      <td>6</td>\n",
       "    </tr>\n",
       "    <tr>\n",
       "      <th>2</th>\n",
       "      <td>Bogotá</td>\n",
       "      <td>Artes</td>\n",
       "      <td>Posgrado</td>\n",
       "      <td>Hombres</td>\n",
       "      <td>2010-1</td>\n",
       "      <td>326</td>\n",
       "      <td>2010</td>\n",
       "      <td>1</td>\n",
       "      <td>2010-1</td>\n",
       "      <td>1</td>\n",
       "    </tr>\n",
       "    <tr>\n",
       "      <th>3</th>\n",
       "      <td>Bogotá</td>\n",
       "      <td>Artes</td>\n",
       "      <td>Posgrado</td>\n",
       "      <td>Hombres</td>\n",
       "      <td>2010-2</td>\n",
       "      <td>328</td>\n",
       "      <td>2010</td>\n",
       "      <td>2</td>\n",
       "      <td>2010-2</td>\n",
       "      <td>6</td>\n",
       "    </tr>\n",
       "    <tr>\n",
       "      <th>4</th>\n",
       "      <td>Bogotá</td>\n",
       "      <td>Artes</td>\n",
       "      <td>Posgrado</td>\n",
       "      <td>Hombres</td>\n",
       "      <td>2011-1</td>\n",
       "      <td>333</td>\n",
       "      <td>2011</td>\n",
       "      <td>1</td>\n",
       "      <td>2011-1</td>\n",
       "      <td>1</td>\n",
       "    </tr>\n",
       "    <tr>\n",
       "      <th>5</th>\n",
       "      <td>Bogotá</td>\n",
       "      <td>Artes</td>\n",
       "      <td>Posgrado</td>\n",
       "      <td>Hombres</td>\n",
       "      <td>2011-2</td>\n",
       "      <td>320</td>\n",
       "      <td>2011</td>\n",
       "      <td>2</td>\n",
       "      <td>2011-2</td>\n",
       "      <td>6</td>\n",
       "    </tr>\n",
       "    <tr>\n",
       "      <th>6</th>\n",
       "      <td>Bogotá</td>\n",
       "      <td>Artes</td>\n",
       "      <td>Posgrado</td>\n",
       "      <td>Hombres</td>\n",
       "      <td>2012-1</td>\n",
       "      <td>349</td>\n",
       "      <td>2012</td>\n",
       "      <td>1</td>\n",
       "      <td>2012-1</td>\n",
       "      <td>1</td>\n",
       "    </tr>\n",
       "    <tr>\n",
       "      <th>7</th>\n",
       "      <td>Bogotá</td>\n",
       "      <td>Artes</td>\n",
       "      <td>Posgrado</td>\n",
       "      <td>Hombres</td>\n",
       "      <td>2012-2</td>\n",
       "      <td>325</td>\n",
       "      <td>2012</td>\n",
       "      <td>2</td>\n",
       "      <td>2012-2</td>\n",
       "      <td>6</td>\n",
       "    </tr>\n",
       "    <tr>\n",
       "      <th>8</th>\n",
       "      <td>Bogotá</td>\n",
       "      <td>Artes</td>\n",
       "      <td>Posgrado</td>\n",
       "      <td>Hombres</td>\n",
       "      <td>2013-1</td>\n",
       "      <td>371</td>\n",
       "      <td>2013</td>\n",
       "      <td>1</td>\n",
       "      <td>2013-1</td>\n",
       "      <td>1</td>\n",
       "    </tr>\n",
       "    <tr>\n",
       "      <th>9</th>\n",
       "      <td>Bogotá</td>\n",
       "      <td>Artes</td>\n",
       "      <td>Posgrado</td>\n",
       "      <td>Hombres</td>\n",
       "      <td>2013-2</td>\n",
       "      <td>370</td>\n",
       "      <td>2013</td>\n",
       "      <td>2</td>\n",
       "      <td>2013-2</td>\n",
       "      <td>6</td>\n",
       "    </tr>\n",
       "  </tbody>\n",
       "</table>\n",
       "</div>"
      ],
      "text/plain": [
       "     Sede Facultad     Grado     Sexo Periodo  Matriculados   Año Semestre_A  \\\n",
       "0  Bogotá    Artes  Posgrado  Hombres  2009-1           336  2009          1   \n",
       "1  Bogotá    Artes  Posgrado  Hombres  2009-2           326  2009          2   \n",
       "2  Bogotá    Artes  Posgrado  Hombres  2010-1           326  2010          1   \n",
       "3  Bogotá    Artes  Posgrado  Hombres  2010-2           328  2010          2   \n",
       "4  Bogotá    Artes  Posgrado  Hombres  2011-1           333  2011          1   \n",
       "5  Bogotá    Artes  Posgrado  Hombres  2011-2           320  2011          2   \n",
       "6  Bogotá    Artes  Posgrado  Hombres  2012-1           349  2012          1   \n",
       "7  Bogotá    Artes  Posgrado  Hombres  2012-2           325  2012          2   \n",
       "8  Bogotá    Artes  Posgrado  Hombres  2013-1           371  2013          1   \n",
       "9  Bogotá    Artes  Posgrado  Hombres  2013-2           370  2013          2   \n",
       "\n",
       "    Fecha Mes  \n",
       "0  2009-1   1  \n",
       "1  2009-2   6  \n",
       "2  2010-1   1  \n",
       "3  2010-2   6  \n",
       "4  2011-1   1  \n",
       "5  2011-2   6  \n",
       "6  2012-1   1  \n",
       "7  2012-2   6  \n",
       "8  2013-1   1  \n",
       "9  2013-2   6  "
      ]
     },
     "execution_count": 9,
     "metadata": {},
     "output_type": "execute_result"
    }
   ],
   "source": [
    "\n",
    "#df_t.head()\n",
    "df_t['Fecha']=df_t['Periodo']\n",
    "df_t['Mes']= df_t['Semestre_A']\n",
    "#df_t.Mes.str.replace('2','6', case=None, flags=0, regex=None)\n",
    "df_t['Mes']=df_t['Mes'].map({'1':'1','2':'6'})\n",
    "df_t.head(10)"
   ]
  },
  {
   "cell_type": "code",
   "execution_count": 10,
   "id": "7f5f8fdb",
   "metadata": {},
   "outputs": [],
   "source": [
    "df_t['Fecha_c'] = df_t['Año']+'-'+df_t['Mes']"
   ]
  },
  {
   "cell_type": "code",
   "execution_count": 11,
   "id": "9a340b7b",
   "metadata": {},
   "outputs": [
    {
     "data": {
      "text/html": [
       "<div>\n",
       "<style scoped>\n",
       "    .dataframe tbody tr th:only-of-type {\n",
       "        vertical-align: middle;\n",
       "    }\n",
       "\n",
       "    .dataframe tbody tr th {\n",
       "        vertical-align: top;\n",
       "    }\n",
       "\n",
       "    .dataframe thead th {\n",
       "        text-align: right;\n",
       "    }\n",
       "</style>\n",
       "<table border=\"1\" class=\"dataframe\">\n",
       "  <thead>\n",
       "    <tr style=\"text-align: right;\">\n",
       "      <th></th>\n",
       "      <th>Sede</th>\n",
       "      <th>Facultad</th>\n",
       "      <th>Grado</th>\n",
       "      <th>Sexo</th>\n",
       "      <th>Periodo</th>\n",
       "      <th>Matriculados</th>\n",
       "      <th>Año</th>\n",
       "      <th>Semestre_A</th>\n",
       "      <th>Fecha</th>\n",
       "      <th>Mes</th>\n",
       "      <th>Fecha_c</th>\n",
       "    </tr>\n",
       "  </thead>\n",
       "  <tbody>\n",
       "    <tr>\n",
       "      <th>0</th>\n",
       "      <td>Bogotá</td>\n",
       "      <td>Artes</td>\n",
       "      <td>Posgrado</td>\n",
       "      <td>Hombres</td>\n",
       "      <td>2009-1</td>\n",
       "      <td>336</td>\n",
       "      <td>2009</td>\n",
       "      <td>1</td>\n",
       "      <td>2009-1</td>\n",
       "      <td>1</td>\n",
       "      <td>2009-01-01</td>\n",
       "    </tr>\n",
       "    <tr>\n",
       "      <th>1</th>\n",
       "      <td>Bogotá</td>\n",
       "      <td>Artes</td>\n",
       "      <td>Posgrado</td>\n",
       "      <td>Hombres</td>\n",
       "      <td>2009-2</td>\n",
       "      <td>326</td>\n",
       "      <td>2009</td>\n",
       "      <td>2</td>\n",
       "      <td>2009-2</td>\n",
       "      <td>6</td>\n",
       "      <td>2009-06-01</td>\n",
       "    </tr>\n",
       "    <tr>\n",
       "      <th>2</th>\n",
       "      <td>Bogotá</td>\n",
       "      <td>Artes</td>\n",
       "      <td>Posgrado</td>\n",
       "      <td>Hombres</td>\n",
       "      <td>2010-1</td>\n",
       "      <td>326</td>\n",
       "      <td>2010</td>\n",
       "      <td>1</td>\n",
       "      <td>2010-1</td>\n",
       "      <td>1</td>\n",
       "      <td>2010-01-01</td>\n",
       "    </tr>\n",
       "    <tr>\n",
       "      <th>3</th>\n",
       "      <td>Bogotá</td>\n",
       "      <td>Artes</td>\n",
       "      <td>Posgrado</td>\n",
       "      <td>Hombres</td>\n",
       "      <td>2010-2</td>\n",
       "      <td>328</td>\n",
       "      <td>2010</td>\n",
       "      <td>2</td>\n",
       "      <td>2010-2</td>\n",
       "      <td>6</td>\n",
       "      <td>2010-06-01</td>\n",
       "    </tr>\n",
       "    <tr>\n",
       "      <th>4</th>\n",
       "      <td>Bogotá</td>\n",
       "      <td>Artes</td>\n",
       "      <td>Posgrado</td>\n",
       "      <td>Hombres</td>\n",
       "      <td>2011-1</td>\n",
       "      <td>333</td>\n",
       "      <td>2011</td>\n",
       "      <td>1</td>\n",
       "      <td>2011-1</td>\n",
       "      <td>1</td>\n",
       "      <td>2011-01-01</td>\n",
       "    </tr>\n",
       "    <tr>\n",
       "      <th>5</th>\n",
       "      <td>Bogotá</td>\n",
       "      <td>Artes</td>\n",
       "      <td>Posgrado</td>\n",
       "      <td>Hombres</td>\n",
       "      <td>2011-2</td>\n",
       "      <td>320</td>\n",
       "      <td>2011</td>\n",
       "      <td>2</td>\n",
       "      <td>2011-2</td>\n",
       "      <td>6</td>\n",
       "      <td>2011-06-01</td>\n",
       "    </tr>\n",
       "    <tr>\n",
       "      <th>6</th>\n",
       "      <td>Bogotá</td>\n",
       "      <td>Artes</td>\n",
       "      <td>Posgrado</td>\n",
       "      <td>Hombres</td>\n",
       "      <td>2012-1</td>\n",
       "      <td>349</td>\n",
       "      <td>2012</td>\n",
       "      <td>1</td>\n",
       "      <td>2012-1</td>\n",
       "      <td>1</td>\n",
       "      <td>2012-01-01</td>\n",
       "    </tr>\n",
       "    <tr>\n",
       "      <th>7</th>\n",
       "      <td>Bogotá</td>\n",
       "      <td>Artes</td>\n",
       "      <td>Posgrado</td>\n",
       "      <td>Hombres</td>\n",
       "      <td>2012-2</td>\n",
       "      <td>325</td>\n",
       "      <td>2012</td>\n",
       "      <td>2</td>\n",
       "      <td>2012-2</td>\n",
       "      <td>6</td>\n",
       "      <td>2012-06-01</td>\n",
       "    </tr>\n",
       "    <tr>\n",
       "      <th>8</th>\n",
       "      <td>Bogotá</td>\n",
       "      <td>Artes</td>\n",
       "      <td>Posgrado</td>\n",
       "      <td>Hombres</td>\n",
       "      <td>2013-1</td>\n",
       "      <td>371</td>\n",
       "      <td>2013</td>\n",
       "      <td>1</td>\n",
       "      <td>2013-1</td>\n",
       "      <td>1</td>\n",
       "      <td>2013-01-01</td>\n",
       "    </tr>\n",
       "    <tr>\n",
       "      <th>9</th>\n",
       "      <td>Bogotá</td>\n",
       "      <td>Artes</td>\n",
       "      <td>Posgrado</td>\n",
       "      <td>Hombres</td>\n",
       "      <td>2013-2</td>\n",
       "      <td>370</td>\n",
       "      <td>2013</td>\n",
       "      <td>2</td>\n",
       "      <td>2013-2</td>\n",
       "      <td>6</td>\n",
       "      <td>2013-06-01</td>\n",
       "    </tr>\n",
       "  </tbody>\n",
       "</table>\n",
       "</div>"
      ],
      "text/plain": [
       "     Sede Facultad     Grado     Sexo Periodo  Matriculados   Año Semestre_A  \\\n",
       "0  Bogotá    Artes  Posgrado  Hombres  2009-1           336  2009          1   \n",
       "1  Bogotá    Artes  Posgrado  Hombres  2009-2           326  2009          2   \n",
       "2  Bogotá    Artes  Posgrado  Hombres  2010-1           326  2010          1   \n",
       "3  Bogotá    Artes  Posgrado  Hombres  2010-2           328  2010          2   \n",
       "4  Bogotá    Artes  Posgrado  Hombres  2011-1           333  2011          1   \n",
       "5  Bogotá    Artes  Posgrado  Hombres  2011-2           320  2011          2   \n",
       "6  Bogotá    Artes  Posgrado  Hombres  2012-1           349  2012          1   \n",
       "7  Bogotá    Artes  Posgrado  Hombres  2012-2           325  2012          2   \n",
       "8  Bogotá    Artes  Posgrado  Hombres  2013-1           371  2013          1   \n",
       "9  Bogotá    Artes  Posgrado  Hombres  2013-2           370  2013          2   \n",
       "\n",
       "    Fecha Mes    Fecha_c  \n",
       "0  2009-1   1 2009-01-01  \n",
       "1  2009-2   6 2009-06-01  \n",
       "2  2010-1   1 2010-01-01  \n",
       "3  2010-2   6 2010-06-01  \n",
       "4  2011-1   1 2011-01-01  \n",
       "5  2011-2   6 2011-06-01  \n",
       "6  2012-1   1 2012-01-01  \n",
       "7  2012-2   6 2012-06-01  \n",
       "8  2013-1   1 2013-01-01  \n",
       "9  2013-2   6 2013-06-01  "
      ]
     },
     "execution_count": 11,
     "metadata": {},
     "output_type": "execute_result"
    }
   ],
   "source": [
    "#creando el campo de fecha a usar en las series\n",
    "df_t['Fecha_c'] = pd.to_datetime(df_t['Fecha_c'])\n",
    "df_t.head(10)"
   ]
  },
  {
   "cell_type": "markdown",
   "id": "b83caa62",
   "metadata": {},
   "source": [
    "## Dando formato a los demas campos del dataframe ##"
   ]
  },
  {
   "cell_type": "code",
   "execution_count": 12,
   "id": "e34da8b7",
   "metadata": {},
   "outputs": [
    {
     "data": {
      "text/html": [
       "<div>\n",
       "<style scoped>\n",
       "    .dataframe tbody tr th:only-of-type {\n",
       "        vertical-align: middle;\n",
       "    }\n",
       "\n",
       "    .dataframe tbody tr th {\n",
       "        vertical-align: top;\n",
       "    }\n",
       "\n",
       "    .dataframe thead th {\n",
       "        text-align: right;\n",
       "    }\n",
       "</style>\n",
       "<table border=\"1\" class=\"dataframe\">\n",
       "  <thead>\n",
       "    <tr style=\"text-align: right;\">\n",
       "      <th></th>\n",
       "      <th>Sede</th>\n",
       "      <th>Facultad</th>\n",
       "      <th>Grado</th>\n",
       "      <th>Sexo</th>\n",
       "      <th>Periodo</th>\n",
       "      <th>Matriculados</th>\n",
       "      <th>Año</th>\n",
       "      <th>Semestre_A</th>\n",
       "      <th>Fecha</th>\n",
       "      <th>Mes</th>\n",
       "      <th>Fecha_c</th>\n",
       "    </tr>\n",
       "  </thead>\n",
       "  <tbody>\n",
       "    <tr>\n",
       "      <th>0</th>\n",
       "      <td>Bogotá</td>\n",
       "      <td>Artes</td>\n",
       "      <td>Posgrado</td>\n",
       "      <td>Hombres</td>\n",
       "      <td>2009-1</td>\n",
       "      <td>336</td>\n",
       "      <td>2009</td>\n",
       "      <td>1</td>\n",
       "      <td>2009-1</td>\n",
       "      <td>1</td>\n",
       "      <td>2009-01-01</td>\n",
       "    </tr>\n",
       "    <tr>\n",
       "      <th>1</th>\n",
       "      <td>Bogotá</td>\n",
       "      <td>Artes</td>\n",
       "      <td>Posgrado</td>\n",
       "      <td>Hombres</td>\n",
       "      <td>2009-2</td>\n",
       "      <td>326</td>\n",
       "      <td>2009</td>\n",
       "      <td>2</td>\n",
       "      <td>2009-2</td>\n",
       "      <td>6</td>\n",
       "      <td>2009-06-01</td>\n",
       "    </tr>\n",
       "    <tr>\n",
       "      <th>2</th>\n",
       "      <td>Bogotá</td>\n",
       "      <td>Artes</td>\n",
       "      <td>Posgrado</td>\n",
       "      <td>Hombres</td>\n",
       "      <td>2010-1</td>\n",
       "      <td>326</td>\n",
       "      <td>2010</td>\n",
       "      <td>1</td>\n",
       "      <td>2010-1</td>\n",
       "      <td>1</td>\n",
       "      <td>2010-01-01</td>\n",
       "    </tr>\n",
       "    <tr>\n",
       "      <th>3</th>\n",
       "      <td>Bogotá</td>\n",
       "      <td>Artes</td>\n",
       "      <td>Posgrado</td>\n",
       "      <td>Hombres</td>\n",
       "      <td>2010-2</td>\n",
       "      <td>328</td>\n",
       "      <td>2010</td>\n",
       "      <td>2</td>\n",
       "      <td>2010-2</td>\n",
       "      <td>6</td>\n",
       "      <td>2010-06-01</td>\n",
       "    </tr>\n",
       "    <tr>\n",
       "      <th>4</th>\n",
       "      <td>Bogotá</td>\n",
       "      <td>Artes</td>\n",
       "      <td>Posgrado</td>\n",
       "      <td>Hombres</td>\n",
       "      <td>2011-1</td>\n",
       "      <td>333</td>\n",
       "      <td>2011</td>\n",
       "      <td>1</td>\n",
       "      <td>2011-1</td>\n",
       "      <td>1</td>\n",
       "      <td>2011-01-01</td>\n",
       "    </tr>\n",
       "    <tr>\n",
       "      <th>5</th>\n",
       "      <td>Bogotá</td>\n",
       "      <td>Artes</td>\n",
       "      <td>Posgrado</td>\n",
       "      <td>Hombres</td>\n",
       "      <td>2011-2</td>\n",
       "      <td>320</td>\n",
       "      <td>2011</td>\n",
       "      <td>2</td>\n",
       "      <td>2011-2</td>\n",
       "      <td>6</td>\n",
       "      <td>2011-06-01</td>\n",
       "    </tr>\n",
       "    <tr>\n",
       "      <th>6</th>\n",
       "      <td>Bogotá</td>\n",
       "      <td>Artes</td>\n",
       "      <td>Posgrado</td>\n",
       "      <td>Hombres</td>\n",
       "      <td>2012-1</td>\n",
       "      <td>349</td>\n",
       "      <td>2012</td>\n",
       "      <td>1</td>\n",
       "      <td>2012-1</td>\n",
       "      <td>1</td>\n",
       "      <td>2012-01-01</td>\n",
       "    </tr>\n",
       "    <tr>\n",
       "      <th>7</th>\n",
       "      <td>Bogotá</td>\n",
       "      <td>Artes</td>\n",
       "      <td>Posgrado</td>\n",
       "      <td>Hombres</td>\n",
       "      <td>2012-2</td>\n",
       "      <td>325</td>\n",
       "      <td>2012</td>\n",
       "      <td>2</td>\n",
       "      <td>2012-2</td>\n",
       "      <td>6</td>\n",
       "      <td>2012-06-01</td>\n",
       "    </tr>\n",
       "    <tr>\n",
       "      <th>8</th>\n",
       "      <td>Bogotá</td>\n",
       "      <td>Artes</td>\n",
       "      <td>Posgrado</td>\n",
       "      <td>Hombres</td>\n",
       "      <td>2013-1</td>\n",
       "      <td>371</td>\n",
       "      <td>2013</td>\n",
       "      <td>1</td>\n",
       "      <td>2013-1</td>\n",
       "      <td>1</td>\n",
       "      <td>2013-01-01</td>\n",
       "    </tr>\n",
       "    <tr>\n",
       "      <th>9</th>\n",
       "      <td>Bogotá</td>\n",
       "      <td>Artes</td>\n",
       "      <td>Posgrado</td>\n",
       "      <td>Hombres</td>\n",
       "      <td>2013-2</td>\n",
       "      <td>370</td>\n",
       "      <td>2013</td>\n",
       "      <td>2</td>\n",
       "      <td>2013-2</td>\n",
       "      <td>6</td>\n",
       "      <td>2013-06-01</td>\n",
       "    </tr>\n",
       "  </tbody>\n",
       "</table>\n",
       "</div>"
      ],
      "text/plain": [
       "     Sede Facultad     Grado     Sexo Periodo  Matriculados   Año Semestre_A  \\\n",
       "0  Bogotá    Artes  Posgrado  Hombres  2009-1           336  2009          1   \n",
       "1  Bogotá    Artes  Posgrado  Hombres  2009-2           326  2009          2   \n",
       "2  Bogotá    Artes  Posgrado  Hombres  2010-1           326  2010          1   \n",
       "3  Bogotá    Artes  Posgrado  Hombres  2010-2           328  2010          2   \n",
       "4  Bogotá    Artes  Posgrado  Hombres  2011-1           333  2011          1   \n",
       "5  Bogotá    Artes  Posgrado  Hombres  2011-2           320  2011          2   \n",
       "6  Bogotá    Artes  Posgrado  Hombres  2012-1           349  2012          1   \n",
       "7  Bogotá    Artes  Posgrado  Hombres  2012-2           325  2012          2   \n",
       "8  Bogotá    Artes  Posgrado  Hombres  2013-1           371  2013          1   \n",
       "9  Bogotá    Artes  Posgrado  Hombres  2013-2           370  2013          2   \n",
       "\n",
       "    Fecha Mes    Fecha_c  \n",
       "0  2009-1   1 2009-01-01  \n",
       "1  2009-2   6 2009-06-01  \n",
       "2  2010-1   1 2010-01-01  \n",
       "3  2010-2   6 2010-06-01  \n",
       "4  2011-1   1 2011-01-01  \n",
       "5  2011-2   6 2011-06-01  \n",
       "6  2012-1   1 2012-01-01  \n",
       "7  2012-2   6 2012-06-01  \n",
       "8  2013-1   1 2013-01-01  \n",
       "9  2013-2   6 2013-06-01  "
      ]
     },
     "execution_count": 12,
     "metadata": {},
     "output_type": "execute_result"
    }
   ],
   "source": [
    "df_t[\"Facultad\"] = df_t[\"Facultad\"].astype('category')\n",
    "df_t[\"Grado\"] = df_t[\"Grado\"].astype('category')\n",
    "df_t[\"Matriculados\"] = df_t[\"Matriculados\"].astype('int')\n",
    "df_t[\"Año\"] = df_t[\"Año\"].astype('int')\n",
    "\n",
    "\n",
    "#Verificando datos \n",
    "df_t.head(10)"
   ]
  },
  {
   "cell_type": "code",
   "execution_count": 13,
   "id": "1cb32fd5",
   "metadata": {},
   "outputs": [
    {
     "name": "stdout",
     "output_type": "stream",
     "text": [
      "<class 'pandas.core.frame.DataFrame'>\n",
      "RangeIndex: 1056 entries, 0 to 1055\n",
      "Data columns (total 11 columns):\n",
      " #   Column        Non-Null Count  Dtype         \n",
      "---  ------        --------------  -----         \n",
      " 0   Sede          1056 non-null   string        \n",
      " 1   Facultad      1056 non-null   category      \n",
      " 2   Grado         1056 non-null   category      \n",
      " 3   Sexo          1056 non-null   string        \n",
      " 4   Periodo       1056 non-null   string        \n",
      " 5   Matriculados  1056 non-null   int32         \n",
      " 6   Año           1056 non-null   int32         \n",
      " 7   Semestre_A    1056 non-null   string        \n",
      " 8   Fecha         1056 non-null   string        \n",
      " 9   Mes           1056 non-null   object        \n",
      " 10  Fecha_c       1056 non-null   datetime64[ns]\n",
      "dtypes: category(2), datetime64[ns](1), int32(2), object(1), string(5)\n",
      "memory usage: 68.7+ KB\n"
     ]
    }
   ],
   "source": [
    "#Verificando datos\n",
    "df_t.info()"
   ]
  },
  {
   "cell_type": "code",
   "execution_count": 62,
   "id": "8732e76e",
   "metadata": {},
   "outputs": [
    {
     "name": "stdout",
     "output_type": "stream",
     "text": [
      "['Artes', 'C. Agrarias', 'C. Económicas', 'C. Humanas', 'Ciencias', ..., 'Enfermería', 'Ingeniería', 'Med. veterinaria y de Zootecnia', 'Medicina', 'Odontología']\n",
      "Length: 11\n",
      "Categories (11, string): [Artes, C. Agrarias, C. Económicas, C. Humanas, ..., Ingeniería, Med. veterinaria y de Zootecnia, Medicina, Odontología]\n"
     ]
    }
   ],
   "source": [
    "print(df_t.Facultad.unique())"
   ]
  },
  {
   "cell_type": "markdown",
   "id": "7896dce1",
   "metadata": {},
   "source": [
    "# Filtros generales de datos para obtener Dataframes para crear series de tiempo por facultades, género, grado y periodo #"
   ]
  },
  {
   "cell_type": "code",
   "execution_count": 14,
   "id": "21a931b1",
   "metadata": {},
   "outputs": [
    {
     "data": {
      "text/html": [
       "<div>\n",
       "<style scoped>\n",
       "    .dataframe tbody tr th:only-of-type {\n",
       "        vertical-align: middle;\n",
       "    }\n",
       "\n",
       "    .dataframe tbody tr th {\n",
       "        vertical-align: top;\n",
       "    }\n",
       "\n",
       "    .dataframe thead th {\n",
       "        text-align: right;\n",
       "    }\n",
       "</style>\n",
       "<table border=\"1\" class=\"dataframe\">\n",
       "  <thead>\n",
       "    <tr style=\"text-align: right;\">\n",
       "      <th></th>\n",
       "      <th>Sede</th>\n",
       "      <th>Facultad</th>\n",
       "      <th>Grado</th>\n",
       "      <th>Sexo</th>\n",
       "      <th>Periodo</th>\n",
       "      <th>Matriculados</th>\n",
       "      <th>Año</th>\n",
       "      <th>Semestre_A</th>\n",
       "      <th>Fecha</th>\n",
       "      <th>Mes</th>\n",
       "      <th>Fecha_c</th>\n",
       "    </tr>\n",
       "  </thead>\n",
       "  <tbody>\n",
       "    <tr>\n",
       "      <th>24</th>\n",
       "      <td>Bogotá</td>\n",
       "      <td>Artes</td>\n",
       "      <td>Posgrado</td>\n",
       "      <td>Mujeres</td>\n",
       "      <td>2009-1</td>\n",
       "      <td>219</td>\n",
       "      <td>2009</td>\n",
       "      <td>1</td>\n",
       "      <td>2009-1</td>\n",
       "      <td>1</td>\n",
       "      <td>2009-01-01</td>\n",
       "    </tr>\n",
       "    <tr>\n",
       "      <th>25</th>\n",
       "      <td>Bogotá</td>\n",
       "      <td>Artes</td>\n",
       "      <td>Posgrado</td>\n",
       "      <td>Mujeres</td>\n",
       "      <td>2009-2</td>\n",
       "      <td>239</td>\n",
       "      <td>2009</td>\n",
       "      <td>2</td>\n",
       "      <td>2009-2</td>\n",
       "      <td>6</td>\n",
       "      <td>2009-06-01</td>\n",
       "    </tr>\n",
       "    <tr>\n",
       "      <th>26</th>\n",
       "      <td>Bogotá</td>\n",
       "      <td>Artes</td>\n",
       "      <td>Posgrado</td>\n",
       "      <td>Mujeres</td>\n",
       "      <td>2010-1</td>\n",
       "      <td>230</td>\n",
       "      <td>2010</td>\n",
       "      <td>1</td>\n",
       "      <td>2010-1</td>\n",
       "      <td>1</td>\n",
       "      <td>2010-01-01</td>\n",
       "    </tr>\n",
       "    <tr>\n",
       "      <th>27</th>\n",
       "      <td>Bogotá</td>\n",
       "      <td>Artes</td>\n",
       "      <td>Posgrado</td>\n",
       "      <td>Mujeres</td>\n",
       "      <td>2010-2</td>\n",
       "      <td>231</td>\n",
       "      <td>2010</td>\n",
       "      <td>2</td>\n",
       "      <td>2010-2</td>\n",
       "      <td>6</td>\n",
       "      <td>2010-06-01</td>\n",
       "    </tr>\n",
       "    <tr>\n",
       "      <th>28</th>\n",
       "      <td>Bogotá</td>\n",
       "      <td>Artes</td>\n",
       "      <td>Posgrado</td>\n",
       "      <td>Mujeres</td>\n",
       "      <td>2011-1</td>\n",
       "      <td>253</td>\n",
       "      <td>2011</td>\n",
       "      <td>1</td>\n",
       "      <td>2011-1</td>\n",
       "      <td>1</td>\n",
       "      <td>2011-01-01</td>\n",
       "    </tr>\n",
       "    <tr>\n",
       "      <th>29</th>\n",
       "      <td>Bogotá</td>\n",
       "      <td>Artes</td>\n",
       "      <td>Posgrado</td>\n",
       "      <td>Mujeres</td>\n",
       "      <td>2011-2</td>\n",
       "      <td>243</td>\n",
       "      <td>2011</td>\n",
       "      <td>2</td>\n",
       "      <td>2011-2</td>\n",
       "      <td>6</td>\n",
       "      <td>2011-06-01</td>\n",
       "    </tr>\n",
       "    <tr>\n",
       "      <th>30</th>\n",
       "      <td>Bogotá</td>\n",
       "      <td>Artes</td>\n",
       "      <td>Posgrado</td>\n",
       "      <td>Mujeres</td>\n",
       "      <td>2012-1</td>\n",
       "      <td>239</td>\n",
       "      <td>2012</td>\n",
       "      <td>1</td>\n",
       "      <td>2012-1</td>\n",
       "      <td>1</td>\n",
       "      <td>2012-01-01</td>\n",
       "    </tr>\n",
       "    <tr>\n",
       "      <th>31</th>\n",
       "      <td>Bogotá</td>\n",
       "      <td>Artes</td>\n",
       "      <td>Posgrado</td>\n",
       "      <td>Mujeres</td>\n",
       "      <td>2012-2</td>\n",
       "      <td>229</td>\n",
       "      <td>2012</td>\n",
       "      <td>2</td>\n",
       "      <td>2012-2</td>\n",
       "      <td>6</td>\n",
       "      <td>2012-06-01</td>\n",
       "    </tr>\n",
       "    <tr>\n",
       "      <th>32</th>\n",
       "      <td>Bogotá</td>\n",
       "      <td>Artes</td>\n",
       "      <td>Posgrado</td>\n",
       "      <td>Mujeres</td>\n",
       "      <td>2013-1</td>\n",
       "      <td>248</td>\n",
       "      <td>2013</td>\n",
       "      <td>1</td>\n",
       "      <td>2013-1</td>\n",
       "      <td>1</td>\n",
       "      <td>2013-01-01</td>\n",
       "    </tr>\n",
       "    <tr>\n",
       "      <th>33</th>\n",
       "      <td>Bogotá</td>\n",
       "      <td>Artes</td>\n",
       "      <td>Posgrado</td>\n",
       "      <td>Mujeres</td>\n",
       "      <td>2013-2</td>\n",
       "      <td>238</td>\n",
       "      <td>2013</td>\n",
       "      <td>2</td>\n",
       "      <td>2013-2</td>\n",
       "      <td>6</td>\n",
       "      <td>2013-06-01</td>\n",
       "    </tr>\n",
       "  </tbody>\n",
       "</table>\n",
       "</div>"
      ],
      "text/plain": [
       "      Sede Facultad     Grado     Sexo Periodo  Matriculados   Año Semestre_A  \\\n",
       "24  Bogotá    Artes  Posgrado  Mujeres  2009-1           219  2009          1   \n",
       "25  Bogotá    Artes  Posgrado  Mujeres  2009-2           239  2009          2   \n",
       "26  Bogotá    Artes  Posgrado  Mujeres  2010-1           230  2010          1   \n",
       "27  Bogotá    Artes  Posgrado  Mujeres  2010-2           231  2010          2   \n",
       "28  Bogotá    Artes  Posgrado  Mujeres  2011-1           253  2011          1   \n",
       "29  Bogotá    Artes  Posgrado  Mujeres  2011-2           243  2011          2   \n",
       "30  Bogotá    Artes  Posgrado  Mujeres  2012-1           239  2012          1   \n",
       "31  Bogotá    Artes  Posgrado  Mujeres  2012-2           229  2012          2   \n",
       "32  Bogotá    Artes  Posgrado  Mujeres  2013-1           248  2013          1   \n",
       "33  Bogotá    Artes  Posgrado  Mujeres  2013-2           238  2013          2   \n",
       "\n",
       "     Fecha Mes    Fecha_c  \n",
       "24  2009-1   1 2009-01-01  \n",
       "25  2009-2   6 2009-06-01  \n",
       "26  2010-1   1 2010-01-01  \n",
       "27  2010-2   6 2010-06-01  \n",
       "28  2011-1   1 2011-01-01  \n",
       "29  2011-2   6 2011-06-01  \n",
       "30  2012-1   1 2012-01-01  \n",
       "31  2012-2   6 2012-06-01  \n",
       "32  2013-1   1 2013-01-01  \n",
       "33  2013-2   6 2013-06-01  "
      ]
     },
     "execution_count": 14,
     "metadata": {},
     "output_type": "execute_result"
    }
   ],
   "source": [
    "#filtro por mujer \n",
    "df_t_M = df_t.loc[df_t['Sexo'] == \"Mujeres\"]\n",
    "df_t_M.head(10)"
   ]
  },
  {
   "cell_type": "code",
   "execution_count": 15,
   "id": "7820d391",
   "metadata": {},
   "outputs": [
    {
     "data": {
      "text/html": [
       "<div>\n",
       "<style scoped>\n",
       "    .dataframe tbody tr th:only-of-type {\n",
       "        vertical-align: middle;\n",
       "    }\n",
       "\n",
       "    .dataframe tbody tr th {\n",
       "        vertical-align: top;\n",
       "    }\n",
       "\n",
       "    .dataframe thead th {\n",
       "        text-align: right;\n",
       "    }\n",
       "</style>\n",
       "<table border=\"1\" class=\"dataframe\">\n",
       "  <thead>\n",
       "    <tr style=\"text-align: right;\">\n",
       "      <th></th>\n",
       "      <th>Sede</th>\n",
       "      <th>Facultad</th>\n",
       "      <th>Grado</th>\n",
       "      <th>Sexo</th>\n",
       "      <th>Periodo</th>\n",
       "      <th>Matriculados</th>\n",
       "      <th>Año</th>\n",
       "      <th>Semestre_A</th>\n",
       "      <th>Fecha</th>\n",
       "      <th>Mes</th>\n",
       "      <th>Fecha_c</th>\n",
       "    </tr>\n",
       "  </thead>\n",
       "  <tbody>\n",
       "    <tr>\n",
       "      <th>0</th>\n",
       "      <td>Bogotá</td>\n",
       "      <td>Artes</td>\n",
       "      <td>Posgrado</td>\n",
       "      <td>Hombres</td>\n",
       "      <td>2009-1</td>\n",
       "      <td>336</td>\n",
       "      <td>2009</td>\n",
       "      <td>1</td>\n",
       "      <td>2009-1</td>\n",
       "      <td>1</td>\n",
       "      <td>2009-01-01</td>\n",
       "    </tr>\n",
       "    <tr>\n",
       "      <th>1</th>\n",
       "      <td>Bogotá</td>\n",
       "      <td>Artes</td>\n",
       "      <td>Posgrado</td>\n",
       "      <td>Hombres</td>\n",
       "      <td>2009-2</td>\n",
       "      <td>326</td>\n",
       "      <td>2009</td>\n",
       "      <td>2</td>\n",
       "      <td>2009-2</td>\n",
       "      <td>6</td>\n",
       "      <td>2009-06-01</td>\n",
       "    </tr>\n",
       "    <tr>\n",
       "      <th>2</th>\n",
       "      <td>Bogotá</td>\n",
       "      <td>Artes</td>\n",
       "      <td>Posgrado</td>\n",
       "      <td>Hombres</td>\n",
       "      <td>2010-1</td>\n",
       "      <td>326</td>\n",
       "      <td>2010</td>\n",
       "      <td>1</td>\n",
       "      <td>2010-1</td>\n",
       "      <td>1</td>\n",
       "      <td>2010-01-01</td>\n",
       "    </tr>\n",
       "    <tr>\n",
       "      <th>3</th>\n",
       "      <td>Bogotá</td>\n",
       "      <td>Artes</td>\n",
       "      <td>Posgrado</td>\n",
       "      <td>Hombres</td>\n",
       "      <td>2010-2</td>\n",
       "      <td>328</td>\n",
       "      <td>2010</td>\n",
       "      <td>2</td>\n",
       "      <td>2010-2</td>\n",
       "      <td>6</td>\n",
       "      <td>2010-06-01</td>\n",
       "    </tr>\n",
       "    <tr>\n",
       "      <th>4</th>\n",
       "      <td>Bogotá</td>\n",
       "      <td>Artes</td>\n",
       "      <td>Posgrado</td>\n",
       "      <td>Hombres</td>\n",
       "      <td>2011-1</td>\n",
       "      <td>333</td>\n",
       "      <td>2011</td>\n",
       "      <td>1</td>\n",
       "      <td>2011-1</td>\n",
       "      <td>1</td>\n",
       "      <td>2011-01-01</td>\n",
       "    </tr>\n",
       "    <tr>\n",
       "      <th>5</th>\n",
       "      <td>Bogotá</td>\n",
       "      <td>Artes</td>\n",
       "      <td>Posgrado</td>\n",
       "      <td>Hombres</td>\n",
       "      <td>2011-2</td>\n",
       "      <td>320</td>\n",
       "      <td>2011</td>\n",
       "      <td>2</td>\n",
       "      <td>2011-2</td>\n",
       "      <td>6</td>\n",
       "      <td>2011-06-01</td>\n",
       "    </tr>\n",
       "    <tr>\n",
       "      <th>6</th>\n",
       "      <td>Bogotá</td>\n",
       "      <td>Artes</td>\n",
       "      <td>Posgrado</td>\n",
       "      <td>Hombres</td>\n",
       "      <td>2012-1</td>\n",
       "      <td>349</td>\n",
       "      <td>2012</td>\n",
       "      <td>1</td>\n",
       "      <td>2012-1</td>\n",
       "      <td>1</td>\n",
       "      <td>2012-01-01</td>\n",
       "    </tr>\n",
       "    <tr>\n",
       "      <th>7</th>\n",
       "      <td>Bogotá</td>\n",
       "      <td>Artes</td>\n",
       "      <td>Posgrado</td>\n",
       "      <td>Hombres</td>\n",
       "      <td>2012-2</td>\n",
       "      <td>325</td>\n",
       "      <td>2012</td>\n",
       "      <td>2</td>\n",
       "      <td>2012-2</td>\n",
       "      <td>6</td>\n",
       "      <td>2012-06-01</td>\n",
       "    </tr>\n",
       "    <tr>\n",
       "      <th>8</th>\n",
       "      <td>Bogotá</td>\n",
       "      <td>Artes</td>\n",
       "      <td>Posgrado</td>\n",
       "      <td>Hombres</td>\n",
       "      <td>2013-1</td>\n",
       "      <td>371</td>\n",
       "      <td>2013</td>\n",
       "      <td>1</td>\n",
       "      <td>2013-1</td>\n",
       "      <td>1</td>\n",
       "      <td>2013-01-01</td>\n",
       "    </tr>\n",
       "    <tr>\n",
       "      <th>9</th>\n",
       "      <td>Bogotá</td>\n",
       "      <td>Artes</td>\n",
       "      <td>Posgrado</td>\n",
       "      <td>Hombres</td>\n",
       "      <td>2013-2</td>\n",
       "      <td>370</td>\n",
       "      <td>2013</td>\n",
       "      <td>2</td>\n",
       "      <td>2013-2</td>\n",
       "      <td>6</td>\n",
       "      <td>2013-06-01</td>\n",
       "    </tr>\n",
       "  </tbody>\n",
       "</table>\n",
       "</div>"
      ],
      "text/plain": [
       "     Sede Facultad     Grado     Sexo Periodo  Matriculados   Año Semestre_A  \\\n",
       "0  Bogotá    Artes  Posgrado  Hombres  2009-1           336  2009          1   \n",
       "1  Bogotá    Artes  Posgrado  Hombres  2009-2           326  2009          2   \n",
       "2  Bogotá    Artes  Posgrado  Hombres  2010-1           326  2010          1   \n",
       "3  Bogotá    Artes  Posgrado  Hombres  2010-2           328  2010          2   \n",
       "4  Bogotá    Artes  Posgrado  Hombres  2011-1           333  2011          1   \n",
       "5  Bogotá    Artes  Posgrado  Hombres  2011-2           320  2011          2   \n",
       "6  Bogotá    Artes  Posgrado  Hombres  2012-1           349  2012          1   \n",
       "7  Bogotá    Artes  Posgrado  Hombres  2012-2           325  2012          2   \n",
       "8  Bogotá    Artes  Posgrado  Hombres  2013-1           371  2013          1   \n",
       "9  Bogotá    Artes  Posgrado  Hombres  2013-2           370  2013          2   \n",
       "\n",
       "    Fecha Mes    Fecha_c  \n",
       "0  2009-1   1 2009-01-01  \n",
       "1  2009-2   6 2009-06-01  \n",
       "2  2010-1   1 2010-01-01  \n",
       "3  2010-2   6 2010-06-01  \n",
       "4  2011-1   1 2011-01-01  \n",
       "5  2011-2   6 2011-06-01  \n",
       "6  2012-1   1 2012-01-01  \n",
       "7  2012-2   6 2012-06-01  \n",
       "8  2013-1   1 2013-01-01  \n",
       "9  2013-2   6 2013-06-01  "
      ]
     },
     "execution_count": 15,
     "metadata": {},
     "output_type": "execute_result"
    }
   ],
   "source": [
    "#filtro por Hombre\n",
    "df_t_H = df_t.loc[df_t['Sexo'] == \"Hombres\"]\n",
    "df_t_H.head(10)"
   ]
  },
  {
   "cell_type": "code",
   "execution_count": 16,
   "id": "1fcc753a",
   "metadata": {},
   "outputs": [],
   "source": [
    "## Filtro facultad de Artes, Pregado, mujeres ##"
   ]
  },
  {
   "cell_type": "code",
   "execution_count": 17,
   "id": "dd27278f",
   "metadata": {},
   "outputs": [
    {
     "data": {
      "text/html": [
       "<div>\n",
       "<style scoped>\n",
       "    .dataframe tbody tr th:only-of-type {\n",
       "        vertical-align: middle;\n",
       "    }\n",
       "\n",
       "    .dataframe tbody tr th {\n",
       "        vertical-align: top;\n",
       "    }\n",
       "\n",
       "    .dataframe thead th {\n",
       "        text-align: right;\n",
       "    }\n",
       "</style>\n",
       "<table border=\"1\" class=\"dataframe\">\n",
       "  <thead>\n",
       "    <tr style=\"text-align: right;\">\n",
       "      <th></th>\n",
       "      <th>Sede</th>\n",
       "      <th>Facultad</th>\n",
       "      <th>Grado</th>\n",
       "      <th>Sexo</th>\n",
       "      <th>Periodo</th>\n",
       "      <th>Matriculados</th>\n",
       "      <th>Año</th>\n",
       "      <th>Semestre_A</th>\n",
       "      <th>Fecha</th>\n",
       "      <th>Mes</th>\n",
       "      <th>Fecha_c</th>\n",
       "    </tr>\n",
       "  </thead>\n",
       "  <tbody>\n",
       "    <tr>\n",
       "      <th>86</th>\n",
       "      <td>Bogotá</td>\n",
       "      <td>Artes</td>\n",
       "      <td>Pregrado</td>\n",
       "      <td>Mujeres</td>\n",
       "      <td>2016-1</td>\n",
       "      <td>766</td>\n",
       "      <td>2016</td>\n",
       "      <td>1</td>\n",
       "      <td>2016-1</td>\n",
       "      <td>1</td>\n",
       "      <td>2016-01-01</td>\n",
       "    </tr>\n",
       "    <tr>\n",
       "      <th>87</th>\n",
       "      <td>Bogotá</td>\n",
       "      <td>Artes</td>\n",
       "      <td>Pregrado</td>\n",
       "      <td>Mujeres</td>\n",
       "      <td>2016-2</td>\n",
       "      <td>772</td>\n",
       "      <td>2016</td>\n",
       "      <td>2</td>\n",
       "      <td>2016-2</td>\n",
       "      <td>6</td>\n",
       "      <td>2016-06-01</td>\n",
       "    </tr>\n",
       "    <tr>\n",
       "      <th>88</th>\n",
       "      <td>Bogotá</td>\n",
       "      <td>Artes</td>\n",
       "      <td>Pregrado</td>\n",
       "      <td>Mujeres</td>\n",
       "      <td>2017-1</td>\n",
       "      <td>793</td>\n",
       "      <td>2017</td>\n",
       "      <td>1</td>\n",
       "      <td>2017-1</td>\n",
       "      <td>1</td>\n",
       "      <td>2017-01-01</td>\n",
       "    </tr>\n",
       "    <tr>\n",
       "      <th>89</th>\n",
       "      <td>Bogotá</td>\n",
       "      <td>Artes</td>\n",
       "      <td>Pregrado</td>\n",
       "      <td>Mujeres</td>\n",
       "      <td>2017-2</td>\n",
       "      <td>805</td>\n",
       "      <td>2017</td>\n",
       "      <td>2</td>\n",
       "      <td>2017-2</td>\n",
       "      <td>6</td>\n",
       "      <td>2017-06-01</td>\n",
       "    </tr>\n",
       "    <tr>\n",
       "      <th>90</th>\n",
       "      <td>Bogotá</td>\n",
       "      <td>Artes</td>\n",
       "      <td>Pregrado</td>\n",
       "      <td>Mujeres</td>\n",
       "      <td>2018-1</td>\n",
       "      <td>841</td>\n",
       "      <td>2018</td>\n",
       "      <td>1</td>\n",
       "      <td>2018-1</td>\n",
       "      <td>1</td>\n",
       "      <td>2018-01-01</td>\n",
       "    </tr>\n",
       "    <tr>\n",
       "      <th>91</th>\n",
       "      <td>Bogotá</td>\n",
       "      <td>Artes</td>\n",
       "      <td>Pregrado</td>\n",
       "      <td>Mujeres</td>\n",
       "      <td>2018-2</td>\n",
       "      <td>856</td>\n",
       "      <td>2018</td>\n",
       "      <td>2</td>\n",
       "      <td>2018-2</td>\n",
       "      <td>6</td>\n",
       "      <td>2018-06-01</td>\n",
       "    </tr>\n",
       "    <tr>\n",
       "      <th>92</th>\n",
       "      <td>Bogotá</td>\n",
       "      <td>Artes</td>\n",
       "      <td>Pregrado</td>\n",
       "      <td>Mujeres</td>\n",
       "      <td>2019-1</td>\n",
       "      <td>888</td>\n",
       "      <td>2019</td>\n",
       "      <td>1</td>\n",
       "      <td>2019-1</td>\n",
       "      <td>1</td>\n",
       "      <td>2019-01-01</td>\n",
       "    </tr>\n",
       "    <tr>\n",
       "      <th>93</th>\n",
       "      <td>Bogotá</td>\n",
       "      <td>Artes</td>\n",
       "      <td>Pregrado</td>\n",
       "      <td>Mujeres</td>\n",
       "      <td>2019-2</td>\n",
       "      <td>905</td>\n",
       "      <td>2019</td>\n",
       "      <td>2</td>\n",
       "      <td>2019-2</td>\n",
       "      <td>6</td>\n",
       "      <td>2019-06-01</td>\n",
       "    </tr>\n",
       "    <tr>\n",
       "      <th>94</th>\n",
       "      <td>Bogotá</td>\n",
       "      <td>Artes</td>\n",
       "      <td>Pregrado</td>\n",
       "      <td>Mujeres</td>\n",
       "      <td>2020-1</td>\n",
       "      <td>904</td>\n",
       "      <td>2020</td>\n",
       "      <td>1</td>\n",
       "      <td>2020-1</td>\n",
       "      <td>1</td>\n",
       "      <td>2020-01-01</td>\n",
       "    </tr>\n",
       "    <tr>\n",
       "      <th>95</th>\n",
       "      <td>Bogotá</td>\n",
       "      <td>Artes</td>\n",
       "      <td>Pregrado</td>\n",
       "      <td>Mujeres</td>\n",
       "      <td>2020-2</td>\n",
       "      <td>914</td>\n",
       "      <td>2020</td>\n",
       "      <td>2</td>\n",
       "      <td>2020-2</td>\n",
       "      <td>6</td>\n",
       "      <td>2020-06-01</td>\n",
       "    </tr>\n",
       "  </tbody>\n",
       "</table>\n",
       "</div>"
      ],
      "text/plain": [
       "      Sede Facultad     Grado     Sexo Periodo  Matriculados   Año Semestre_A  \\\n",
       "86  Bogotá    Artes  Pregrado  Mujeres  2016-1           766  2016          1   \n",
       "87  Bogotá    Artes  Pregrado  Mujeres  2016-2           772  2016          2   \n",
       "88  Bogotá    Artes  Pregrado  Mujeres  2017-1           793  2017          1   \n",
       "89  Bogotá    Artes  Pregrado  Mujeres  2017-2           805  2017          2   \n",
       "90  Bogotá    Artes  Pregrado  Mujeres  2018-1           841  2018          1   \n",
       "91  Bogotá    Artes  Pregrado  Mujeres  2018-2           856  2018          2   \n",
       "92  Bogotá    Artes  Pregrado  Mujeres  2019-1           888  2019          1   \n",
       "93  Bogotá    Artes  Pregrado  Mujeres  2019-2           905  2019          2   \n",
       "94  Bogotá    Artes  Pregrado  Mujeres  2020-1           904  2020          1   \n",
       "95  Bogotá    Artes  Pregrado  Mujeres  2020-2           914  2020          2   \n",
       "\n",
       "     Fecha Mes    Fecha_c  \n",
       "86  2016-1   1 2016-01-01  \n",
       "87  2016-2   6 2016-06-01  \n",
       "88  2017-1   1 2017-01-01  \n",
       "89  2017-2   6 2017-06-01  \n",
       "90  2018-1   1 2018-01-01  \n",
       "91  2018-2   6 2018-06-01  \n",
       "92  2019-1   1 2019-01-01  \n",
       "93  2019-2   6 2019-06-01  \n",
       "94  2020-1   1 2020-01-01  \n",
       "95  2020-2   6 2020-06-01  "
      ]
     },
     "execution_count": 17,
     "metadata": {},
     "output_type": "execute_result"
    }
   ],
   "source": [
    "#filtro por facultad Mujeres\n",
    "df_t_FM = df_t_M.loc[df_t_M['Facultad'] == \"Artes\"]\n",
    "df_t_FM.tail(10)"
   ]
  },
  {
   "cell_type": "code",
   "execution_count": 18,
   "id": "dee14f82",
   "metadata": {},
   "outputs": [
    {
     "data": {
      "text/html": [
       "<div>\n",
       "<style scoped>\n",
       "    .dataframe tbody tr th:only-of-type {\n",
       "        vertical-align: middle;\n",
       "    }\n",
       "\n",
       "    .dataframe tbody tr th {\n",
       "        vertical-align: top;\n",
       "    }\n",
       "\n",
       "    .dataframe thead th {\n",
       "        text-align: right;\n",
       "    }\n",
       "</style>\n",
       "<table border=\"1\" class=\"dataframe\">\n",
       "  <thead>\n",
       "    <tr style=\"text-align: right;\">\n",
       "      <th></th>\n",
       "      <th>Sede</th>\n",
       "      <th>Facultad</th>\n",
       "      <th>Grado</th>\n",
       "      <th>Sexo</th>\n",
       "      <th>Periodo</th>\n",
       "      <th>Matriculados</th>\n",
       "      <th>Año</th>\n",
       "      <th>Semestre_A</th>\n",
       "      <th>Fecha</th>\n",
       "      <th>Mes</th>\n",
       "      <th>Fecha_c</th>\n",
       "    </tr>\n",
       "  </thead>\n",
       "  <tbody>\n",
       "    <tr>\n",
       "      <th>62</th>\n",
       "      <td>Bogotá</td>\n",
       "      <td>Artes</td>\n",
       "      <td>Pregrado</td>\n",
       "      <td>Hombres</td>\n",
       "      <td>2016-1</td>\n",
       "      <td>1638</td>\n",
       "      <td>2016</td>\n",
       "      <td>1</td>\n",
       "      <td>2016-1</td>\n",
       "      <td>1</td>\n",
       "      <td>2016-01-01</td>\n",
       "    </tr>\n",
       "    <tr>\n",
       "      <th>63</th>\n",
       "      <td>Bogotá</td>\n",
       "      <td>Artes</td>\n",
       "      <td>Pregrado</td>\n",
       "      <td>Hombres</td>\n",
       "      <td>2016-2</td>\n",
       "      <td>1622</td>\n",
       "      <td>2016</td>\n",
       "      <td>2</td>\n",
       "      <td>2016-2</td>\n",
       "      <td>6</td>\n",
       "      <td>2016-06-01</td>\n",
       "    </tr>\n",
       "    <tr>\n",
       "      <th>64</th>\n",
       "      <td>Bogotá</td>\n",
       "      <td>Artes</td>\n",
       "      <td>Pregrado</td>\n",
       "      <td>Hombres</td>\n",
       "      <td>2017-1</td>\n",
       "      <td>1646</td>\n",
       "      <td>2017</td>\n",
       "      <td>1</td>\n",
       "      <td>2017-1</td>\n",
       "      <td>1</td>\n",
       "      <td>2017-01-01</td>\n",
       "    </tr>\n",
       "    <tr>\n",
       "      <th>65</th>\n",
       "      <td>Bogotá</td>\n",
       "      <td>Artes</td>\n",
       "      <td>Pregrado</td>\n",
       "      <td>Hombres</td>\n",
       "      <td>2017-2</td>\n",
       "      <td>1609</td>\n",
       "      <td>2017</td>\n",
       "      <td>2</td>\n",
       "      <td>2017-2</td>\n",
       "      <td>6</td>\n",
       "      <td>2017-06-01</td>\n",
       "    </tr>\n",
       "    <tr>\n",
       "      <th>66</th>\n",
       "      <td>Bogotá</td>\n",
       "      <td>Artes</td>\n",
       "      <td>Pregrado</td>\n",
       "      <td>Hombres</td>\n",
       "      <td>2018-1</td>\n",
       "      <td>1581</td>\n",
       "      <td>2018</td>\n",
       "      <td>1</td>\n",
       "      <td>2018-1</td>\n",
       "      <td>1</td>\n",
       "      <td>2018-01-01</td>\n",
       "    </tr>\n",
       "    <tr>\n",
       "      <th>67</th>\n",
       "      <td>Bogotá</td>\n",
       "      <td>Artes</td>\n",
       "      <td>Pregrado</td>\n",
       "      <td>Hombres</td>\n",
       "      <td>2018-2</td>\n",
       "      <td>1579</td>\n",
       "      <td>2018</td>\n",
       "      <td>2</td>\n",
       "      <td>2018-2</td>\n",
       "      <td>6</td>\n",
       "      <td>2018-06-01</td>\n",
       "    </tr>\n",
       "    <tr>\n",
       "      <th>68</th>\n",
       "      <td>Bogotá</td>\n",
       "      <td>Artes</td>\n",
       "      <td>Pregrado</td>\n",
       "      <td>Hombres</td>\n",
       "      <td>2019-1</td>\n",
       "      <td>1547</td>\n",
       "      <td>2019</td>\n",
       "      <td>1</td>\n",
       "      <td>2019-1</td>\n",
       "      <td>1</td>\n",
       "      <td>2019-01-01</td>\n",
       "    </tr>\n",
       "    <tr>\n",
       "      <th>69</th>\n",
       "      <td>Bogotá</td>\n",
       "      <td>Artes</td>\n",
       "      <td>Pregrado</td>\n",
       "      <td>Hombres</td>\n",
       "      <td>2019-2</td>\n",
       "      <td>1559</td>\n",
       "      <td>2019</td>\n",
       "      <td>2</td>\n",
       "      <td>2019-2</td>\n",
       "      <td>6</td>\n",
       "      <td>2019-06-01</td>\n",
       "    </tr>\n",
       "    <tr>\n",
       "      <th>70</th>\n",
       "      <td>Bogotá</td>\n",
       "      <td>Artes</td>\n",
       "      <td>Pregrado</td>\n",
       "      <td>Hombres</td>\n",
       "      <td>2020-1</td>\n",
       "      <td>1503</td>\n",
       "      <td>2020</td>\n",
       "      <td>1</td>\n",
       "      <td>2020-1</td>\n",
       "      <td>1</td>\n",
       "      <td>2020-01-01</td>\n",
       "    </tr>\n",
       "    <tr>\n",
       "      <th>71</th>\n",
       "      <td>Bogotá</td>\n",
       "      <td>Artes</td>\n",
       "      <td>Pregrado</td>\n",
       "      <td>Hombres</td>\n",
       "      <td>2020-2</td>\n",
       "      <td>1429</td>\n",
       "      <td>2020</td>\n",
       "      <td>2</td>\n",
       "      <td>2020-2</td>\n",
       "      <td>6</td>\n",
       "      <td>2020-06-01</td>\n",
       "    </tr>\n",
       "  </tbody>\n",
       "</table>\n",
       "</div>"
      ],
      "text/plain": [
       "      Sede Facultad     Grado     Sexo Periodo  Matriculados   Año Semestre_A  \\\n",
       "62  Bogotá    Artes  Pregrado  Hombres  2016-1          1638  2016          1   \n",
       "63  Bogotá    Artes  Pregrado  Hombres  2016-2          1622  2016          2   \n",
       "64  Bogotá    Artes  Pregrado  Hombres  2017-1          1646  2017          1   \n",
       "65  Bogotá    Artes  Pregrado  Hombres  2017-2          1609  2017          2   \n",
       "66  Bogotá    Artes  Pregrado  Hombres  2018-1          1581  2018          1   \n",
       "67  Bogotá    Artes  Pregrado  Hombres  2018-2          1579  2018          2   \n",
       "68  Bogotá    Artes  Pregrado  Hombres  2019-1          1547  2019          1   \n",
       "69  Bogotá    Artes  Pregrado  Hombres  2019-2          1559  2019          2   \n",
       "70  Bogotá    Artes  Pregrado  Hombres  2020-1          1503  2020          1   \n",
       "71  Bogotá    Artes  Pregrado  Hombres  2020-2          1429  2020          2   \n",
       "\n",
       "     Fecha Mes    Fecha_c  \n",
       "62  2016-1   1 2016-01-01  \n",
       "63  2016-2   6 2016-06-01  \n",
       "64  2017-1   1 2017-01-01  \n",
       "65  2017-2   6 2017-06-01  \n",
       "66  2018-1   1 2018-01-01  \n",
       "67  2018-2   6 2018-06-01  \n",
       "68  2019-1   1 2019-01-01  \n",
       "69  2019-2   6 2019-06-01  \n",
       "70  2020-1   1 2020-01-01  \n",
       "71  2020-2   6 2020-06-01  "
      ]
     },
     "execution_count": 18,
     "metadata": {},
     "output_type": "execute_result"
    }
   ],
   "source": [
    "#filtro por facultad hombres\n",
    "df_t_FH = df_t_H.loc[df_t_H['Facultad'] == \"Artes\"]\n",
    "df_t_FH.tail(10)"
   ]
  },
  {
   "cell_type": "code",
   "execution_count": 19,
   "id": "3f48066c",
   "metadata": {},
   "outputs": [
    {
     "data": {
      "text/html": [
       "<div>\n",
       "<style scoped>\n",
       "    .dataframe tbody tr th:only-of-type {\n",
       "        vertical-align: middle;\n",
       "    }\n",
       "\n",
       "    .dataframe tbody tr th {\n",
       "        vertical-align: top;\n",
       "    }\n",
       "\n",
       "    .dataframe thead th {\n",
       "        text-align: right;\n",
       "    }\n",
       "</style>\n",
       "<table border=\"1\" class=\"dataframe\">\n",
       "  <thead>\n",
       "    <tr style=\"text-align: right;\">\n",
       "      <th></th>\n",
       "      <th>Sede</th>\n",
       "      <th>Facultad</th>\n",
       "      <th>Grado</th>\n",
       "      <th>Sexo</th>\n",
       "      <th>Periodo</th>\n",
       "      <th>Matriculados</th>\n",
       "      <th>Año</th>\n",
       "      <th>Semestre_A</th>\n",
       "      <th>Fecha</th>\n",
       "      <th>Mes</th>\n",
       "      <th>Fecha_c</th>\n",
       "    </tr>\n",
       "  </thead>\n",
       "  <tbody>\n",
       "    <tr>\n",
       "      <th>24</th>\n",
       "      <td>Bogotá</td>\n",
       "      <td>Artes</td>\n",
       "      <td>Posgrado</td>\n",
       "      <td>Mujeres</td>\n",
       "      <td>2009-1</td>\n",
       "      <td>219</td>\n",
       "      <td>2009</td>\n",
       "      <td>1</td>\n",
       "      <td>2009-1</td>\n",
       "      <td>1</td>\n",
       "      <td>2009-01-01</td>\n",
       "    </tr>\n",
       "    <tr>\n",
       "      <th>26</th>\n",
       "      <td>Bogotá</td>\n",
       "      <td>Artes</td>\n",
       "      <td>Posgrado</td>\n",
       "      <td>Mujeres</td>\n",
       "      <td>2010-1</td>\n",
       "      <td>230</td>\n",
       "      <td>2010</td>\n",
       "      <td>1</td>\n",
       "      <td>2010-1</td>\n",
       "      <td>1</td>\n",
       "      <td>2010-01-01</td>\n",
       "    </tr>\n",
       "    <tr>\n",
       "      <th>28</th>\n",
       "      <td>Bogotá</td>\n",
       "      <td>Artes</td>\n",
       "      <td>Posgrado</td>\n",
       "      <td>Mujeres</td>\n",
       "      <td>2011-1</td>\n",
       "      <td>253</td>\n",
       "      <td>2011</td>\n",
       "      <td>1</td>\n",
       "      <td>2011-1</td>\n",
       "      <td>1</td>\n",
       "      <td>2011-01-01</td>\n",
       "    </tr>\n",
       "    <tr>\n",
       "      <th>30</th>\n",
       "      <td>Bogotá</td>\n",
       "      <td>Artes</td>\n",
       "      <td>Posgrado</td>\n",
       "      <td>Mujeres</td>\n",
       "      <td>2012-1</td>\n",
       "      <td>239</td>\n",
       "      <td>2012</td>\n",
       "      <td>1</td>\n",
       "      <td>2012-1</td>\n",
       "      <td>1</td>\n",
       "      <td>2012-01-01</td>\n",
       "    </tr>\n",
       "    <tr>\n",
       "      <th>32</th>\n",
       "      <td>Bogotá</td>\n",
       "      <td>Artes</td>\n",
       "      <td>Posgrado</td>\n",
       "      <td>Mujeres</td>\n",
       "      <td>2013-1</td>\n",
       "      <td>248</td>\n",
       "      <td>2013</td>\n",
       "      <td>1</td>\n",
       "      <td>2013-1</td>\n",
       "      <td>1</td>\n",
       "      <td>2013-01-01</td>\n",
       "    </tr>\n",
       "    <tr>\n",
       "      <th>34</th>\n",
       "      <td>Bogotá</td>\n",
       "      <td>Artes</td>\n",
       "      <td>Posgrado</td>\n",
       "      <td>Mujeres</td>\n",
       "      <td>2014-1</td>\n",
       "      <td>250</td>\n",
       "      <td>2014</td>\n",
       "      <td>1</td>\n",
       "      <td>2014-1</td>\n",
       "      <td>1</td>\n",
       "      <td>2014-01-01</td>\n",
       "    </tr>\n",
       "    <tr>\n",
       "      <th>36</th>\n",
       "      <td>Bogotá</td>\n",
       "      <td>Artes</td>\n",
       "      <td>Posgrado</td>\n",
       "      <td>Mujeres</td>\n",
       "      <td>2015-1</td>\n",
       "      <td>240</td>\n",
       "      <td>2015</td>\n",
       "      <td>1</td>\n",
       "      <td>2015-1</td>\n",
       "      <td>1</td>\n",
       "      <td>2015-01-01</td>\n",
       "    </tr>\n",
       "    <tr>\n",
       "      <th>38</th>\n",
       "      <td>Bogotá</td>\n",
       "      <td>Artes</td>\n",
       "      <td>Posgrado</td>\n",
       "      <td>Mujeres</td>\n",
       "      <td>2016-1</td>\n",
       "      <td>280</td>\n",
       "      <td>2016</td>\n",
       "      <td>1</td>\n",
       "      <td>2016-1</td>\n",
       "      <td>1</td>\n",
       "      <td>2016-01-01</td>\n",
       "    </tr>\n",
       "    <tr>\n",
       "      <th>40</th>\n",
       "      <td>Bogotá</td>\n",
       "      <td>Artes</td>\n",
       "      <td>Posgrado</td>\n",
       "      <td>Mujeres</td>\n",
       "      <td>2017-1</td>\n",
       "      <td>256</td>\n",
       "      <td>2017</td>\n",
       "      <td>1</td>\n",
       "      <td>2017-1</td>\n",
       "      <td>1</td>\n",
       "      <td>2017-01-01</td>\n",
       "    </tr>\n",
       "    <tr>\n",
       "      <th>42</th>\n",
       "      <td>Bogotá</td>\n",
       "      <td>Artes</td>\n",
       "      <td>Posgrado</td>\n",
       "      <td>Mujeres</td>\n",
       "      <td>2018-1</td>\n",
       "      <td>279</td>\n",
       "      <td>2018</td>\n",
       "      <td>1</td>\n",
       "      <td>2018-1</td>\n",
       "      <td>1</td>\n",
       "      <td>2018-01-01</td>\n",
       "    </tr>\n",
       "    <tr>\n",
       "      <th>44</th>\n",
       "      <td>Bogotá</td>\n",
       "      <td>Artes</td>\n",
       "      <td>Posgrado</td>\n",
       "      <td>Mujeres</td>\n",
       "      <td>2019-1</td>\n",
       "      <td>251</td>\n",
       "      <td>2019</td>\n",
       "      <td>1</td>\n",
       "      <td>2019-1</td>\n",
       "      <td>1</td>\n",
       "      <td>2019-01-01</td>\n",
       "    </tr>\n",
       "    <tr>\n",
       "      <th>46</th>\n",
       "      <td>Bogotá</td>\n",
       "      <td>Artes</td>\n",
       "      <td>Posgrado</td>\n",
       "      <td>Mujeres</td>\n",
       "      <td>2020-1</td>\n",
       "      <td>238</td>\n",
       "      <td>2020</td>\n",
       "      <td>1</td>\n",
       "      <td>2020-1</td>\n",
       "      <td>1</td>\n",
       "      <td>2020-01-01</td>\n",
       "    </tr>\n",
       "    <tr>\n",
       "      <th>72</th>\n",
       "      <td>Bogotá</td>\n",
       "      <td>Artes</td>\n",
       "      <td>Pregrado</td>\n",
       "      <td>Mujeres</td>\n",
       "      <td>2009-1</td>\n",
       "      <td>724</td>\n",
       "      <td>2009</td>\n",
       "      <td>1</td>\n",
       "      <td>2009-1</td>\n",
       "      <td>1</td>\n",
       "      <td>2009-01-01</td>\n",
       "    </tr>\n",
       "    <tr>\n",
       "      <th>74</th>\n",
       "      <td>Bogotá</td>\n",
       "      <td>Artes</td>\n",
       "      <td>Pregrado</td>\n",
       "      <td>Mujeres</td>\n",
       "      <td>2010-1</td>\n",
       "      <td>732</td>\n",
       "      <td>2010</td>\n",
       "      <td>1</td>\n",
       "      <td>2010-1</td>\n",
       "      <td>1</td>\n",
       "      <td>2010-01-01</td>\n",
       "    </tr>\n",
       "    <tr>\n",
       "      <th>76</th>\n",
       "      <td>Bogotá</td>\n",
       "      <td>Artes</td>\n",
       "      <td>Pregrado</td>\n",
       "      <td>Mujeres</td>\n",
       "      <td>2011-1</td>\n",
       "      <td>729</td>\n",
       "      <td>2011</td>\n",
       "      <td>1</td>\n",
       "      <td>2011-1</td>\n",
       "      <td>1</td>\n",
       "      <td>2011-01-01</td>\n",
       "    </tr>\n",
       "    <tr>\n",
       "      <th>78</th>\n",
       "      <td>Bogotá</td>\n",
       "      <td>Artes</td>\n",
       "      <td>Pregrado</td>\n",
       "      <td>Mujeres</td>\n",
       "      <td>2012-1</td>\n",
       "      <td>720</td>\n",
       "      <td>2012</td>\n",
       "      <td>1</td>\n",
       "      <td>2012-1</td>\n",
       "      <td>1</td>\n",
       "      <td>2012-01-01</td>\n",
       "    </tr>\n",
       "    <tr>\n",
       "      <th>80</th>\n",
       "      <td>Bogotá</td>\n",
       "      <td>Artes</td>\n",
       "      <td>Pregrado</td>\n",
       "      <td>Mujeres</td>\n",
       "      <td>2013-1</td>\n",
       "      <td>732</td>\n",
       "      <td>2013</td>\n",
       "      <td>1</td>\n",
       "      <td>2013-1</td>\n",
       "      <td>1</td>\n",
       "      <td>2013-01-01</td>\n",
       "    </tr>\n",
       "    <tr>\n",
       "      <th>82</th>\n",
       "      <td>Bogotá</td>\n",
       "      <td>Artes</td>\n",
       "      <td>Pregrado</td>\n",
       "      <td>Mujeres</td>\n",
       "      <td>2014-1</td>\n",
       "      <td>745</td>\n",
       "      <td>2014</td>\n",
       "      <td>1</td>\n",
       "      <td>2014-1</td>\n",
       "      <td>1</td>\n",
       "      <td>2014-01-01</td>\n",
       "    </tr>\n",
       "    <tr>\n",
       "      <th>84</th>\n",
       "      <td>Bogotá</td>\n",
       "      <td>Artes</td>\n",
       "      <td>Pregrado</td>\n",
       "      <td>Mujeres</td>\n",
       "      <td>2015-1</td>\n",
       "      <td>748</td>\n",
       "      <td>2015</td>\n",
       "      <td>1</td>\n",
       "      <td>2015-1</td>\n",
       "      <td>1</td>\n",
       "      <td>2015-01-01</td>\n",
       "    </tr>\n",
       "    <tr>\n",
       "      <th>86</th>\n",
       "      <td>Bogotá</td>\n",
       "      <td>Artes</td>\n",
       "      <td>Pregrado</td>\n",
       "      <td>Mujeres</td>\n",
       "      <td>2016-1</td>\n",
       "      <td>766</td>\n",
       "      <td>2016</td>\n",
       "      <td>1</td>\n",
       "      <td>2016-1</td>\n",
       "      <td>1</td>\n",
       "      <td>2016-01-01</td>\n",
       "    </tr>\n",
       "    <tr>\n",
       "      <th>88</th>\n",
       "      <td>Bogotá</td>\n",
       "      <td>Artes</td>\n",
       "      <td>Pregrado</td>\n",
       "      <td>Mujeres</td>\n",
       "      <td>2017-1</td>\n",
       "      <td>793</td>\n",
       "      <td>2017</td>\n",
       "      <td>1</td>\n",
       "      <td>2017-1</td>\n",
       "      <td>1</td>\n",
       "      <td>2017-01-01</td>\n",
       "    </tr>\n",
       "    <tr>\n",
       "      <th>90</th>\n",
       "      <td>Bogotá</td>\n",
       "      <td>Artes</td>\n",
       "      <td>Pregrado</td>\n",
       "      <td>Mujeres</td>\n",
       "      <td>2018-1</td>\n",
       "      <td>841</td>\n",
       "      <td>2018</td>\n",
       "      <td>1</td>\n",
       "      <td>2018-1</td>\n",
       "      <td>1</td>\n",
       "      <td>2018-01-01</td>\n",
       "    </tr>\n",
       "    <tr>\n",
       "      <th>92</th>\n",
       "      <td>Bogotá</td>\n",
       "      <td>Artes</td>\n",
       "      <td>Pregrado</td>\n",
       "      <td>Mujeres</td>\n",
       "      <td>2019-1</td>\n",
       "      <td>888</td>\n",
       "      <td>2019</td>\n",
       "      <td>1</td>\n",
       "      <td>2019-1</td>\n",
       "      <td>1</td>\n",
       "      <td>2019-01-01</td>\n",
       "    </tr>\n",
       "    <tr>\n",
       "      <th>94</th>\n",
       "      <td>Bogotá</td>\n",
       "      <td>Artes</td>\n",
       "      <td>Pregrado</td>\n",
       "      <td>Mujeres</td>\n",
       "      <td>2020-1</td>\n",
       "      <td>904</td>\n",
       "      <td>2020</td>\n",
       "      <td>1</td>\n",
       "      <td>2020-1</td>\n",
       "      <td>1</td>\n",
       "      <td>2020-01-01</td>\n",
       "    </tr>\n",
       "  </tbody>\n",
       "</table>\n",
       "</div>"
      ],
      "text/plain": [
       "      Sede Facultad     Grado     Sexo Periodo  Matriculados   Año Semestre_A  \\\n",
       "24  Bogotá    Artes  Posgrado  Mujeres  2009-1           219  2009          1   \n",
       "26  Bogotá    Artes  Posgrado  Mujeres  2010-1           230  2010          1   \n",
       "28  Bogotá    Artes  Posgrado  Mujeres  2011-1           253  2011          1   \n",
       "30  Bogotá    Artes  Posgrado  Mujeres  2012-1           239  2012          1   \n",
       "32  Bogotá    Artes  Posgrado  Mujeres  2013-1           248  2013          1   \n",
       "34  Bogotá    Artes  Posgrado  Mujeres  2014-1           250  2014          1   \n",
       "36  Bogotá    Artes  Posgrado  Mujeres  2015-1           240  2015          1   \n",
       "38  Bogotá    Artes  Posgrado  Mujeres  2016-1           280  2016          1   \n",
       "40  Bogotá    Artes  Posgrado  Mujeres  2017-1           256  2017          1   \n",
       "42  Bogotá    Artes  Posgrado  Mujeres  2018-1           279  2018          1   \n",
       "44  Bogotá    Artes  Posgrado  Mujeres  2019-1           251  2019          1   \n",
       "46  Bogotá    Artes  Posgrado  Mujeres  2020-1           238  2020          1   \n",
       "72  Bogotá    Artes  Pregrado  Mujeres  2009-1           724  2009          1   \n",
       "74  Bogotá    Artes  Pregrado  Mujeres  2010-1           732  2010          1   \n",
       "76  Bogotá    Artes  Pregrado  Mujeres  2011-1           729  2011          1   \n",
       "78  Bogotá    Artes  Pregrado  Mujeres  2012-1           720  2012          1   \n",
       "80  Bogotá    Artes  Pregrado  Mujeres  2013-1           732  2013          1   \n",
       "82  Bogotá    Artes  Pregrado  Mujeres  2014-1           745  2014          1   \n",
       "84  Bogotá    Artes  Pregrado  Mujeres  2015-1           748  2015          1   \n",
       "86  Bogotá    Artes  Pregrado  Mujeres  2016-1           766  2016          1   \n",
       "88  Bogotá    Artes  Pregrado  Mujeres  2017-1           793  2017          1   \n",
       "90  Bogotá    Artes  Pregrado  Mujeres  2018-1           841  2018          1   \n",
       "92  Bogotá    Artes  Pregrado  Mujeres  2019-1           888  2019          1   \n",
       "94  Bogotá    Artes  Pregrado  Mujeres  2020-1           904  2020          1   \n",
       "\n",
       "     Fecha Mes    Fecha_c  \n",
       "24  2009-1   1 2009-01-01  \n",
       "26  2010-1   1 2010-01-01  \n",
       "28  2011-1   1 2011-01-01  \n",
       "30  2012-1   1 2012-01-01  \n",
       "32  2013-1   1 2013-01-01  \n",
       "34  2014-1   1 2014-01-01  \n",
       "36  2015-1   1 2015-01-01  \n",
       "38  2016-1   1 2016-01-01  \n",
       "40  2017-1   1 2017-01-01  \n",
       "42  2018-1   1 2018-01-01  \n",
       "44  2019-1   1 2019-01-01  \n",
       "46  2020-1   1 2020-01-01  \n",
       "72  2009-1   1 2009-01-01  \n",
       "74  2010-1   1 2010-01-01  \n",
       "76  2011-1   1 2011-01-01  \n",
       "78  2012-1   1 2012-01-01  \n",
       "80  2013-1   1 2013-01-01  \n",
       "82  2014-1   1 2014-01-01  \n",
       "84  2015-1   1 2015-01-01  \n",
       "86  2016-1   1 2016-01-01  \n",
       "88  2017-1   1 2017-01-01  \n",
       "90  2018-1   1 2018-01-01  \n",
       "92  2019-1   1 2019-01-01  \n",
       "94  2020-1   1 2020-01-01  "
      ]
     },
     "execution_count": 19,
     "metadata": {},
     "output_type": "execute_result"
    }
   ],
   "source": [
    "#filtro por facultad Mujeres por periodo\n",
    "df_t_FMP = df_t_FM.loc[df_t_FM['Semestre_A'] == \"1\"]\n",
    "df_t_FMP"
   ]
  },
  {
   "cell_type": "code",
   "execution_count": 20,
   "id": "feea3f49",
   "metadata": {},
   "outputs": [
    {
     "data": {
      "text/html": [
       "<div>\n",
       "<style scoped>\n",
       "    .dataframe tbody tr th:only-of-type {\n",
       "        vertical-align: middle;\n",
       "    }\n",
       "\n",
       "    .dataframe tbody tr th {\n",
       "        vertical-align: top;\n",
       "    }\n",
       "\n",
       "    .dataframe thead th {\n",
       "        text-align: right;\n",
       "    }\n",
       "</style>\n",
       "<table border=\"1\" class=\"dataframe\">\n",
       "  <thead>\n",
       "    <tr style=\"text-align: right;\">\n",
       "      <th></th>\n",
       "      <th>Sede</th>\n",
       "      <th>Facultad</th>\n",
       "      <th>Grado</th>\n",
       "      <th>Sexo</th>\n",
       "      <th>Periodo</th>\n",
       "      <th>Matriculados</th>\n",
       "      <th>Año</th>\n",
       "      <th>Semestre_A</th>\n",
       "      <th>Fecha</th>\n",
       "      <th>Mes</th>\n",
       "      <th>Fecha_c</th>\n",
       "    </tr>\n",
       "  </thead>\n",
       "  <tbody>\n",
       "    <tr>\n",
       "      <th>72</th>\n",
       "      <td>Bogotá</td>\n",
       "      <td>Artes</td>\n",
       "      <td>Pregrado</td>\n",
       "      <td>Mujeres</td>\n",
       "      <td>2009-1</td>\n",
       "      <td>724</td>\n",
       "      <td>2009</td>\n",
       "      <td>1</td>\n",
       "      <td>2009-1</td>\n",
       "      <td>1</td>\n",
       "      <td>2009-01-01</td>\n",
       "    </tr>\n",
       "    <tr>\n",
       "      <th>74</th>\n",
       "      <td>Bogotá</td>\n",
       "      <td>Artes</td>\n",
       "      <td>Pregrado</td>\n",
       "      <td>Mujeres</td>\n",
       "      <td>2010-1</td>\n",
       "      <td>732</td>\n",
       "      <td>2010</td>\n",
       "      <td>1</td>\n",
       "      <td>2010-1</td>\n",
       "      <td>1</td>\n",
       "      <td>2010-01-01</td>\n",
       "    </tr>\n",
       "    <tr>\n",
       "      <th>76</th>\n",
       "      <td>Bogotá</td>\n",
       "      <td>Artes</td>\n",
       "      <td>Pregrado</td>\n",
       "      <td>Mujeres</td>\n",
       "      <td>2011-1</td>\n",
       "      <td>729</td>\n",
       "      <td>2011</td>\n",
       "      <td>1</td>\n",
       "      <td>2011-1</td>\n",
       "      <td>1</td>\n",
       "      <td>2011-01-01</td>\n",
       "    </tr>\n",
       "    <tr>\n",
       "      <th>78</th>\n",
       "      <td>Bogotá</td>\n",
       "      <td>Artes</td>\n",
       "      <td>Pregrado</td>\n",
       "      <td>Mujeres</td>\n",
       "      <td>2012-1</td>\n",
       "      <td>720</td>\n",
       "      <td>2012</td>\n",
       "      <td>1</td>\n",
       "      <td>2012-1</td>\n",
       "      <td>1</td>\n",
       "      <td>2012-01-01</td>\n",
       "    </tr>\n",
       "    <tr>\n",
       "      <th>80</th>\n",
       "      <td>Bogotá</td>\n",
       "      <td>Artes</td>\n",
       "      <td>Pregrado</td>\n",
       "      <td>Mujeres</td>\n",
       "      <td>2013-1</td>\n",
       "      <td>732</td>\n",
       "      <td>2013</td>\n",
       "      <td>1</td>\n",
       "      <td>2013-1</td>\n",
       "      <td>1</td>\n",
       "      <td>2013-01-01</td>\n",
       "    </tr>\n",
       "    <tr>\n",
       "      <th>82</th>\n",
       "      <td>Bogotá</td>\n",
       "      <td>Artes</td>\n",
       "      <td>Pregrado</td>\n",
       "      <td>Mujeres</td>\n",
       "      <td>2014-1</td>\n",
       "      <td>745</td>\n",
       "      <td>2014</td>\n",
       "      <td>1</td>\n",
       "      <td>2014-1</td>\n",
       "      <td>1</td>\n",
       "      <td>2014-01-01</td>\n",
       "    </tr>\n",
       "    <tr>\n",
       "      <th>84</th>\n",
       "      <td>Bogotá</td>\n",
       "      <td>Artes</td>\n",
       "      <td>Pregrado</td>\n",
       "      <td>Mujeres</td>\n",
       "      <td>2015-1</td>\n",
       "      <td>748</td>\n",
       "      <td>2015</td>\n",
       "      <td>1</td>\n",
       "      <td>2015-1</td>\n",
       "      <td>1</td>\n",
       "      <td>2015-01-01</td>\n",
       "    </tr>\n",
       "    <tr>\n",
       "      <th>86</th>\n",
       "      <td>Bogotá</td>\n",
       "      <td>Artes</td>\n",
       "      <td>Pregrado</td>\n",
       "      <td>Mujeres</td>\n",
       "      <td>2016-1</td>\n",
       "      <td>766</td>\n",
       "      <td>2016</td>\n",
       "      <td>1</td>\n",
       "      <td>2016-1</td>\n",
       "      <td>1</td>\n",
       "      <td>2016-01-01</td>\n",
       "    </tr>\n",
       "    <tr>\n",
       "      <th>88</th>\n",
       "      <td>Bogotá</td>\n",
       "      <td>Artes</td>\n",
       "      <td>Pregrado</td>\n",
       "      <td>Mujeres</td>\n",
       "      <td>2017-1</td>\n",
       "      <td>793</td>\n",
       "      <td>2017</td>\n",
       "      <td>1</td>\n",
       "      <td>2017-1</td>\n",
       "      <td>1</td>\n",
       "      <td>2017-01-01</td>\n",
       "    </tr>\n",
       "    <tr>\n",
       "      <th>90</th>\n",
       "      <td>Bogotá</td>\n",
       "      <td>Artes</td>\n",
       "      <td>Pregrado</td>\n",
       "      <td>Mujeres</td>\n",
       "      <td>2018-1</td>\n",
       "      <td>841</td>\n",
       "      <td>2018</td>\n",
       "      <td>1</td>\n",
       "      <td>2018-1</td>\n",
       "      <td>1</td>\n",
       "      <td>2018-01-01</td>\n",
       "    </tr>\n",
       "  </tbody>\n",
       "</table>\n",
       "</div>"
      ],
      "text/plain": [
       "      Sede Facultad     Grado     Sexo Periodo  Matriculados   Año Semestre_A  \\\n",
       "72  Bogotá    Artes  Pregrado  Mujeres  2009-1           724  2009          1   \n",
       "74  Bogotá    Artes  Pregrado  Mujeres  2010-1           732  2010          1   \n",
       "76  Bogotá    Artes  Pregrado  Mujeres  2011-1           729  2011          1   \n",
       "78  Bogotá    Artes  Pregrado  Mujeres  2012-1           720  2012          1   \n",
       "80  Bogotá    Artes  Pregrado  Mujeres  2013-1           732  2013          1   \n",
       "82  Bogotá    Artes  Pregrado  Mujeres  2014-1           745  2014          1   \n",
       "84  Bogotá    Artes  Pregrado  Mujeres  2015-1           748  2015          1   \n",
       "86  Bogotá    Artes  Pregrado  Mujeres  2016-1           766  2016          1   \n",
       "88  Bogotá    Artes  Pregrado  Mujeres  2017-1           793  2017          1   \n",
       "90  Bogotá    Artes  Pregrado  Mujeres  2018-1           841  2018          1   \n",
       "\n",
       "     Fecha Mes    Fecha_c  \n",
       "72  2009-1   1 2009-01-01  \n",
       "74  2010-1   1 2010-01-01  \n",
       "76  2011-1   1 2011-01-01  \n",
       "78  2012-1   1 2012-01-01  \n",
       "80  2013-1   1 2013-01-01  \n",
       "82  2014-1   1 2014-01-01  \n",
       "84  2015-1   1 2015-01-01  \n",
       "86  2016-1   1 2016-01-01  \n",
       "88  2017-1   1 2017-01-01  \n",
       "90  2018-1   1 2018-01-01  "
      ]
     },
     "execution_count": 20,
     "metadata": {},
     "output_type": "execute_result"
    }
   ],
   "source": [
    "#filtro por facultad Mujeres por periodo por grado\n",
    "df_t_FMPG = df_t_FMP.loc[df_t_FMP['Grado'] == \"Pregrado\"]\n",
    "df_t_FMPG.head(10)"
   ]
  },
  {
   "cell_type": "markdown",
   "id": "ea141630",
   "metadata": {},
   "source": [
    "## Definiendo modelo de la libreria statsmodels que usara la libreria AutoTS, se escoge esta libreria por permitir usar diferentes tipos de modelos y escoger el mas efectivo segun el caso, tambien es compatible con librerias como pycaret y prophet de Meta o facebook ##"
   ]
  },
  {
   "cell_type": "code",
   "execution_count": 21,
   "id": "cad1c849",
   "metadata": {},
   "outputs": [],
   "source": [
    "#model_list = ['LastValueNaive', 'GLS', 'GLM', 'ETS', 'AverageValueNaive', 'ARIMA', 'Theta', 'ARDL'] statsmodels\n",
    "model_list = ['ARIMA']"
   ]
  },
  {
   "cell_type": "code",
   "execution_count": 22,
   "id": "b6af74f3",
   "metadata": {},
   "outputs": [],
   "source": [
    "#modelo para la facultad de artes, pregrado mujeres en el primer periodo \n",
    "model_arte_pre_mu_1 = AutoTS(forecast_length=2, frequency='infer', prediction_interval=0.80,\n",
    "                ensemble='simple', model_list=model_list, transformer_list='fast',\n",
    "                max_generations=5, num_validations=2)"
   ]
  },
  {
   "cell_type": "code",
   "execution_count": 23,
   "id": "b3038718",
   "metadata": {},
   "outputs": [
    {
     "name": "stdout",
     "output_type": "stream",
     "text": [
      "Inferred frequency is: AS-JAN\n",
      "Model Number: 1 with model ARIMA in generation 0 of 5\n",
      "Model Number: 2 with model ARIMA in generation 0 of 5\n",
      "Model Number: 3 with model ARIMA in generation 0 of 5\n",
      "Model Number: 4 with model ARIMA in generation 0 of 5\n",
      "Model Number: 5 with model ARIMA in generation 0 of 5\n",
      "Model Number: 6 with model ARIMA in generation 0 of 5\n",
      "Model Number: 7 with model ARIMA in generation 0 of 5\n",
      "Model Number: 8 with model ARIMA in generation 0 of 5\n",
      "New Generation: 1 of 5\n",
      "Model Number: 9 with model ARIMA in generation 1 of 5\n",
      "Model Number: 10 with model ARIMA in generation 1 of 5\n",
      "Model Number: 11 with model ARIMA in generation 1 of 5\n",
      "Model Number: 12 with model ARIMA in generation 1 of 5\n",
      "Model Number: 13 with model ARIMA in generation 1 of 5\n",
      "New Generation: 2 of 5\n",
      "Model Number: 14 with model ARIMA in generation 2 of 5\n",
      "Model Number: 15 with model ARIMA in generation 2 of 5\n",
      "Model Number: 16 with model ARIMA in generation 2 of 5\n",
      "Model Number: 17 with model ARIMA in generation 2 of 5\n",
      "Model Number: 18 with model ARIMA in generation 2 of 5\n",
      "Template Eval Error: ValueError(\"regression_type='User' but future_regressor not supplied\") in model 18: ARIMA\n",
      "New Generation: 3 of 5\n",
      "Model Number: 19 with model ARIMA in generation 3 of 5\n",
      "Model Number: 20 with model ARIMA in generation 3 of 5\n",
      "Model Number: 21 with model ARIMA in generation 3 of 5\n",
      "Model Number: 22 with model ARIMA in generation 3 of 5\n",
      "Model Number: 23 with model ARIMA in generation 3 of 5\n",
      "New Generation: 4 of 5\n",
      "Model Number: 24 with model ARIMA in generation 4 of 5\n",
      "Model Number: 25 with model ARIMA in generation 4 of 5\n",
      "Model Number: 26 with model ARIMA in generation 4 of 5\n",
      "Model Number: 27 with model ARIMA in generation 4 of 5\n",
      "Model Number: 28 with model ARIMA in generation 4 of 5\n",
      "Template Eval Error: ValueError(\"regression_type='User' but future_regressor not supplied\") in model 28: ARIMA\n",
      "New Generation: 5 of 5\n",
      "Model Number: 29 with model ARIMA in generation 5 of 5\n",
      "Model Number: 30 with model ARIMA in generation 5 of 5\n",
      "Model Number: 31 with model ARIMA in generation 5 of 5\n",
      "Model Number: 32 with model ARIMA in generation 5 of 5\n",
      "Model Number: 33 with model ARIMA in generation 5 of 5\n"
     ]
    },
    {
     "name": "stderr",
     "output_type": "stream",
     "text": [
      "C:\\Users\\ricar\\anaconda3\\envs\\Streamlit\\lib\\site-packages\\autots\\models\\ensemble.py:959: FutureWarning: The default dtype for empty Series will be 'object' instead of 'float64' in a future version. Specify a dtype explicitly to silence this warning.\n",
      "  cur_mods = pd.Series(models_pos).value_counts()\n",
      "C:\\Users\\ricar\\anaconda3\\envs\\Streamlit\\lib\\site-packages\\autots\\models\\ensemble.py:959: FutureWarning: The default dtype for empty Series will be 'object' instead of 'float64' in a future version. Specify a dtype explicitly to silence this warning.\n",
      "  cur_mods = pd.Series(models_pos).value_counts()\n"
     ]
    },
    {
     "name": "stdout",
     "output_type": "stream",
     "text": [
      "Model Number: 34 with model Ensemble in generation 6 of Ensembles\n",
      "Model Number: 35 with model Ensemble in generation 6 of Ensembles\n",
      "Model Number: 36 with model Ensemble in generation 6 of Ensembles\n",
      "Model Number: 37 with model Ensemble in generation 6 of Ensembles\n",
      "Model Number: 38 with model Ensemble in generation 6 of Ensembles\n",
      "Validation Round: 1\n",
      "Model Number: 1 of 6 with model Ensemble for Validation 1\n",
      "📈 1 - Ensemble with avg smape 4.63: \n",
      "Model Number: 2 of 6 with model Ensemble for Validation 1\n",
      "📈 2 - Ensemble with avg smape 3.78: \n",
      "Model Number: 3 of 6 with model Ensemble for Validation 1\n",
      "📈 3 - Ensemble with avg smape 3.65: \n",
      "Model Number: 4 of 6 with model Ensemble for Validation 1\n",
      "4 - Ensemble with avg smape 4.52: \n",
      "Model Number: 5 of 6 with model ARIMA for Validation 1\n",
      "5 - ARIMA with avg smape 4.52: \n",
      "Model Number: 6 of 6 with model ARIMA for Validation 1\n",
      "📈 6 - ARIMA with avg smape 3.16: \n",
      "Validation Round: 2\n",
      "Model Number: 1 of 6 with model Ensemble for Validation 2\n",
      "📈 1 - Ensemble with avg smape 0.65: \n",
      "Model Number: 2 of 6 with model Ensemble for Validation 2\n",
      "2 - Ensemble with avg smape 0.78: \n",
      "Model Number: 3 of 6 with model Ensemble for Validation 2\n",
      "📈 3 - Ensemble with avg smape 0.45: \n",
      "Model Number: 4 of 6 with model Ensemble for Validation 2\n",
      "📈 4 - Ensemble with avg smape 0.44: \n",
      "Model Number: 5 of 6 with model ARIMA for Validation 2\n",
      "5 - ARIMA with avg smape 0.44: \n",
      "Model Number: 6 of 6 with model ARIMA for Validation 2\n",
      "6 - ARIMA with avg smape 1.88: \n"
     ]
    }
   ],
   "source": [
    "model_arte_pre_mu_1 = model_arte_pre_mu_1.fit(df_t_FMPG,\n",
    "                                              date_col='Fecha_c', value_col='Matriculados', id_col=None)"
   ]
  },
  {
   "cell_type": "markdown",
   "id": "15f12e17",
   "metadata": {},
   "source": [
    "## Prediccion y resultado de serie de tiempo para la facultad de artes, pregrado mujeres en el primer periodo ##"
   ]
  },
  {
   "cell_type": "code",
   "execution_count": 24,
   "id": "1a82d688",
   "metadata": {},
   "outputs": [],
   "source": [
    " prediction_arte_pre_mu_1 = model_arte_pre_mu_1.predict()"
   ]
  },
  {
   "cell_type": "code",
   "execution_count": 25,
   "id": "c6757d1b",
   "metadata": {},
   "outputs": [],
   "source": [
    "forecast_arte_pre_mu_1 =  prediction_arte_pre_mu_1.forecast"
   ]
  },
  {
   "cell_type": "code",
   "execution_count": 26,
   "id": "09c17012",
   "metadata": {},
   "outputs": [
    {
     "name": "stdout",
     "output_type": "stream",
     "text": [
      "Initiated AutoTS object with best model: \n",
      "Ensemble\n",
      "{}\n",
      "{'model_name': 'BestN', 'model_count': 5, 'model_metric': 'bestn_horizontal', 'models': {'42dfd1c8f8cb100121735094ef1d841f': {'Model': 'ARIMA', 'ModelParameters': '{\"p\": 12, \"d\": 0, \"q\": 1, \"regression_type\": null}', 'TransformationParameters': '{\"fillna\": \"ffill\", \"transformations\": {\"0\": \"DifferencedTransformer\", \"1\": \"PowerTransformer\", \"2\": \"QuantileTransformer\", \"3\": \"QuantileTransformer\", \"4\": \"EWMAFilter\"}, \"transformation_params\": {\"0\": {}, \"1\": {}, \"2\": {\"output_distribution\": \"uniform\", \"n_quantiles\": 2}, \"3\": {\"output_distribution\": \"normal\", \"n_quantiles\": 3}, \"4\": {\"span\": 12}}}'}, '30ae509eda5e5d17adf1dde948d7e3a5': {'Model': 'ARIMA', 'ModelParameters': '{\"p\": 12, \"d\": 3, \"q\": 1, \"regression_type\": null}', 'TransformationParameters': '{\"fillna\": \"ffill\", \"transformations\": {\"0\": \"Detrend\", \"1\": \"QuantileTransformer\", \"2\": \"QuantileTransformer\", \"3\": \"QuantileTransformer\"}, \"transformation_params\": {\"0\": {\"model\": \"GLS\", \"phi\": 1, \"window\": 10}, \"1\": {\"output_distribution\": \"uniform\", \"n_quantiles\": 3}, \"2\": {\"output_distribution\": \"uniform\", \"n_quantiles\": 3}, \"3\": {\"output_distribution\": \"normal\", \"n_quantiles\": 3}}}'}, '355ba4bc76c95741948aebf5fc14995f': {'Model': 'ARIMA', 'ModelParameters': '{\"p\": 2, \"d\": 0, \"q\": 1, \"regression_type\": null}', 'TransformationParameters': '{\"fillna\": \"ffill\", \"transformations\": {\"0\": \"DifferencedTransformer\", \"1\": \"PowerTransformer\", \"2\": \"QuantileTransformer\", \"3\": \"QuantileTransformer\", \"4\": \"EWMAFilter\"}, \"transformation_params\": {\"0\": {}, \"1\": {}, \"2\": {\"output_distribution\": \"uniform\", \"n_quantiles\": 2}, \"3\": {\"output_distribution\": \"normal\", \"n_quantiles\": 3}, \"4\": {\"span\": 12}}}'}, '8b3258af7fff36ee9c6fd15deffbaab4': {'Model': 'ARIMA', 'ModelParameters': '{\"p\": 0, \"d\": 0, \"q\": 2, \"regression_type\": null}', 'TransformationParameters': '{\"fillna\": \"ffill\", \"transformations\": {\"0\": \"Slice\", \"1\": \"DifferencedTransformer\"}, \"transformation_params\": {\"0\": {\"method\": 0.5}, \"1\": {}}}'}, 'a93925b5d336c79803a2230a04d690de': {'Model': 'ARIMA', 'ModelParameters': '{\"p\": 12, \"d\": 3, \"q\": 1, \"regression_type\": null}', 'TransformationParameters': '{\"fillna\": \"ffill\", \"transformations\": {\"0\": \"DifferencedTransformer\", \"1\": \"PowerTransformer\", \"2\": \"QuantileTransformer\", \"3\": \"QuantileTransformer\", \"4\": \"Detrend\", \"5\": \"EWMAFilter\"}, \"transformation_params\": {\"0\": {}, \"1\": {}, \"2\": {\"output_distribution\": \"uniform\", \"n_quantiles\": 2}, \"3\": {\"output_distribution\": \"normal\", \"n_quantiles\": 3}, \"4\": {\"model\": \"GLS\", \"phi\": 0.999, \"window\": null}, \"5\": {\"span\": 12}}}'}}, 'point_method': 'median', 'model_weights': {}}\n",
      "SMAPE: 0.7274426383491217, 3.6518716650293235, 0.4503319725879705\n",
      "MAE: 6.573411744424618, 29.609737850107194, 3.38986975723202\n",
      "SPL: 0.44705259643872286, 2.9533483845577897, 0.38937208874930573\n"
     ]
    }
   ],
   "source": [
    "print(model_arte_pre_mu_1)"
   ]
  },
  {
   "cell_type": "markdown",
   "id": "808a01d7",
   "metadata": {},
   "source": [
    "## El error medio absoluto es ##"
   ]
  },
  {
   "cell_type": "markdown",
   "id": "90b48781",
   "metadata": {},
   "source": [
    "## Modelo prediccion y resultado de serie de tiempo para la facultad de artes, pregrado mujeres en el segundo periodo ##"
   ]
  },
  {
   "cell_type": "code",
   "execution_count": 27,
   "id": "927184af",
   "metadata": {},
   "outputs": [],
   "source": [
    "#filtro por facultad Mujeres por periodo\n",
    "df_t_FMP2 = df_t_FM.loc[df_t_FM['Semestre_A'] == \"2\"]\n",
    "#filtro por facultad Mujeres por periodo por grado\n",
    "df_t_FMPG2 = df_t_FMP2.loc[df_t_FMP2['Grado'] == \"Pregrado\"]"
   ]
  },
  {
   "cell_type": "code",
   "execution_count": 28,
   "id": "3582453e",
   "metadata": {},
   "outputs": [],
   "source": [
    "#modelo para la facultad de artes, pregrado mujeres en el primer periodo \n",
    "model_arte_pre_mu_2 = AutoTS(forecast_length=2, frequency='infer', prediction_interval=0.80,\n",
    "                ensemble='simple', model_list=model_list, transformer_list='fast',\n",
    "                max_generations=5, num_validations=2)"
   ]
  },
  {
   "cell_type": "code",
   "execution_count": 29,
   "id": "cbd0e23c",
   "metadata": {},
   "outputs": [
    {
     "name": "stdout",
     "output_type": "stream",
     "text": [
      "Inferred frequency is: AS-JUN\n",
      "Model Number: 1 with model ARIMA in generation 0 of 5\n",
      "Model Number: 2 with model ARIMA in generation 0 of 5\n",
      "Model Number: 3 with model ARIMA in generation 0 of 5\n",
      "Model Number: 4 with model ARIMA in generation 0 of 5\n",
      "Model Number: 5 with model ARIMA in generation 0 of 5\n",
      "Model Number: 6 with model ARIMA in generation 0 of 5\n",
      "Model Number: 7 with model ARIMA in generation 0 of 5\n",
      "Model Number: 8 with model ARIMA in generation 0 of 5\n",
      "New Generation: 1 of 5\n",
      "Model Number: 9 with model ARIMA in generation 1 of 5\n",
      "Model Number: 10 with model ARIMA in generation 1 of 5\n",
      "Model Number: 11 with model ARIMA in generation 1 of 5\n",
      "Model Number: 12 with model ARIMA in generation 1 of 5\n",
      "Model Number: 13 with model ARIMA in generation 1 of 5\n",
      "New Generation: 2 of 5\n",
      "Model Number: 14 with model ARIMA in generation 2 of 5\n",
      "Model Number: 15 with model ARIMA in generation 2 of 5\n",
      "Model Number: 16 with model ARIMA in generation 2 of 5\n",
      "Model Number: 17 with model ARIMA in generation 2 of 5\n",
      "Model Number: 18 with model ARIMA in generation 2 of 5\n",
      "New Generation: 3 of 5\n",
      "Model Number: 19 with model ARIMA in generation 3 of 5\n",
      "Model Number: 20 with model ARIMA in generation 3 of 5\n",
      "Model Number: 21 with model ARIMA in generation 3 of 5\n",
      "Template Eval Error: Exception('Transformer DifferencedTransformer failed on inverse') in model 21: ARIMA\n",
      "Model Number: 22 with model ARIMA in generation 3 of 5\n",
      "Model Number: 23 with model ARIMA in generation 3 of 5\n",
      "New Generation: 4 of 5\n",
      "Model Number: 24 with model ARIMA in generation 4 of 5\n",
      "Model Number: 25 with model ARIMA in generation 4 of 5\n",
      "Model Number: 26 with model ARIMA in generation 4 of 5\n",
      "Model Number: 27 with model ARIMA in generation 4 of 5\n",
      "Model Number: 28 with model ARIMA in generation 4 of 5\n",
      "New Generation: 5 of 5\n",
      "Model Number: 29 with model ARIMA in generation 5 of 5\n",
      "Model Number: 30 with model ARIMA in generation 5 of 5\n",
      "Model Number: 31 with model ARIMA in generation 5 of 5\n",
      "Model Number: 32 with model ARIMA in generation 5 of 5\n",
      "Model Number: 33 with model ARIMA in generation 5 of 5\n",
      "Model Number: 34 with model Ensemble in generation 6 of Ensembles"
     ]
    },
    {
     "name": "stderr",
     "output_type": "stream",
     "text": [
      "C:\\Users\\ricar\\anaconda3\\envs\\Streamlit\\lib\\site-packages\\autots\\models\\ensemble.py:959: FutureWarning: The default dtype for empty Series will be 'object' instead of 'float64' in a future version. Specify a dtype explicitly to silence this warning.\n",
      "  cur_mods = pd.Series(models_pos).value_counts()\n",
      "C:\\Users\\ricar\\anaconda3\\envs\\Streamlit\\lib\\site-packages\\autots\\models\\ensemble.py:959: FutureWarning: The default dtype for empty Series will be 'object' instead of 'float64' in a future version. Specify a dtype explicitly to silence this warning.\n",
      "  cur_mods = pd.Series(models_pos).value_counts()\n"
     ]
    },
    {
     "name": "stdout",
     "output_type": "stream",
     "text": [
      "\n",
      "Model Number: 35 with model Ensemble in generation 6 of Ensembles\n",
      "Model Number: 36 with model Ensemble in generation 6 of Ensembles\n",
      "Model Number: 37 with model Ensemble in generation 6 of Ensembles\n",
      "Model Number: 38 with model Ensemble in generation 6 of Ensembles\n",
      "Validation Round: 1\n",
      "Model Number: 1 of 6 with model Ensemble for Validation 1\n",
      "📈 1 - Ensemble with avg smape 4.71: \n",
      "Model Number: 2 of 6 with model Ensemble for Validation 1\n",
      "📈 2 - Ensemble with avg smape 4.51: \n",
      "Model Number: 3 of 6 with model ARIMA for Validation 1\n",
      "3 - ARIMA with avg smape 4.51: \n",
      "Model Number: 4 of 6 with model Ensemble for Validation 1\n",
      "4 - Ensemble with avg smape 4.96: \n",
      "Model Number: 5 of 6 with model Ensemble for Validation 1\n",
      "5 - Ensemble with avg smape 4.89: \n",
      "Model Number: 6 of 6 with model Ensemble for Validation 1\n",
      "6 - Ensemble with avg smape 4.76: \n",
      "Validation Round: 2\n",
      "Model Number: 1 of 6 with model Ensemble for Validation 2\n",
      "📈 1 - Ensemble with avg smape 2.07: \n",
      "Model Number: 2 of 6 with model Ensemble for Validation 2\n",
      "2 - Ensemble with avg smape 200.0: \n",
      "Model Number: 3 of 6 with model ARIMA for Validation 2\n",
      "3 - ARIMA with avg smape 200.0: \n",
      "Model Number: 4 of 6 with model Ensemble for Validation 2\n",
      "4 - Ensemble with avg smape 40.79: \n",
      "Model Number: 5 of 6 with model Ensemble for Validation 2\n",
      "5 - Ensemble with avg smape 41.15: \n",
      "Model Number: 6 of 6 with model Ensemble for Validation 2\n",
      "6 - Ensemble with avg smape 2.07: \n"
     ]
    }
   ],
   "source": [
    "model_arte_pre_mu_2 = model_arte_pre_mu_2.fit(df_t_FMPG2,\n",
    "                                              date_col='Fecha_c', value_col='Matriculados', id_col=None)"
   ]
  },
  {
   "cell_type": "code",
   "execution_count": 30,
   "id": "040260f5",
   "metadata": {},
   "outputs": [
    {
     "name": "stdout",
     "output_type": "stream",
     "text": [
      "Initiated AutoTS object with best model: \n",
      "Ensemble\n",
      "{}\n",
      "{'model_name': 'BestN', 'model_count': 5, 'model_metric': 'bestn_horizontal', 'models': {'58b160a8696428cc5f43451b24980ce7': {'Model': 'ARIMA', 'ModelParameters': '{\"p\": 12, \"d\": 2, \"q\": 1, \"regression_type\": \"Holiday\"}', 'TransformationParameters': '{\"fillna\": \"pad\", \"transformations\": {\"0\": \"Slice\"}, \"transformation_params\": {\"0\": {\"method\": 0.5}}}'}, '1ea09997dc5856225e0d5d527e4d2ca8': {'Model': 'ARIMA', 'ModelParameters': '{\"p\": 0, \"d\": 0, \"q\": 4, \"regression_type\": null}', 'TransformationParameters': '{\"fillna\": \"pchip\", \"transformations\": {\"0\": \"Slice\", \"1\": \"DifferencedTransformer\", \"2\": \"PositiveShift\"}, \"transformation_params\": {\"0\": {\"method\": 0.5}, \"1\": {}, \"2\": {}}}'}, 'cb36a8fee9ac84b5851c0b34e6b58ed7': {'Model': 'ARIMA', 'ModelParameters': '{\"p\": 0, \"d\": 0, \"q\": 4, \"regression_type\": \"Holiday\"}', 'TransformationParameters': '{\"fillna\": \"ffill\", \"transformations\": {\"0\": \"Slice\", \"1\": \"DifferencedTransformer\", \"2\": \"PositiveShift\", \"3\": \"RollingMeanTransformer\", \"4\": \"PctChangeTransformer\"}, \"transformation_params\": {\"0\": {\"method\": 0.5}, \"1\": {}, \"2\": {}, \"3\": {\"fixed\": true, \"window\": 7}, \"4\": {}}}'}, '8b3258af7fff36ee9c6fd15deffbaab4': {'Model': 'ARIMA', 'ModelParameters': '{\"p\": 0, \"d\": 0, \"q\": 2, \"regression_type\": null}', 'TransformationParameters': '{\"fillna\": \"ffill\", \"transformations\": {\"0\": \"Slice\", \"1\": \"DifferencedTransformer\"}, \"transformation_params\": {\"0\": {\"method\": 0.5}, \"1\": {}}}'}, 'e38c6160fc59878c1be93f824079dc39': {'Model': 'ARIMA', 'ModelParameters': '{\"p\": 2, \"d\": 2, \"q\": 4, \"regression_type\": null}', 'TransformationParameters': '{\"fillna\": \"rolling_mean_24\", \"transformations\": {\"0\": \"PositiveShift\", \"1\": \"Log\"}, \"transformation_params\": {\"0\": {}, \"1\": {}}}'}}, 'point_method': 'median', 'model_weights': {}}\n",
      "SMAPE: 0.6651975767240936, 4.705971142495061, 2.067282234352448\n",
      "MAE: 5.993242329149496, 38.535788303991524, 15.690138657399245\n",
      "SPL: 0.41607008357841585, 3.9814863461982837, 0.7140885773459535\n"
     ]
    }
   ],
   "source": [
    "prediction_arte_pre_mu_2 = model_arte_pre_mu_2.predict()\n",
    "forecast_arte_pre_mu_2 =  prediction_arte_pre_mu_2.forecast\n",
    "print(model_arte_pre_mu_2)"
   ]
  },
  {
   "cell_type": "markdown",
   "id": "fcd7383e",
   "metadata": {},
   "source": [
    "## Modelo prediccion y resultado de serie de tiempo para la facultad de artes, pregrado hombres en el primer periodo ##"
   ]
  },
  {
   "cell_type": "code",
   "execution_count": 31,
   "id": "9e146040",
   "metadata": {},
   "outputs": [],
   "source": [
    "#filtro por facultad Mujeres por periodo\n",
    "df_t_FHP3 = df_t_FH.loc[df_t_FH['Semestre_A'] == \"1\"]\n",
    "#filtro por facultad Mujeres por periodo por grado\n",
    "df_t_FHPG3 = df_t_FHP3.loc[df_t_FHP3['Grado'] == \"Pregrado\"]"
   ]
  },
  {
   "cell_type": "code",
   "execution_count": 32,
   "id": "75de1861",
   "metadata": {},
   "outputs": [],
   "source": [
    "#modelo para la facultad de artes, pregrado mujeres en el primer periodo \n",
    "model_arte_pre_ho_3 = AutoTS(forecast_length=2, frequency='infer', prediction_interval=0.80,\n",
    "                ensemble='simple', model_list=model_list, transformer_list='fast',\n",
    "                max_generations=5, num_validations=2)"
   ]
  },
  {
   "cell_type": "code",
   "execution_count": 33,
   "id": "b9a39740",
   "metadata": {},
   "outputs": [
    {
     "name": "stdout",
     "output_type": "stream",
     "text": [
      "Inferred frequency is: AS-JAN\n",
      "Model Number: 1 with model ARIMA in generation 0 of 5\n",
      "Model Number: 2 with model ARIMA in generation 0 of 5\n",
      "Model Number: 3 with model ARIMA in generation 0 of 5\n",
      "Model Number: 4 with model ARIMA in generation 0 of 5\n",
      "Model Number: 5 with model ARIMA in generation 0 of 5\n",
      "Model Number: 6 with model ARIMA in generation 0 of 5\n",
      "Model Number: 7 with model ARIMA in generation 0 of 5\n",
      "Model Number: 8 with model ARIMA in generation 0 of 5\n",
      "New Generation: 1 of 5\n",
      "Model Number: 9 with model ARIMA in generation 1 of 5\n",
      "Model Number: 10 with model ARIMA in generation 1 of 5\n",
      "Model Number: 11 with model ARIMA in generation 1 of 5\n",
      "Model Number: 12 with model ARIMA in generation 1 of 5\n",
      "Model Number: 13 with model ARIMA in generation 1 of 5\n",
      "New Generation: 2 of 5\n",
      "Model Number: 14 with model ARIMA in generation 2 of 5\n",
      "Model Number: 15 with model ARIMA in generation 2 of 5\n",
      "Model Number: 16 with model ARIMA in generation 2 of 5\n",
      "Template Eval Error: ValueError('Model ARIMA returned NaN for one or more series. fail_on_forecast_nan=True') in model 16: ARIMA\n",
      "Model Number: 17 with model ARIMA in generation 2 of 5\n",
      "Model Number: 18 with model ARIMA in generation 2 of 5\n",
      "Template Eval Error: ValueError(\"regression_type='User' but future_regressor not supplied\") in model 18: ARIMA\n",
      "New Generation: 3 of 5\n",
      "Model Number: 19 with model ARIMA in generation 3 of 5\n",
      "Model Number: 20 with model ARIMA in generation 3 of 5\n",
      "Template Eval Error: Exception('Transformer DifferencedTransformer failed on inverse') in model 20: ARIMA\n",
      "Model Number: 21 with model ARIMA in generation 3 of 5\n",
      "Model Number: 22 with model ARIMA in generation 3 of 5\n",
      "Model Number: 23 with model ARIMA in generation 3 of 5\n",
      "New Generation: 4 of 5\n",
      "Model Number: 24 with model ARIMA in generation 4 of 5\n",
      "Model Number: 25 with model ARIMA in generation 4 of 5\n",
      "Model Number: 26 with model ARIMA in generation 4 of 5\n",
      "Model Number: 27 with model ARIMA in generation 4 of 5\n",
      "Model Number: 28 with model ARIMA in generation 4 of 5\n",
      "New Generation: 5 of 5\n",
      "Model Number: 29 with model ARIMA in generation 5 of 5\n",
      "Model Number: 30 with model ARIMA in generation 5 of 5\n",
      "Template Eval Error: ValueError(\"regression_type='User' but future_regressor not supplied\") in model 30: ARIMA\n",
      "Model Number: 31 with model ARIMA in generation 5 of 5\n",
      "Template Eval Error: ValueError(\"regression_type='User' but future_regressor not supplied\") in model 31: ARIMA\n",
      "Model Number: 32 with model ARIMA in generation 5 of 5\n",
      "Model Number: 33 with model ARIMA in generation 5 of 5\n"
     ]
    },
    {
     "name": "stderr",
     "output_type": "stream",
     "text": [
      "C:\\Users\\ricar\\anaconda3\\envs\\Streamlit\\lib\\site-packages\\autots\\models\\ensemble.py:959: FutureWarning: The default dtype for empty Series will be 'object' instead of 'float64' in a future version. Specify a dtype explicitly to silence this warning.\n",
      "  cur_mods = pd.Series(models_pos).value_counts()\n",
      "C:\\Users\\ricar\\anaconda3\\envs\\Streamlit\\lib\\site-packages\\autots\\models\\ensemble.py:959: FutureWarning: The default dtype for empty Series will be 'object' instead of 'float64' in a future version. Specify a dtype explicitly to silence this warning.\n",
      "  cur_mods = pd.Series(models_pos).value_counts()\n"
     ]
    },
    {
     "name": "stdout",
     "output_type": "stream",
     "text": [
      "Model Number: 34 with model Ensemble in generation 6 of Ensembles\n",
      "Model Number: 35 with model Ensemble in generation 6 of Ensembles\n",
      "Model Number: 36 with model Ensemble in generation 6 of Ensembles\n",
      "Model Number: 37 with model Ensemble in generation 6 of Ensembles\n",
      "Model Number: 38 with model Ensemble in generation 6 of Ensembles\n",
      "Validation Round: 1\n",
      "Model Number: 1 of 6 with model Ensemble for Validation 1\n",
      "📈 1 - Ensemble with avg smape 7.59: \n",
      "Model Number: 2 of 6 with model ARIMA for Validation 1\n",
      "2 - ARIMA with avg smape 7.59: \n",
      "Model Number: 3 of 6 with model Ensemble for Validation 1\n",
      "Traceback (most recent call last):\n",
      "  File \"C:\\Users\\ricar\\anaconda3\\envs\\Streamlit\\lib\\site-packages\\autots\\tools\\transform.py\", line 2811, in inverse_transform\n",
      "    df = self.transformers[i].inverse_transform(\n",
      "  File \"C:\\Users\\ricar\\anaconda3\\envs\\Streamlit\\lib\\site-packages\\autots\\tools\\transform.py\", line 2221, in inverse_transform\n",
      "    raise ValueError(\"NaN in MeanDifference.inverse_transform\")\n",
      "ValueError: NaN in MeanDifference.inverse_transform\n",
      "\n",
      "The above exception was the direct cause of the following exception:\n",
      "\n",
      "Traceback (most recent call last):\n",
      "  File \"C:\\Users\\ricar\\anaconda3\\envs\\Streamlit\\lib\\site-packages\\autots\\evaluator\\auto_model.py\", line 985, in model_forecast\n",
      "    df_forecast = model_forecast(\n",
      "  File \"C:\\Users\\ricar\\anaconda3\\envs\\Streamlit\\lib\\site-packages\\autots\\evaluator\\auto_model.py\", line 1071, in model_forecast\n",
      "    df_forecast = ModelPrediction(\n",
      "  File \"C:\\Users\\ricar\\anaconda3\\envs\\Streamlit\\lib\\site-packages\\autots\\evaluator\\auto_model.py\", line 632, in ModelPrediction\n",
      "    transformer_object.inverse_transform(df_forecast.lower_forecast, fillzero=True)\n",
      "  File \"C:\\Users\\ricar\\anaconda3\\envs\\Streamlit\\lib\\site-packages\\autots\\tools\\transform.py\", line 2822, in inverse_transform\n",
      "    raise Exception(\n",
      "Exception: Transformer MeanDifference failed on inverse\n",
      "\n",
      "FAILED: Ensemble BestN component 3 of 3 ARIMA with error: Exception('Transformer MeanDifference failed on inverse')\n",
      "3 - Ensemble with avg smape 8.47: \n",
      "Model Number: 4 of 6 with model Ensemble for Validation 1\n",
      "Traceback (most recent call last):\n",
      "  File \"C:\\Users\\ricar\\anaconda3\\envs\\Streamlit\\lib\\site-packages\\autots\\tools\\transform.py\", line 2811, in inverse_transform\n",
      "    df = self.transformers[i].inverse_transform(\n",
      "  File \"C:\\Users\\ricar\\anaconda3\\envs\\Streamlit\\lib\\site-packages\\autots\\tools\\transform.py\", line 2221, in inverse_transform\n",
      "    raise ValueError(\"NaN in MeanDifference.inverse_transform\")\n",
      "ValueError: NaN in MeanDifference.inverse_transform\n",
      "\n",
      "The above exception was the direct cause of the following exception:\n",
      "\n",
      "Traceback (most recent call last):\n",
      "  File \"C:\\Users\\ricar\\anaconda3\\envs\\Streamlit\\lib\\site-packages\\autots\\evaluator\\auto_model.py\", line 985, in model_forecast\n",
      "    df_forecast = model_forecast(\n",
      "  File \"C:\\Users\\ricar\\anaconda3\\envs\\Streamlit\\lib\\site-packages\\autots\\evaluator\\auto_model.py\", line 1071, in model_forecast\n",
      "    df_forecast = ModelPrediction(\n",
      "  File \"C:\\Users\\ricar\\anaconda3\\envs\\Streamlit\\lib\\site-packages\\autots\\evaluator\\auto_model.py\", line 632, in ModelPrediction\n",
      "    transformer_object.inverse_transform(df_forecast.lower_forecast, fillzero=True)\n",
      "  File \"C:\\Users\\ricar\\anaconda3\\envs\\Streamlit\\lib\\site-packages\\autots\\tools\\transform.py\", line 2822, in inverse_transform\n",
      "    raise Exception(\n",
      "Exception: Transformer MeanDifference failed on inverse\n",
      "\n",
      "FAILED: Ensemble BestN component 3 of 3 ARIMA with error: Exception('Transformer MeanDifference failed on inverse')\n",
      "4 - Ensemble with avg smape 8.47: \n",
      "Model Number: 5 of 6 with model ARIMA for Validation 1\n",
      "Template Eval Error: Exception('Transformer MeanDifference failed on inverse') in model 5: ARIMA\n",
      "Model Number: 6 of 6 with model Ensemble for Validation 1\n",
      "Traceback (most recent call last):\n",
      "  File \"C:\\Users\\ricar\\anaconda3\\envs\\Streamlit\\lib\\site-packages\\autots\\tools\\transform.py\", line 2811, in inverse_transform\n",
      "    df = self.transformers[i].inverse_transform(\n",
      "  File \"C:\\Users\\ricar\\anaconda3\\envs\\Streamlit\\lib\\site-packages\\autots\\tools\\transform.py\", line 2221, in inverse_transform\n",
      "    raise ValueError(\"NaN in MeanDifference.inverse_transform\")\n",
      "ValueError: NaN in MeanDifference.inverse_transform\n",
      "\n",
      "The above exception was the direct cause of the following exception:\n",
      "\n",
      "Traceback (most recent call last):\n",
      "  File \"C:\\Users\\ricar\\anaconda3\\envs\\Streamlit\\lib\\site-packages\\autots\\evaluator\\auto_model.py\", line 985, in model_forecast\n",
      "    df_forecast = model_forecast(\n",
      "  File \"C:\\Users\\ricar\\anaconda3\\envs\\Streamlit\\lib\\site-packages\\autots\\evaluator\\auto_model.py\", line 1071, in model_forecast\n",
      "    df_forecast = ModelPrediction(\n",
      "  File \"C:\\Users\\ricar\\anaconda3\\envs\\Streamlit\\lib\\site-packages\\autots\\evaluator\\auto_model.py\", line 632, in ModelPrediction\n",
      "    transformer_object.inverse_transform(df_forecast.lower_forecast, fillzero=True)\n",
      "  File \"C:\\Users\\ricar\\anaconda3\\envs\\Streamlit\\lib\\site-packages\\autots\\tools\\transform.py\", line 2822, in inverse_transform\n",
      "    raise Exception(\n",
      "Exception: Transformer MeanDifference failed on inverse\n",
      "\n",
      "FAILED: Ensemble BestN component 3 of 5 ARIMA with error: Exception('Transformer MeanDifference failed on inverse')\n",
      "6 - Ensemble with avg smape 8.47: \n",
      "Validation Round: 2\n",
      "Model Number: 1 of 6 with model Ensemble for Validation 2\n",
      "📈 1 - Ensemble with avg smape 6.01: \n",
      "Model Number: 2 of 6 with model ARIMA for Validation 2\n",
      "2 - ARIMA with avg smape 6.01: \n",
      "Model Number: 3 of 6 with model Ensemble for Validation 2\n",
      "3 - Ensemble with avg smape 10.17: \n",
      "Model Number: 4 of 6 with model Ensemble for Validation 2\n",
      "4 - Ensemble with avg smape 10.17: \n",
      "Model Number: 5 of 6 with model ARIMA for Validation 2\n",
      "5 - ARIMA with avg smape 12.32: \n",
      "Model Number: 6 of 6 with model Ensemble for Validation 2\n",
      "Traceback (most recent call last):\n",
      "  File \"C:\\Users\\ricar\\anaconda3\\envs\\Streamlit\\lib\\site-packages\\autots\\tools\\transform.py\", line 2811, in inverse_transform\n",
      "    df = self.transformers[i].inverse_transform(\n",
      "  File \"C:\\Users\\ricar\\anaconda3\\envs\\Streamlit\\lib\\site-packages\\autots\\tools\\transform.py\", line 1210, in inverse_transform\n",
      "    raise ValueError(\"NaN in DifferencedTransformer.inverse_transform\")\n",
      "ValueError: NaN in DifferencedTransformer.inverse_transform\n",
      "\n",
      "The above exception was the direct cause of the following exception:\n",
      "\n",
      "Traceback (most recent call last):\n",
      "  File \"C:\\Users\\ricar\\anaconda3\\envs\\Streamlit\\lib\\site-packages\\autots\\evaluator\\auto_model.py\", line 985, in model_forecast\n",
      "    df_forecast = model_forecast(\n",
      "  File \"C:\\Users\\ricar\\anaconda3\\envs\\Streamlit\\lib\\site-packages\\autots\\evaluator\\auto_model.py\", line 1071, in model_forecast\n",
      "    df_forecast = ModelPrediction(\n",
      "  File \"C:\\Users\\ricar\\anaconda3\\envs\\Streamlit\\lib\\site-packages\\autots\\evaluator\\auto_model.py\", line 632, in ModelPrediction\n",
      "    transformer_object.inverse_transform(df_forecast.lower_forecast, fillzero=True)\n",
      "  File \"C:\\Users\\ricar\\anaconda3\\envs\\Streamlit\\lib\\site-packages\\autots\\tools\\transform.py\", line 2822, in inverse_transform\n",
      "    raise Exception(\n",
      "Exception: Transformer DifferencedTransformer failed on inverse\n",
      "\n",
      "FAILED: Ensemble BestN component 6 of 5 ARIMA with error: Exception('Transformer DifferencedTransformer failed on inverse')\n",
      "6 - Ensemble with avg smape 12.32: \n"
     ]
    }
   ],
   "source": [
    "model_arte_pre_ho_3 = model_arte_pre_ho_3.fit(df_t_FHPG3,\n",
    "                                              date_col='Fecha_c', value_col='Matriculados', id_col=None)"
   ]
  },
  {
   "cell_type": "code",
   "execution_count": 34,
   "id": "c2fc4681",
   "metadata": {},
   "outputs": [
    {
     "name": "stdout",
     "output_type": "stream",
     "text": [
      "Initiated AutoTS object with best model: \n",
      "ARIMA\n",
      "{'fillna': 'median', 'transformations': {'0': 'DifferencedTransformer', '1': 'PowerTransformer', '2': 'Detrend', '3': 'EWMAFilter'}, 'transformation_params': {'0': {}, '1': {}, '2': {'model': 'GLS', 'phi': 0.999, 'window': None}, '3': {'span': 12}}}\n",
      "{'p': 7, 'd': 3, 'q': 2, 'regression_type': None}\n",
      "SMAPE: 0.25616346359862235, 7.594332303119591, 6.009206566814427\n",
      "MAE: 3.880745697459929, 127.52190184051562, 95.57996372251421\n",
      "SPL: 0.06318608212065543, 2.8319631823196145, 2.1422402329486725\n"
     ]
    }
   ],
   "source": [
    "prediction_arte_pre_ho_3 = model_arte_pre_ho_3.predict()\n",
    "forecast_arte_pre_ho_3 =  prediction_arte_pre_ho_3.forecast\n",
    "print(model_arte_pre_ho_3)"
   ]
  },
  {
   "cell_type": "markdown",
   "id": "11f448ad",
   "metadata": {},
   "source": [
    "## Modelo prediccion y resultado de serie de tiempo para la facultad de artes, pregrado hombres en el segundo periodo ##"
   ]
  },
  {
   "cell_type": "code",
   "execution_count": 35,
   "id": "83fa71a8",
   "metadata": {},
   "outputs": [],
   "source": [
    "#filtro por facultad Mujeres por periodo\n",
    "df_t_FHP4 = df_t_FH.loc[df_t_FH['Semestre_A'] == \"2\"]\n",
    "#filtro por facultad Mujeres por periodo por grado\n",
    "df_t_FHPG4 = df_t_FHP4.loc[df_t_FHP4['Grado'] == \"Pregrado\"]"
   ]
  },
  {
   "cell_type": "code",
   "execution_count": 36,
   "id": "b5ea3608",
   "metadata": {},
   "outputs": [],
   "source": [
    "#modelo para la facultad de artes, pregrado mujeres en el primer periodo \n",
    "model_arte_pre_ho_4 = AutoTS(forecast_length=2, frequency='infer', prediction_interval=0.80,\n",
    "                ensemble='simple', model_list=model_list, transformer_list='fast',\n",
    "                max_generations=5, num_validations=2)"
   ]
  },
  {
   "cell_type": "code",
   "execution_count": 38,
   "id": "4a3b9542",
   "metadata": {},
   "outputs": [
    {
     "name": "stdout",
     "output_type": "stream",
     "text": [
      "Inferred frequency is: AS-JUN\n",
      "Model Number: 1 with model ARIMA in generation 0 of 5\n",
      "Model Number: 2 with model ARIMA in generation 0 of 5\n",
      "Model Number: 3 with model ARIMA in generation 0 of 5\n",
      "Model Number: 4 with model ARIMA in generation 0 of 5\n",
      "Model Number: 5 with model ARIMA in generation 0 of 5\n",
      "Model Number: 6 with model ARIMA in generation 0 of 5\n",
      "Model Number: 7 with model ARIMA in generation 0 of 5\n",
      "Model Number: 8 with model ARIMA in generation 0 of 5\n",
      "New Generation: 1 of 5\n",
      "Model Number: 9 with model ARIMA in generation 1 of 5\n",
      "Model Number: 10 with model ARIMA in generation 1 of 5\n",
      "Model Number: 11 with model ARIMA in generation 1 of 5\n",
      "Model Number: 12 with model ARIMA in generation 1 of 5\n",
      "Model Number: 13 with model ARIMA in generation 1 of 5\n",
      "New Generation: 2 of 5\n",
      "Model Number: 14 with model ARIMA in generation 2 of 5\n",
      "Model Number: 15 with model ARIMA in generation 2 of 5\n",
      "Model Number: 16 with model ARIMA in generation 2 of 5\n",
      "Template Eval Error: ValueError(\"regression_type='User' but future_regressor not supplied\") in model 16: ARIMA\n",
      "Model Number: 17 with model ARIMA in generation 2 of 5\n",
      "Model Number: 18 with model ARIMA in generation 2 of 5\n",
      "Template Eval Error: ValueError(\"regression_type='User' but future_regressor not supplied\") in model 18: ARIMA\n",
      "New Generation: 3 of 5\n",
      "Model Number: 19 with model ARIMA in generation 3 of 5\n",
      "Model Number: 20 with model ARIMA in generation 3 of 5\n",
      "Model Number: 21 with model ARIMA in generation 3 of 5\n",
      "Model Number: 22 with model ARIMA in generation 3 of 5\n",
      "Model Number: 23 with model ARIMA in generation 3 of 5\n",
      "New Generation: 4 of 5\n",
      "Model Number: 24 with model ARIMA in generation 4 of 5\n",
      "Model Number: 25 with model ARIMA in generation 4 of 5\n",
      "Model Number: 26 with model ARIMA in generation 4 of 5\n",
      "Model Number: 27 with model ARIMA in generation 4 of 5\n",
      "Model Number: 28 with model ARIMA in generation 4 of 5\n",
      "New Generation: 5 of 5\n",
      "Model Number: 29 with model ARIMA in generation 5 of 5\n",
      "Model Number: 30 with model ARIMA in generation 5 of 5\n",
      "Model Number: 31 with model ARIMA in generation 5 of 5\n",
      "Model Number: 32 with model ARIMA in generation 5 of 5\n",
      "Model Number: 33 with model ARIMA in generation 5 of 5\n"
     ]
    },
    {
     "name": "stderr",
     "output_type": "stream",
     "text": [
      "C:\\Users\\ricar\\anaconda3\\envs\\Streamlit\\lib\\site-packages\\autots\\models\\ensemble.py:959: FutureWarning: The default dtype for empty Series will be 'object' instead of 'float64' in a future version. Specify a dtype explicitly to silence this warning.\n",
      "  cur_mods = pd.Series(models_pos).value_counts()\n",
      "C:\\Users\\ricar\\anaconda3\\envs\\Streamlit\\lib\\site-packages\\autots\\models\\ensemble.py:959: FutureWarning: The default dtype for empty Series will be 'object' instead of 'float64' in a future version. Specify a dtype explicitly to silence this warning.\n",
      "  cur_mods = pd.Series(models_pos).value_counts()\n"
     ]
    },
    {
     "name": "stdout",
     "output_type": "stream",
     "text": [
      "Model Number: 34 with model Ensemble in generation 6 of Ensembles\n",
      "Model Number: 35 with model Ensemble in generation 6 of Ensembles\n",
      "Model Number: 36 with model Ensemble in generation 6 of Ensembles\n",
      "Model Number: 37 with model Ensemble in generation 6 of Ensembles\n",
      "Model Number: 38 with model Ensemble in generation 6 of Ensembles\n",
      "Validation Round: 1\n",
      "Model Number: 1 of 6 with model Ensemble for Validation 1\n",
      "📈 1 - Ensemble with avg smape 2.96: \n",
      "Model Number: 2 of 6 with model Ensemble for Validation 1\n",
      "📈 2 - Ensemble with avg smape 2.71: \n",
      "Model Number: 3 of 6 with model ARIMA for Validation 1\n",
      "3 - ARIMA with avg smape 2.71: \n",
      "Model Number: 4 of 6 with model ARIMA for Validation 1\n",
      "4 - ARIMA with avg smape 3.28: \n",
      "Model Number: 5 of 6 with model Ensemble for Validation 1\n",
      "5 - Ensemble with avg smape 2.83: \n",
      "Model Number: 6 of 6 with model Ensemble for Validation 1\n",
      "6 - Ensemble with avg smape 2.76: \n",
      "Validation Round: 2\n",
      "Model Number: 1 of 6 with model Ensemble for Validation 2\n",
      "📈 1 - Ensemble with avg smape 7.73: \n",
      "Model Number: 2 of 6 with model Ensemble for Validation 2\n",
      "2 - Ensemble with avg smape 7.73: \n",
      "Model Number: 3 of 6 with model ARIMA for Validation 2\n",
      "3 - ARIMA with avg smape 7.73: \n",
      "Model Number: 4 of 6 with model ARIMA for Validation 2\n",
      "4 - ARIMA with avg smape 7.73: \n",
      "Model Number: 5 of 6 with model Ensemble for Validation 2\n",
      "5 - Ensemble with avg smape 7.73: \n",
      "Model Number: 6 of 6 with model Ensemble for Validation 2\n",
      "6 - Ensemble with avg smape 7.73: \n"
     ]
    }
   ],
   "source": [
    "model_arte_pre_ho_4 = model_arte_pre_ho_4.fit(df_t_FHPG4,\n",
    "                                              date_col='Fecha_c', value_col='Matriculados', id_col=None)"
   ]
  },
  {
   "cell_type": "code",
   "execution_count": 39,
   "id": "bcb1ca1d",
   "metadata": {},
   "outputs": [
    {
     "name": "stdout",
     "output_type": "stream",
     "text": [
      "Initiated AutoTS object with best model: \n",
      "ARIMA\n",
      "{'fillna': 'rolling_mean_24', 'transformations': {'0': 'SeasonalDifference', '1': 'QuantileTransformer', '2': 'StandardScaler'}, 'transformation_params': {'0': {'lag_1': 7, 'method': 'Mean'}, '1': {'output_distribution': 'uniform', 'n_quantiles': 2}, '2': {}}}\n",
      "{'p': 5, 'd': 0, 'q': 12, 'regression_type': None}\n",
      "SMAPE: 2.8856579098572674, 2.7096822004878134, 7.729022436976845\n",
      "MAE: 42.585052157998234, 42.495663771739146, 121.5\n",
      "SPL: 1.0536345152837978, 1.0484036176296696, 3.1153846153846154\n"
     ]
    }
   ],
   "source": [
    "prediction_arte_pre_ho_4 = model_arte_pre_ho_4.predict()\n",
    "forecast_arte_pre_ho_4 =  prediction_arte_pre_ho_4.forecast\n",
    "print(model_arte_pre_ho_4)"
   ]
  },
  {
   "cell_type": "code",
   "execution_count": 58,
   "id": "accc809f",
   "metadata": {},
   "outputs": [
    {
     "name": "stdout",
     "output_type": "stream",
     "text": [
      "            Matriculados\n",
      "2021-01-01    936.561983\n",
      "2022-01-01    968.116380\n",
      "            Matriculados\n",
      "2021-06-01    905.130063\n",
      "2022-06-01    896.542624\n",
      "            Matriculados\n",
      "2021-01-01   1506.545596\n",
      "2022-01-01   1510.033889\n",
      "            Matriculados\n",
      "2021-06-01   1591.265169\n",
      "2022-06-01   1627.800879\n"
     ]
    }
   ],
   "source": [
    "\n",
    "print(forecast_arte_pre_mu_1)\n",
    "print(forecast_arte_pre_mu_2)\n",
    "print(forecast_arte_pre_ho_3)\n",
    "print(forecast_arte_pre_ho_4)"
   ]
  },
  {
   "cell_type": "code",
   "execution_count": 44,
   "id": "a32c456a",
   "metadata": {},
   "outputs": [],
   "source": [
    "import plotly.graph_objs as go"
   ]
  },
  {
   "cell_type": "code",
   "execution_count": 61,
   "id": "0d5fba33",
   "metadata": {},
   "outputs": [
    {
     "data": {
      "application/vnd.plotly.v1+json": {
       "config": {
        "plotlyServerURL": "https://plot.ly"
       },
       "data": [
        {
         "marker": {
          "color": "red",
          "size": 2
         },
         "mode": "lines+markers",
         "name": "F.Artes, pregrado mujeres P.1",
         "showlegend": true,
         "type": "scatter",
         "x": [
          "2009-01-01T00:00:00",
          "2010-01-01T00:00:00",
          "2011-01-01T00:00:00",
          "2012-01-01T00:00:00",
          "2013-01-01T00:00:00",
          "2014-01-01T00:00:00",
          "2015-01-01T00:00:00",
          "2016-01-01T00:00:00",
          "2017-01-01T00:00:00",
          "2018-01-01T00:00:00",
          "2019-01-01T00:00:00",
          "2020-01-01T00:00:00"
         ],
         "y": [
          724,
          732,
          729,
          720,
          732,
          745,
          748,
          766,
          793,
          841,
          888,
          904
         ]
        },
        {
         "line": {
          "width": 2
         },
         "marker": {
          "color": "violet",
          "size": 2
         },
         "mode": "lines+markers",
         "name": "F.Artes, pregrado mujeres P.2",
         "showlegend": true,
         "type": "scatter",
         "x": [
          "2009-06-01T00:00:00",
          "2010-06-01T00:00:00",
          "2011-06-01T00:00:00",
          "2012-06-01T00:00:00",
          "2013-06-01T00:00:00",
          "2014-06-01T00:00:00",
          "2015-06-01T00:00:00",
          "2016-06-01T00:00:00",
          "2017-06-01T00:00:00",
          "2018-06-01T00:00:00",
          "2019-06-01T00:00:00",
          "2020-06-01T00:00:00"
         ],
         "y": [
          722,
          720,
          719,
          711,
          731,
          744,
          759,
          772,
          805,
          856,
          905,
          914
         ]
        },
        {
         "line": {
          "width": 2
         },
         "marker": {
          "color": "green",
          "size": 2
         },
         "mode": "lines+markers",
         "name": "F.Artes, pregrado hombres P.1",
         "showlegend": true,
         "type": "scatter",
         "x": [
          "2009-01-01T00:00:00",
          "2010-01-01T00:00:00",
          "2011-01-01T00:00:00",
          "2012-01-01T00:00:00",
          "2013-01-01T00:00:00",
          "2014-01-01T00:00:00",
          "2015-01-01T00:00:00",
          "2016-01-01T00:00:00",
          "2017-01-01T00:00:00",
          "2018-01-01T00:00:00",
          "2019-01-01T00:00:00",
          "2020-01-01T00:00:00"
         ],
         "y": [
          1470,
          1540,
          1586,
          1582,
          1616,
          1549,
          1639,
          1638,
          1646,
          1581,
          1547,
          1503
         ]
        },
        {
         "line": {
          "width": 2
         },
         "marker": {
          "color": "orange",
          "size": 2
         },
         "mode": "lines+markers",
         "name": "F.Artes, pregrado hombres P.2",
         "showlegend": true,
         "type": "scatter",
         "x": [
          "2009-06-01T00:00:00",
          "2010-06-01T00:00:00",
          "2011-06-01T00:00:00",
          "2012-06-01T00:00:00",
          "2013-06-01T00:00:00",
          "2014-06-01T00:00:00",
          "2015-06-01T00:00:00",
          "2016-06-01T00:00:00",
          "2017-06-01T00:00:00",
          "2018-06-01T00:00:00",
          "2019-06-01T00:00:00",
          "2020-06-01T00:00:00"
         ],
         "y": [
          1498,
          1525,
          1590,
          1568,
          1544,
          1601,
          1644,
          1622,
          1609,
          1579,
          1559,
          1429
         ]
        },
        {
         "marker": {
          "color": "red",
          "size": 2
         },
         "mode": "lines+markers",
         "name": "Pronostico: F.Artes, pregrado mujeres P.1",
         "showlegend": true,
         "type": "scatter",
         "x": [
          "2021-01-01T00:00:00",
          "2022-01-01T00:00:00"
         ],
         "y": [
          936.5619834536938,
          968.116380167126
         ]
        },
        {
         "line": {
          "width": 2
         },
         "marker": {
          "color": "violet",
          "size": 2
         },
         "mode": "lines+markers",
         "name": "Pronostico: F.Artes, pregrado mujeres P.2",
         "showlegend": true,
         "type": "scatter",
         "x": [
          "2021-06-01T00:00:00",
          "2022-06-01T00:00:00"
         ],
         "y": [
          905.1300625373477,
          896.5426240049737
         ]
        },
        {
         "line": {
          "width": 2
         },
         "marker": {
          "color": "green",
          "size": 2
         },
         "mode": "lines+markers",
         "name": "Pronostico: F.Artes, pregrado hombres P.1",
         "showlegend": true,
         "type": "scatter",
         "x": [
          "2021-01-01T00:00:00",
          "2022-01-01T00:00:00"
         ],
         "y": [
          1506.5455958238367,
          1510.0338891239644
         ]
        },
        {
         "line": {
          "width": 2
         },
         "marker": {
          "color": "orange",
          "size": 2
         },
         "mode": "lines+markers",
         "name": "Pronostico: F.Artes, pregrado hombres P.2",
         "showlegend": true,
         "type": "scatter",
         "x": [
          "2021-06-01T00:00:00",
          "2022-06-01T00:00:00"
         ],
         "y": [
          1591.2651693378493,
          1627.8008789301382
         ]
        }
       ],
       "layout": {
        "hovermode": "x",
        "template": {
         "data": {
          "bar": [
           {
            "error_x": {
             "color": "#2a3f5f"
            },
            "error_y": {
             "color": "#2a3f5f"
            },
            "marker": {
             "line": {
              "color": "#E5ECF6",
              "width": 0.5
             }
            },
            "type": "bar"
           }
          ],
          "barpolar": [
           {
            "marker": {
             "line": {
              "color": "#E5ECF6",
              "width": 0.5
             }
            },
            "type": "barpolar"
           }
          ],
          "carpet": [
           {
            "aaxis": {
             "endlinecolor": "#2a3f5f",
             "gridcolor": "white",
             "linecolor": "white",
             "minorgridcolor": "white",
             "startlinecolor": "#2a3f5f"
            },
            "baxis": {
             "endlinecolor": "#2a3f5f",
             "gridcolor": "white",
             "linecolor": "white",
             "minorgridcolor": "white",
             "startlinecolor": "#2a3f5f"
            },
            "type": "carpet"
           }
          ],
          "choropleth": [
           {
            "colorbar": {
             "outlinewidth": 0,
             "ticks": ""
            },
            "type": "choropleth"
           }
          ],
          "contour": [
           {
            "colorbar": {
             "outlinewidth": 0,
             "ticks": ""
            },
            "colorscale": [
             [
              0,
              "#0d0887"
             ],
             [
              0.1111111111111111,
              "#46039f"
             ],
             [
              0.2222222222222222,
              "#7201a8"
             ],
             [
              0.3333333333333333,
              "#9c179e"
             ],
             [
              0.4444444444444444,
              "#bd3786"
             ],
             [
              0.5555555555555556,
              "#d8576b"
             ],
             [
              0.6666666666666666,
              "#ed7953"
             ],
             [
              0.7777777777777778,
              "#fb9f3a"
             ],
             [
              0.8888888888888888,
              "#fdca26"
             ],
             [
              1,
              "#f0f921"
             ]
            ],
            "type": "contour"
           }
          ],
          "contourcarpet": [
           {
            "colorbar": {
             "outlinewidth": 0,
             "ticks": ""
            },
            "type": "contourcarpet"
           }
          ],
          "heatmap": [
           {
            "colorbar": {
             "outlinewidth": 0,
             "ticks": ""
            },
            "colorscale": [
             [
              0,
              "#0d0887"
             ],
             [
              0.1111111111111111,
              "#46039f"
             ],
             [
              0.2222222222222222,
              "#7201a8"
             ],
             [
              0.3333333333333333,
              "#9c179e"
             ],
             [
              0.4444444444444444,
              "#bd3786"
             ],
             [
              0.5555555555555556,
              "#d8576b"
             ],
             [
              0.6666666666666666,
              "#ed7953"
             ],
             [
              0.7777777777777778,
              "#fb9f3a"
             ],
             [
              0.8888888888888888,
              "#fdca26"
             ],
             [
              1,
              "#f0f921"
             ]
            ],
            "type": "heatmap"
           }
          ],
          "heatmapgl": [
           {
            "colorbar": {
             "outlinewidth": 0,
             "ticks": ""
            },
            "colorscale": [
             [
              0,
              "#0d0887"
             ],
             [
              0.1111111111111111,
              "#46039f"
             ],
             [
              0.2222222222222222,
              "#7201a8"
             ],
             [
              0.3333333333333333,
              "#9c179e"
             ],
             [
              0.4444444444444444,
              "#bd3786"
             ],
             [
              0.5555555555555556,
              "#d8576b"
             ],
             [
              0.6666666666666666,
              "#ed7953"
             ],
             [
              0.7777777777777778,
              "#fb9f3a"
             ],
             [
              0.8888888888888888,
              "#fdca26"
             ],
             [
              1,
              "#f0f921"
             ]
            ],
            "type": "heatmapgl"
           }
          ],
          "histogram": [
           {
            "marker": {
             "colorbar": {
              "outlinewidth": 0,
              "ticks": ""
             }
            },
            "type": "histogram"
           }
          ],
          "histogram2d": [
           {
            "colorbar": {
             "outlinewidth": 0,
             "ticks": ""
            },
            "colorscale": [
             [
              0,
              "#0d0887"
             ],
             [
              0.1111111111111111,
              "#46039f"
             ],
             [
              0.2222222222222222,
              "#7201a8"
             ],
             [
              0.3333333333333333,
              "#9c179e"
             ],
             [
              0.4444444444444444,
              "#bd3786"
             ],
             [
              0.5555555555555556,
              "#d8576b"
             ],
             [
              0.6666666666666666,
              "#ed7953"
             ],
             [
              0.7777777777777778,
              "#fb9f3a"
             ],
             [
              0.8888888888888888,
              "#fdca26"
             ],
             [
              1,
              "#f0f921"
             ]
            ],
            "type": "histogram2d"
           }
          ],
          "histogram2dcontour": [
           {
            "colorbar": {
             "outlinewidth": 0,
             "ticks": ""
            },
            "colorscale": [
             [
              0,
              "#0d0887"
             ],
             [
              0.1111111111111111,
              "#46039f"
             ],
             [
              0.2222222222222222,
              "#7201a8"
             ],
             [
              0.3333333333333333,
              "#9c179e"
             ],
             [
              0.4444444444444444,
              "#bd3786"
             ],
             [
              0.5555555555555556,
              "#d8576b"
             ],
             [
              0.6666666666666666,
              "#ed7953"
             ],
             [
              0.7777777777777778,
              "#fb9f3a"
             ],
             [
              0.8888888888888888,
              "#fdca26"
             ],
             [
              1,
              "#f0f921"
             ]
            ],
            "type": "histogram2dcontour"
           }
          ],
          "mesh3d": [
           {
            "colorbar": {
             "outlinewidth": 0,
             "ticks": ""
            },
            "type": "mesh3d"
           }
          ],
          "parcoords": [
           {
            "line": {
             "colorbar": {
              "outlinewidth": 0,
              "ticks": ""
             }
            },
            "type": "parcoords"
           }
          ],
          "pie": [
           {
            "automargin": true,
            "type": "pie"
           }
          ],
          "scatter": [
           {
            "marker": {
             "colorbar": {
              "outlinewidth": 0,
              "ticks": ""
             }
            },
            "type": "scatter"
           }
          ],
          "scatter3d": [
           {
            "line": {
             "colorbar": {
              "outlinewidth": 0,
              "ticks": ""
             }
            },
            "marker": {
             "colorbar": {
              "outlinewidth": 0,
              "ticks": ""
             }
            },
            "type": "scatter3d"
           }
          ],
          "scattercarpet": [
           {
            "marker": {
             "colorbar": {
              "outlinewidth": 0,
              "ticks": ""
             }
            },
            "type": "scattercarpet"
           }
          ],
          "scattergeo": [
           {
            "marker": {
             "colorbar": {
              "outlinewidth": 0,
              "ticks": ""
             }
            },
            "type": "scattergeo"
           }
          ],
          "scattergl": [
           {
            "marker": {
             "colorbar": {
              "outlinewidth": 0,
              "ticks": ""
             }
            },
            "type": "scattergl"
           }
          ],
          "scattermapbox": [
           {
            "marker": {
             "colorbar": {
              "outlinewidth": 0,
              "ticks": ""
             }
            },
            "type": "scattermapbox"
           }
          ],
          "scatterpolar": [
           {
            "marker": {
             "colorbar": {
              "outlinewidth": 0,
              "ticks": ""
             }
            },
            "type": "scatterpolar"
           }
          ],
          "scatterpolargl": [
           {
            "marker": {
             "colorbar": {
              "outlinewidth": 0,
              "ticks": ""
             }
            },
            "type": "scatterpolargl"
           }
          ],
          "scatterternary": [
           {
            "marker": {
             "colorbar": {
              "outlinewidth": 0,
              "ticks": ""
             }
            },
            "type": "scatterternary"
           }
          ],
          "surface": [
           {
            "colorbar": {
             "outlinewidth": 0,
             "ticks": ""
            },
            "colorscale": [
             [
              0,
              "#0d0887"
             ],
             [
              0.1111111111111111,
              "#46039f"
             ],
             [
              0.2222222222222222,
              "#7201a8"
             ],
             [
              0.3333333333333333,
              "#9c179e"
             ],
             [
              0.4444444444444444,
              "#bd3786"
             ],
             [
              0.5555555555555556,
              "#d8576b"
             ],
             [
              0.6666666666666666,
              "#ed7953"
             ],
             [
              0.7777777777777778,
              "#fb9f3a"
             ],
             [
              0.8888888888888888,
              "#fdca26"
             ],
             [
              1,
              "#f0f921"
             ]
            ],
            "type": "surface"
           }
          ],
          "table": [
           {
            "cells": {
             "fill": {
              "color": "#EBF0F8"
             },
             "line": {
              "color": "white"
             }
            },
            "header": {
             "fill": {
              "color": "#C8D4E3"
             },
             "line": {
              "color": "white"
             }
            },
            "type": "table"
           }
          ]
         },
         "layout": {
          "annotationdefaults": {
           "arrowcolor": "#2a3f5f",
           "arrowhead": 0,
           "arrowwidth": 1
          },
          "autotypenumbers": "strict",
          "coloraxis": {
           "colorbar": {
            "outlinewidth": 0,
            "ticks": ""
           }
          },
          "colorscale": {
           "diverging": [
            [
             0,
             "#8e0152"
            ],
            [
             0.1,
             "#c51b7d"
            ],
            [
             0.2,
             "#de77ae"
            ],
            [
             0.3,
             "#f1b6da"
            ],
            [
             0.4,
             "#fde0ef"
            ],
            [
             0.5,
             "#f7f7f7"
            ],
            [
             0.6,
             "#e6f5d0"
            ],
            [
             0.7,
             "#b8e186"
            ],
            [
             0.8,
             "#7fbc41"
            ],
            [
             0.9,
             "#4d9221"
            ],
            [
             1,
             "#276419"
            ]
           ],
           "sequential": [
            [
             0,
             "#0d0887"
            ],
            [
             0.1111111111111111,
             "#46039f"
            ],
            [
             0.2222222222222222,
             "#7201a8"
            ],
            [
             0.3333333333333333,
             "#9c179e"
            ],
            [
             0.4444444444444444,
             "#bd3786"
            ],
            [
             0.5555555555555556,
             "#d8576b"
            ],
            [
             0.6666666666666666,
             "#ed7953"
            ],
            [
             0.7777777777777778,
             "#fb9f3a"
            ],
            [
             0.8888888888888888,
             "#fdca26"
            ],
            [
             1,
             "#f0f921"
            ]
           ],
           "sequentialminus": [
            [
             0,
             "#0d0887"
            ],
            [
             0.1111111111111111,
             "#46039f"
            ],
            [
             0.2222222222222222,
             "#7201a8"
            ],
            [
             0.3333333333333333,
             "#9c179e"
            ],
            [
             0.4444444444444444,
             "#bd3786"
            ],
            [
             0.5555555555555556,
             "#d8576b"
            ],
            [
             0.6666666666666666,
             "#ed7953"
            ],
            [
             0.7777777777777778,
             "#fb9f3a"
            ],
            [
             0.8888888888888888,
             "#fdca26"
            ],
            [
             1,
             "#f0f921"
            ]
           ]
          },
          "colorway": [
           "#636efa",
           "#EF553B",
           "#00cc96",
           "#ab63fa",
           "#FFA15A",
           "#19d3f3",
           "#FF6692",
           "#B6E880",
           "#FF97FF",
           "#FECB52"
          ],
          "font": {
           "color": "#2a3f5f"
          },
          "geo": {
           "bgcolor": "white",
           "lakecolor": "white",
           "landcolor": "#E5ECF6",
           "showlakes": true,
           "showland": true,
           "subunitcolor": "white"
          },
          "hoverlabel": {
           "align": "left"
          },
          "hovermode": "closest",
          "mapbox": {
           "style": "light"
          },
          "paper_bgcolor": "white",
          "plot_bgcolor": "#E5ECF6",
          "polar": {
           "angularaxis": {
            "gridcolor": "white",
            "linecolor": "white",
            "ticks": ""
           },
           "bgcolor": "#E5ECF6",
           "radialaxis": {
            "gridcolor": "white",
            "linecolor": "white",
            "ticks": ""
           }
          },
          "scene": {
           "xaxis": {
            "backgroundcolor": "#E5ECF6",
            "gridcolor": "white",
            "gridwidth": 2,
            "linecolor": "white",
            "showbackground": true,
            "ticks": "",
            "zerolinecolor": "white"
           },
           "yaxis": {
            "backgroundcolor": "#E5ECF6",
            "gridcolor": "white",
            "gridwidth": 2,
            "linecolor": "white",
            "showbackground": true,
            "ticks": "",
            "zerolinecolor": "white"
           },
           "zaxis": {
            "backgroundcolor": "#E5ECF6",
            "gridcolor": "white",
            "gridwidth": 2,
            "linecolor": "white",
            "showbackground": true,
            "ticks": "",
            "zerolinecolor": "white"
           }
          },
          "shapedefaults": {
           "line": {
            "color": "#2a3f5f"
           }
          },
          "ternary": {
           "aaxis": {
            "gridcolor": "white",
            "linecolor": "white",
            "ticks": ""
           },
           "baxis": {
            "gridcolor": "white",
            "linecolor": "white",
            "ticks": ""
           },
           "bgcolor": "#E5ECF6",
           "caxis": {
            "gridcolor": "white",
            "linecolor": "white",
            "ticks": ""
           }
          },
          "title": {
           "x": 0.05
          },
          "xaxis": {
           "automargin": true,
           "gridcolor": "white",
           "linecolor": "white",
           "ticks": "",
           "title": {
            "standoff": 15
           },
           "zerolinecolor": "white",
           "zerolinewidth": 2
          },
          "yaxis": {
           "automargin": true,
           "gridcolor": "white",
           "linecolor": "white",
           "ticks": "",
           "title": {
            "standoff": 15
           },
           "zerolinecolor": "white",
           "zerolinewidth": 2
          }
         }
        },
        "title": {
         "text": "Matriculados facultad de Artes"
        },
        "yaxis": {
         "title": {
          "text": "No. Matriculados"
         }
        }
       }
      },
      "text/html": [
       "<div>                            <div id=\"e7ca314c-b704-4e0a-aeae-0fdb06f83ac7\" class=\"plotly-graph-div\" style=\"height:525px; width:100%;\"></div>            <script type=\"text/javascript\">                require([\"plotly\"], function(Plotly) {                    window.PLOTLYENV=window.PLOTLYENV || {};                                    if (document.getElementById(\"e7ca314c-b704-4e0a-aeae-0fdb06f83ac7\")) {                    Plotly.newPlot(                        \"e7ca314c-b704-4e0a-aeae-0fdb06f83ac7\",                        [{\"marker\": {\"color\": \"red\", \"size\": 2}, \"mode\": \"lines+markers\", \"name\": \"F.Artes, pregrado mujeres P.1\", \"showlegend\": true, \"type\": \"scatter\", \"x\": [\"2009-01-01T00:00:00\", \"2010-01-01T00:00:00\", \"2011-01-01T00:00:00\", \"2012-01-01T00:00:00\", \"2013-01-01T00:00:00\", \"2014-01-01T00:00:00\", \"2015-01-01T00:00:00\", \"2016-01-01T00:00:00\", \"2017-01-01T00:00:00\", \"2018-01-01T00:00:00\", \"2019-01-01T00:00:00\", \"2020-01-01T00:00:00\"], \"y\": [724, 732, 729, 720, 732, 745, 748, 766, 793, 841, 888, 904]}, {\"line\": {\"width\": 2}, \"marker\": {\"color\": \"violet\", \"size\": 2}, \"mode\": \"lines+markers\", \"name\": \"F.Artes, pregrado mujeres P.2\", \"showlegend\": true, \"type\": \"scatter\", \"x\": [\"2009-06-01T00:00:00\", \"2010-06-01T00:00:00\", \"2011-06-01T00:00:00\", \"2012-06-01T00:00:00\", \"2013-06-01T00:00:00\", \"2014-06-01T00:00:00\", \"2015-06-01T00:00:00\", \"2016-06-01T00:00:00\", \"2017-06-01T00:00:00\", \"2018-06-01T00:00:00\", \"2019-06-01T00:00:00\", \"2020-06-01T00:00:00\"], \"y\": [722, 720, 719, 711, 731, 744, 759, 772, 805, 856, 905, 914]}, {\"line\": {\"width\": 2}, \"marker\": {\"color\": \"green\", \"size\": 2}, \"mode\": \"lines+markers\", \"name\": \"F.Artes, pregrado hombres P.1\", \"showlegend\": true, \"type\": \"scatter\", \"x\": [\"2009-01-01T00:00:00\", \"2010-01-01T00:00:00\", \"2011-01-01T00:00:00\", \"2012-01-01T00:00:00\", \"2013-01-01T00:00:00\", \"2014-01-01T00:00:00\", \"2015-01-01T00:00:00\", \"2016-01-01T00:00:00\", \"2017-01-01T00:00:00\", \"2018-01-01T00:00:00\", \"2019-01-01T00:00:00\", \"2020-01-01T00:00:00\"], \"y\": [1470, 1540, 1586, 1582, 1616, 1549, 1639, 1638, 1646, 1581, 1547, 1503]}, {\"line\": {\"width\": 2}, \"marker\": {\"color\": \"orange\", \"size\": 2}, \"mode\": \"lines+markers\", \"name\": \"F.Artes, pregrado hombres P.2\", \"showlegend\": true, \"type\": \"scatter\", \"x\": [\"2009-06-01T00:00:00\", \"2010-06-01T00:00:00\", \"2011-06-01T00:00:00\", \"2012-06-01T00:00:00\", \"2013-06-01T00:00:00\", \"2014-06-01T00:00:00\", \"2015-06-01T00:00:00\", \"2016-06-01T00:00:00\", \"2017-06-01T00:00:00\", \"2018-06-01T00:00:00\", \"2019-06-01T00:00:00\", \"2020-06-01T00:00:00\"], \"y\": [1498, 1525, 1590, 1568, 1544, 1601, 1644, 1622, 1609, 1579, 1559, 1429]}, {\"marker\": {\"color\": \"red\", \"size\": 2}, \"mode\": \"lines+markers\", \"name\": \"Pronostico: F.Artes, pregrado mujeres P.1\", \"showlegend\": true, \"type\": \"scatter\", \"x\": [\"2021-01-01T00:00:00\", \"2022-01-01T00:00:00\"], \"y\": [936.5619834536938, 968.116380167126]}, {\"line\": {\"width\": 2}, \"marker\": {\"color\": \"violet\", \"size\": 2}, \"mode\": \"lines+markers\", \"name\": \"Pronostico: F.Artes, pregrado mujeres P.2\", \"showlegend\": true, \"type\": \"scatter\", \"x\": [\"2021-06-01T00:00:00\", \"2022-06-01T00:00:00\"], \"y\": [905.1300625373477, 896.5426240049737]}, {\"line\": {\"width\": 2}, \"marker\": {\"color\": \"green\", \"size\": 2}, \"mode\": \"lines+markers\", \"name\": \"Pronostico: F.Artes, pregrado hombres P.1\", \"showlegend\": true, \"type\": \"scatter\", \"x\": [\"2021-01-01T00:00:00\", \"2022-01-01T00:00:00\"], \"y\": [1506.5455958238367, 1510.0338891239644]}, {\"line\": {\"width\": 2}, \"marker\": {\"color\": \"orange\", \"size\": 2}, \"mode\": \"lines+markers\", \"name\": \"Pronostico: F.Artes, pregrado hombres P.2\", \"showlegend\": true, \"type\": \"scatter\", \"x\": [\"2021-06-01T00:00:00\", \"2022-06-01T00:00:00\"], \"y\": [1591.2651693378493, 1627.8008789301382]}],                        {\"hovermode\": \"x\", \"template\": {\"data\": {\"bar\": [{\"error_x\": {\"color\": \"#2a3f5f\"}, \"error_y\": {\"color\": \"#2a3f5f\"}, \"marker\": {\"line\": {\"color\": \"#E5ECF6\", \"width\": 0.5}}, \"type\": \"bar\"}], \"barpolar\": [{\"marker\": {\"line\": {\"color\": \"#E5ECF6\", \"width\": 0.5}}, \"type\": \"barpolar\"}], \"carpet\": [{\"aaxis\": {\"endlinecolor\": \"#2a3f5f\", \"gridcolor\": \"white\", \"linecolor\": \"white\", \"minorgridcolor\": \"white\", \"startlinecolor\": \"#2a3f5f\"}, \"baxis\": {\"endlinecolor\": \"#2a3f5f\", \"gridcolor\": \"white\", \"linecolor\": \"white\", \"minorgridcolor\": \"white\", \"startlinecolor\": \"#2a3f5f\"}, \"type\": \"carpet\"}], \"choropleth\": [{\"colorbar\": {\"outlinewidth\": 0, \"ticks\": \"\"}, \"type\": \"choropleth\"}], \"contour\": [{\"colorbar\": {\"outlinewidth\": 0, \"ticks\": \"\"}, \"colorscale\": [[0.0, \"#0d0887\"], [0.1111111111111111, \"#46039f\"], [0.2222222222222222, \"#7201a8\"], [0.3333333333333333, \"#9c179e\"], [0.4444444444444444, \"#bd3786\"], [0.5555555555555556, \"#d8576b\"], [0.6666666666666666, \"#ed7953\"], [0.7777777777777778, \"#fb9f3a\"], [0.8888888888888888, \"#fdca26\"], [1.0, \"#f0f921\"]], \"type\": \"contour\"}], \"contourcarpet\": [{\"colorbar\": {\"outlinewidth\": 0, \"ticks\": \"\"}, \"type\": \"contourcarpet\"}], \"heatmap\": [{\"colorbar\": {\"outlinewidth\": 0, \"ticks\": \"\"}, \"colorscale\": [[0.0, \"#0d0887\"], [0.1111111111111111, \"#46039f\"], [0.2222222222222222, \"#7201a8\"], [0.3333333333333333, \"#9c179e\"], [0.4444444444444444, \"#bd3786\"], [0.5555555555555556, \"#d8576b\"], [0.6666666666666666, \"#ed7953\"], [0.7777777777777778, \"#fb9f3a\"], [0.8888888888888888, \"#fdca26\"], [1.0, \"#f0f921\"]], \"type\": \"heatmap\"}], \"heatmapgl\": [{\"colorbar\": {\"outlinewidth\": 0, \"ticks\": \"\"}, \"colorscale\": [[0.0, \"#0d0887\"], [0.1111111111111111, \"#46039f\"], [0.2222222222222222, \"#7201a8\"], [0.3333333333333333, \"#9c179e\"], [0.4444444444444444, \"#bd3786\"], [0.5555555555555556, \"#d8576b\"], [0.6666666666666666, \"#ed7953\"], [0.7777777777777778, \"#fb9f3a\"], [0.8888888888888888, \"#fdca26\"], [1.0, \"#f0f921\"]], \"type\": \"heatmapgl\"}], \"histogram\": [{\"marker\": {\"colorbar\": {\"outlinewidth\": 0, \"ticks\": \"\"}}, \"type\": \"histogram\"}], \"histogram2d\": [{\"colorbar\": {\"outlinewidth\": 0, \"ticks\": \"\"}, \"colorscale\": [[0.0, \"#0d0887\"], [0.1111111111111111, \"#46039f\"], [0.2222222222222222, \"#7201a8\"], [0.3333333333333333, \"#9c179e\"], [0.4444444444444444, \"#bd3786\"], [0.5555555555555556, \"#d8576b\"], [0.6666666666666666, \"#ed7953\"], [0.7777777777777778, \"#fb9f3a\"], [0.8888888888888888, \"#fdca26\"], [1.0, \"#f0f921\"]], \"type\": \"histogram2d\"}], \"histogram2dcontour\": [{\"colorbar\": {\"outlinewidth\": 0, \"ticks\": \"\"}, \"colorscale\": [[0.0, \"#0d0887\"], [0.1111111111111111, \"#46039f\"], [0.2222222222222222, \"#7201a8\"], [0.3333333333333333, \"#9c179e\"], [0.4444444444444444, \"#bd3786\"], [0.5555555555555556, \"#d8576b\"], [0.6666666666666666, \"#ed7953\"], [0.7777777777777778, \"#fb9f3a\"], [0.8888888888888888, \"#fdca26\"], [1.0, \"#f0f921\"]], \"type\": \"histogram2dcontour\"}], \"mesh3d\": [{\"colorbar\": {\"outlinewidth\": 0, \"ticks\": \"\"}, \"type\": \"mesh3d\"}], \"parcoords\": [{\"line\": {\"colorbar\": {\"outlinewidth\": 0, \"ticks\": \"\"}}, \"type\": \"parcoords\"}], \"pie\": [{\"automargin\": true, \"type\": \"pie\"}], \"scatter\": [{\"marker\": {\"colorbar\": {\"outlinewidth\": 0, \"ticks\": \"\"}}, \"type\": \"scatter\"}], \"scatter3d\": [{\"line\": {\"colorbar\": {\"outlinewidth\": 0, \"ticks\": \"\"}}, \"marker\": {\"colorbar\": {\"outlinewidth\": 0, \"ticks\": \"\"}}, \"type\": \"scatter3d\"}], \"scattercarpet\": [{\"marker\": {\"colorbar\": {\"outlinewidth\": 0, \"ticks\": \"\"}}, \"type\": \"scattercarpet\"}], \"scattergeo\": [{\"marker\": {\"colorbar\": {\"outlinewidth\": 0, \"ticks\": \"\"}}, \"type\": \"scattergeo\"}], \"scattergl\": [{\"marker\": {\"colorbar\": {\"outlinewidth\": 0, \"ticks\": \"\"}}, \"type\": \"scattergl\"}], \"scattermapbox\": [{\"marker\": {\"colorbar\": {\"outlinewidth\": 0, \"ticks\": \"\"}}, \"type\": \"scattermapbox\"}], \"scatterpolar\": [{\"marker\": {\"colorbar\": {\"outlinewidth\": 0, \"ticks\": \"\"}}, \"type\": \"scatterpolar\"}], \"scatterpolargl\": [{\"marker\": {\"colorbar\": {\"outlinewidth\": 0, \"ticks\": \"\"}}, \"type\": \"scatterpolargl\"}], \"scatterternary\": [{\"marker\": {\"colorbar\": {\"outlinewidth\": 0, \"ticks\": \"\"}}, \"type\": \"scatterternary\"}], \"surface\": [{\"colorbar\": {\"outlinewidth\": 0, \"ticks\": \"\"}, \"colorscale\": [[0.0, \"#0d0887\"], [0.1111111111111111, \"#46039f\"], [0.2222222222222222, \"#7201a8\"], [0.3333333333333333, \"#9c179e\"], [0.4444444444444444, \"#bd3786\"], [0.5555555555555556, \"#d8576b\"], [0.6666666666666666, \"#ed7953\"], [0.7777777777777778, \"#fb9f3a\"], [0.8888888888888888, \"#fdca26\"], [1.0, \"#f0f921\"]], \"type\": \"surface\"}], \"table\": [{\"cells\": {\"fill\": {\"color\": \"#EBF0F8\"}, \"line\": {\"color\": \"white\"}}, \"header\": {\"fill\": {\"color\": \"#C8D4E3\"}, \"line\": {\"color\": \"white\"}}, \"type\": \"table\"}]}, \"layout\": {\"annotationdefaults\": {\"arrowcolor\": \"#2a3f5f\", \"arrowhead\": 0, \"arrowwidth\": 1}, \"autotypenumbers\": \"strict\", \"coloraxis\": {\"colorbar\": {\"outlinewidth\": 0, \"ticks\": \"\"}}, \"colorscale\": {\"diverging\": [[0, \"#8e0152\"], [0.1, \"#c51b7d\"], [0.2, \"#de77ae\"], [0.3, \"#f1b6da\"], [0.4, \"#fde0ef\"], [0.5, \"#f7f7f7\"], [0.6, \"#e6f5d0\"], [0.7, \"#b8e186\"], [0.8, \"#7fbc41\"], [0.9, \"#4d9221\"], [1, \"#276419\"]], \"sequential\": [[0.0, \"#0d0887\"], [0.1111111111111111, \"#46039f\"], [0.2222222222222222, \"#7201a8\"], [0.3333333333333333, \"#9c179e\"], [0.4444444444444444, \"#bd3786\"], [0.5555555555555556, \"#d8576b\"], [0.6666666666666666, \"#ed7953\"], [0.7777777777777778, \"#fb9f3a\"], [0.8888888888888888, \"#fdca26\"], [1.0, \"#f0f921\"]], \"sequentialminus\": [[0.0, \"#0d0887\"], [0.1111111111111111, \"#46039f\"], [0.2222222222222222, \"#7201a8\"], [0.3333333333333333, \"#9c179e\"], [0.4444444444444444, \"#bd3786\"], [0.5555555555555556, \"#d8576b\"], [0.6666666666666666, \"#ed7953\"], [0.7777777777777778, \"#fb9f3a\"], [0.8888888888888888, \"#fdca26\"], [1.0, \"#f0f921\"]]}, \"colorway\": [\"#636efa\", \"#EF553B\", \"#00cc96\", \"#ab63fa\", \"#FFA15A\", \"#19d3f3\", \"#FF6692\", \"#B6E880\", \"#FF97FF\", \"#FECB52\"], \"font\": {\"color\": \"#2a3f5f\"}, \"geo\": {\"bgcolor\": \"white\", \"lakecolor\": \"white\", \"landcolor\": \"#E5ECF6\", \"showlakes\": true, \"showland\": true, \"subunitcolor\": \"white\"}, \"hoverlabel\": {\"align\": \"left\"}, \"hovermode\": \"closest\", \"mapbox\": {\"style\": \"light\"}, \"paper_bgcolor\": \"white\", \"plot_bgcolor\": \"#E5ECF6\", \"polar\": {\"angularaxis\": {\"gridcolor\": \"white\", \"linecolor\": \"white\", \"ticks\": \"\"}, \"bgcolor\": \"#E5ECF6\", \"radialaxis\": {\"gridcolor\": \"white\", \"linecolor\": \"white\", \"ticks\": \"\"}}, \"scene\": {\"xaxis\": {\"backgroundcolor\": \"#E5ECF6\", \"gridcolor\": \"white\", \"gridwidth\": 2, \"linecolor\": \"white\", \"showbackground\": true, \"ticks\": \"\", \"zerolinecolor\": \"white\"}, \"yaxis\": {\"backgroundcolor\": \"#E5ECF6\", \"gridcolor\": \"white\", \"gridwidth\": 2, \"linecolor\": \"white\", \"showbackground\": true, \"ticks\": \"\", \"zerolinecolor\": \"white\"}, \"zaxis\": {\"backgroundcolor\": \"#E5ECF6\", \"gridcolor\": \"white\", \"gridwidth\": 2, \"linecolor\": \"white\", \"showbackground\": true, \"ticks\": \"\", \"zerolinecolor\": \"white\"}}, \"shapedefaults\": {\"line\": {\"color\": \"#2a3f5f\"}}, \"ternary\": {\"aaxis\": {\"gridcolor\": \"white\", \"linecolor\": \"white\", \"ticks\": \"\"}, \"baxis\": {\"gridcolor\": \"white\", \"linecolor\": \"white\", \"ticks\": \"\"}, \"bgcolor\": \"#E5ECF6\", \"caxis\": {\"gridcolor\": \"white\", \"linecolor\": \"white\", \"ticks\": \"\"}}, \"title\": {\"x\": 0.05}, \"xaxis\": {\"automargin\": true, \"gridcolor\": \"white\", \"linecolor\": \"white\", \"ticks\": \"\", \"title\": {\"standoff\": 15}, \"zerolinecolor\": \"white\", \"zerolinewidth\": 2}, \"yaxis\": {\"automargin\": true, \"gridcolor\": \"white\", \"linecolor\": \"white\", \"ticks\": \"\", \"title\": {\"standoff\": 15}, \"zerolinecolor\": \"white\", \"zerolinewidth\": 2}}}, \"title\": {\"text\": \"Matriculados facultad de Artes\"}, \"yaxis\": {\"title\": {\"text\": \"No. Matriculados\"}}},                        {\"responsive\": true}                    ).then(function(){\n",
       "                            \n",
       "var gd = document.getElementById('e7ca314c-b704-4e0a-aeae-0fdb06f83ac7');\n",
       "var x = new MutationObserver(function (mutations, observer) {{\n",
       "        var display = window.getComputedStyle(gd).display;\n",
       "        if (!display || display === 'none') {{\n",
       "            console.log([gd, 'removed!']);\n",
       "            Plotly.purge(gd);\n",
       "            observer.disconnect();\n",
       "        }}\n",
       "}});\n",
       "\n",
       "// Listen for the removal of the full notebook cells\n",
       "var notebookContainer = gd.closest('#notebook-container');\n",
       "if (notebookContainer) {{\n",
       "    x.observe(notebookContainer, {childList: true});\n",
       "}}\n",
       "\n",
       "// Listen for the clearing of the current output cell\n",
       "var outputEl = gd.closest('.output');\n",
       "if (outputEl) {{\n",
       "    x.observe(outputEl, {childList: true});\n",
       "}}\n",
       "\n",
       "                        })                };                });            </script>        </div>"
      ]
     },
     "metadata": {},
     "output_type": "display_data"
    }
   ],
   "source": [
    "fig = go.Figure([\n",
    "    go.Scatter(\n",
    "        name='F.Artes, pregrado mujeres P.1',\n",
    "        x=df_t_FMPG['Fecha_c'],\n",
    "        y=df_t_FMPG['Matriculados'],\n",
    "        mode='lines+markers',\n",
    "        marker=dict(color='red', size=2),\n",
    "        showlegend=True\n",
    "    ),\n",
    "    go.Scatter(\n",
    "        name='F.Artes, pregrado mujeres P.2',\n",
    "        x=df_t_FMPG2['Fecha_c'],\n",
    "        y=df_t_FMPG2['Matriculados'],\n",
    "        mode='lines+markers',\n",
    "        marker=dict(color='violet', size=2),\n",
    "        line=dict(width=2),\n",
    "        showlegend=True\n",
    "    ),\n",
    "    go.Scatter(\n",
    "        name='F.Artes, pregrado hombres P.1',\n",
    "        x=df_t_FHPG3['Fecha_c'],\n",
    "        y=df_t_FHPG3['Matriculados'],\n",
    "        marker=dict(color='green', size=2),\n",
    "        line=dict(width=2),\n",
    "        mode='lines+markers',\n",
    "        #fillcolor='rgba(68, 68, 68, 0.3)',\n",
    "        #fill='tonexty',\n",
    "        showlegend=True\n",
    "    ),\n",
    "    go.Scatter(\n",
    "        name= 'F.Artes, pregrado hombres P.2',\n",
    "        x=df_t_FHPG4['Fecha_c'],\n",
    "        y=df_t_FHPG4['Matriculados'], \n",
    "        marker=dict(color='orange', size=2),\n",
    "        line=dict(width=2),\n",
    "        mode='lines+markers',\n",
    "        #fillcolor='rgba(68, 68, 68, 0.3)',\n",
    "        #fill='tonexty',\n",
    "        showlegend=True\n",
    "    ),\n",
    "        go.Scatter(\n",
    "        name='Pronostico: F.Artes, pregrado mujeres P.1',\n",
    "        x=forecast_arte_pre_mu_1.index,\n",
    "        y=forecast_arte_pre_mu_1['Matriculados'],\n",
    "        mode='lines+markers',\n",
    "        marker=dict(color='red', size=2),\n",
    "        showlegend=True\n",
    "    ),\n",
    "    go.Scatter(\n",
    "        name='Pronostico: F.Artes, pregrado mujeres P.2',\n",
    "        x=forecast_arte_pre_mu_2.index,\n",
    "        y=forecast_arte_pre_mu_2['Matriculados'],\n",
    "        mode='lines+markers',\n",
    "        marker=dict(color='violet', size=2),\n",
    "        line=dict(width=2),\n",
    "        showlegend=True\n",
    "    ),\n",
    "    go.Scatter(\n",
    "        name='Pronostico: F.Artes, pregrado hombres P.1',\n",
    "        x=forecast_arte_pre_ho_3.index,\n",
    "        y=forecast_arte_pre_ho_3['Matriculados'],\n",
    "        marker=dict(color='green', size=2),\n",
    "        line=dict(width=2),\n",
    "        mode='lines+markers',\n",
    "        #fillcolor='rgba(68, 68, 68, 0.3)',\n",
    "        #fill='tonexty',\n",
    "        showlegend=True\n",
    "    ),\n",
    "    go.Scatter(\n",
    "        name= 'Pronostico: F.Artes, pregrado hombres P.2',\n",
    "        x=forecast_arte_pre_ho_4.index,\n",
    "        y=forecast_arte_pre_ho_4['Matriculados'], \n",
    "        marker=dict(color='orange', size=2),\n",
    "        line=dict(width=2),\n",
    "        mode='lines+markers',\n",
    "        #fillcolor='rgba(68, 68, 68, 0.3)',\n",
    "        #fill='tonexty',\n",
    "        showlegend=True\n",
    "    )\n",
    "])\n",
    "fig.update_layout(\n",
    "    yaxis_title='No. Matriculados',\n",
    "    title='Matriculados facultad de Artes',\n",
    "    hovermode=\"x\"\n",
    ")\n",
    "fig.show()\n",
    "\n",
    "fig.write_image(\"png/Matriculados facultad de Artes.png\") # guardando resultado como .png\n",
    "fig.write_html(\"html/Matriculados facultad de Artes.html\") # guardando resultado como.html\n"
   ]
  },
  {
   "cell_type": "markdown",
   "id": "afe3b4ae",
   "metadata": {},
   "source": [
    "## Análisis de resultados ##"
   ]
  },
  {
   "cell_type": "code",
   "execution_count": null,
   "id": "b294d9d4",
   "metadata": {},
   "outputs": [],
   "source": []
  },
  {
   "cell_type": "code",
   "execution_count": 63,
   "id": "9f841808",
   "metadata": {},
   "outputs": [
    {
     "name": "stdout",
     "output_type": "stream",
     "text": [
      "['Artes' 'C. Agrarias' 'C. Económicas' 'C. Humanas' 'Ciencias'\n",
      " 'Derecho, C. Políticas y Sociales' 'Enfermería' 'Ingeniería'\n",
      " 'Med. veterinaria y de Zootecnia' 'Medicina' 'Odontología']\n"
     ]
    }
   ],
   "source": [
    "print(df.Facultad.unique())"
   ]
  },
  {
   "cell_type": "markdown",
   "id": "f8704314",
   "metadata": {},
   "source": [
    "# Series de tiempo Facultad de Ciencias Agrarias #"
   ]
  },
  {
   "cell_type": "markdown",
   "id": "dda0e531",
   "metadata": {},
   "source": [
    "## Filtros para modelos facultad de Ciencias Agrarias ##"
   ]
  },
  {
   "cell_type": "code",
   "execution_count": null,
   "id": "83a429ca",
   "metadata": {},
   "outputs": [],
   "source": [
    "#filtro por facultad Mujeres\n",
    "df_t_M_CA = df_t_M.loc[df_t_M['Facultad'] == \"C. Agrarias\"]\n",
    "#filtro por facultad hombres\n",
    "df_t_H_CA = df_t_H.loc[df_t_H['Facultad'] == \"C. Agrarias\"]\n",
    "\n",
    "#filtro por facultad Mujeres por periodo\n",
    "df_t_M_CAP = df_t_M_CA.loc[df_t_M_CA['Semestre_A'] == \"1\"] \n",
    "#filtro por facultad Mujeres por periodo por grado\n",
    "df_t_M_CAPG = df_t_M_CAP.loc[df_t_M_CAP['Grado'] == \"Pregrado\"] #usar este modelo 1\n",
    "\n",
    "#filtro por facultad Mujeres por periodo 2\n",
    "df_t_M_CAPGB= df_t_M_CA.loc[df_t_M_CA['Semestre_A'] == \"2\"]\n",
    "#filtro por facultad Mujeres por periodo por grado\n",
    "df_t_M_CAPGB1 = df_t_M_CAPGB.loc[df_t_M_CAPGB['Grado'] == \"Pregrado\"]#usar este modelo 2\n",
    "\n",
    "#filtro por facultad Hombres por periodo\n",
    "df_t_H_CAP = df_t_H_CA.loc[df_t_H_CA['Semestre_A'] == \"1\"] \n",
    "#filtro por facultad Hombres por periodo por grado\n",
    "df_t_H_CAPG = df_t_H_CAP.loc[df_t_H_CAP['Grado'] == \"Pregrado\"] #usar este modelo 3\n",
    "\n",
    "#filtro por facultad Hombres por periodo\n",
    "df_t_H_CAPGB = df_t_H_CA.loc[df_t_H_CA['Semestre_A'] == \"2\"]\n",
    "#filtro por facultad Hombres por periodo por grado\n",
    "df_t_H_CAPGB2 = df_t_H_CAPGB.loc[df_t_H_CAPGB['Grado'] == \"Pregrado\"] #usar este modelo 4"
   ]
  },
  {
   "cell_type": "markdown",
   "id": "607da811",
   "metadata": {},
   "source": [
    "## Modelos  facultad de Ciencias Agrarias ##"
   ]
  },
  {
   "cell_type": "code",
   "execution_count": null,
   "id": "2589afe7",
   "metadata": {},
   "outputs": [],
   "source": [
    "#modelo para la ## Modelos  facultad de ciencias agrarias, pregrado mujeres en el primer periodo \n",
    "model2_ca_pre_mu_1 = AutoTS(forecast_length=2, frequency='infer', prediction_interval=0.80,\n",
    "                ensemble='simple', model_list=model_list, transformer_list='fast',\n",
    "                max_generations=5, num_validations=2)\n",
    "model2_ca_pre_mu_1 = model2_ca_pre_mu_1.fit(df_t_M_CAPG,\n",
    "                                              date_col='Fecha_c', value_col='Matriculados', id_col=None)"
   ]
  },
  {
   "cell_type": "code",
   "execution_count": null,
   "id": "ecad9ca1",
   "metadata": {},
   "outputs": [],
   "source": [
    "prediction_ca_pre_mu_1 = model2_ca_pre_mu_1.predict()\n",
    "forecast_ca_pre_mu_1 =  prediction_ca_pre_mu_1.forecast\n",
    "print(model2_ca_pre_mu_1)"
   ]
  },
  {
   "cell_type": "code",
   "execution_count": null,
   "id": "b6cd9fb3",
   "metadata": {},
   "outputs": [],
   "source": [
    "#modelo para la facultad de ciencias agrarias, pregrado mujeres en el segundo periodo \n",
    "model2_ca_pre_mu_2 = AutoTS(forecast_length=2, frequency='infer', prediction_interval=0.80,\n",
    "                ensemble='simple', model_list=model_list, transformer_list='fast',\n",
    "                max_generations=5, num_validations=2)\n",
    "model2_ca_pre_mu_2 = model2_ca_pre_mu_2.fit(df_t_M_CAPGB1,\n",
    "                                              date_col='Fecha_c', value_col='Matriculados', id_col=None)"
   ]
  },
  {
   "cell_type": "code",
   "execution_count": null,
   "id": "9457f20e",
   "metadata": {},
   "outputs": [],
   "source": [
    "prediction_ca_pre_mu_2 = model2_ca_pre_mu_2.predict()\n",
    "forecast_ca_pre_mu_2 =  prediction_ca_pre_mu_2.forecast\n",
    "print(model2_ca_pre_mu_2)"
   ]
  },
  {
   "cell_type": "code",
   "execution_count": null,
   "id": "90dc891d",
   "metadata": {},
   "outputs": [],
   "source": [
    "#modelo para la facultad de ciencias agrarias, pregrado hombres en el primer periodo \n",
    "model2_ca_pre_ho_1 = AutoTS(forecast_length=2, frequency='infer', prediction_interval=0.80,\n",
    "                ensemble='simple', model_list=model_list, transformer_list='fast',\n",
    "                max_generations=5, num_validations=2)\n",
    "model2_ca_pre_ho_1 = model2_ca_pre_ho_1.fit(df_t_H_CAPG,\n",
    "                                              date_col='Fecha_c', value_col='Matriculados', id_col=None)"
   ]
  },
  {
   "cell_type": "code",
   "execution_count": null,
   "id": "b5ce1a6d",
   "metadata": {},
   "outputs": [],
   "source": [
    "prediction_ca_pre_ho_1 = model2_ca_pre_ho_1.predict()\n",
    "forecast_ca_pre_ho_1 =  prediction_ca_pre_ho_1.forecast\n",
    "print(model2_ca_pre_ho_1)"
   ]
  },
  {
   "cell_type": "code",
   "execution_count": null,
   "id": "4370a02d",
   "metadata": {},
   "outputs": [],
   "source": [
    "#modelo para la facultad de ciencias agrarias, pregrado hombres en el segundo periodo \n",
    "model2_ca_pre_ho_2 = AutoTS(forecast_length=2, frequency='infer', prediction_interval=0.80,\n",
    "                ensemble='simple', model_list=model_list, transformer_list='fast',\n",
    "                max_generations=5, num_validations=2)\n",
    "model2_ca_pre_ho_2 = model2_ca_pre_ho_2.fit(df_t_H_CAPGB2,\n",
    "                                              date_col='Fecha_c', value_col='Matriculados', id_col=None)"
   ]
  },
  {
   "cell_type": "code",
   "execution_count": null,
   "id": "7d530bd4",
   "metadata": {},
   "outputs": [],
   "source": [
    "prediction_ca_pre_ho_2 = model2_ca_pre_ho_2.predict()\n",
    "forecast_ca_pre_ho_2 =  prediction_ca_pre_ho_2.forecast\n",
    "print(model2_ca_pre_ho_2)"
   ]
  },
  {
   "cell_type": "code",
   "execution_count": null,
   "id": "b89a1b79",
   "metadata": {},
   "outputs": [],
   "source": [
    "print(forecast_ca_pre_mu_1)\n",
    "print(forecast_ca_pre_mu_2)\n",
    "print(forecast_ca_pre_ho_1)\n",
    "print(forecast_ca_pre_ho_2)"
   ]
  },
  {
   "cell_type": "code",
   "execution_count": null,
   "id": "610ebc4b",
   "metadata": {},
   "outputs": [],
   "source": [
    "fig = go.Figure([\n",
    "    go.Scatter(\n",
    "        name='F.Ciencias Agrarias, pregrado mujeres P.1',\n",
    "        x=df_t_M_CAPG['Fecha_c'],\n",
    "        y=df_t_M_CAPG['Matriculados'],\n",
    "        mode='lines+markers',\n",
    "        marker=dict(color='red', size=2),\n",
    "        showlegend=True\n",
    "    ),\n",
    "    go.Scatter(\n",
    "        name='F.Ciencias Agrarias, pregrado mujeres P.2',\n",
    "        x=df_t_M_CAPGB1['Fecha_c'],\n",
    "        y=df_t_M_CAPGB1['Matriculados'],\n",
    "        mode='lines+markers',\n",
    "        marker=dict(color='violet', size=2),\n",
    "        line=dict(width=2),\n",
    "        showlegend=True\n",
    "    ),\n",
    "    go.Scatter(\n",
    "        name='F.Ciencias Agrarias, pregrado hombres P.1',\n",
    "        x=df_t_H_CAPG['Fecha_c'],\n",
    "        y=df_t_H_CAPG['Matriculados'],\n",
    "        marker=dict(color='green', size=2),\n",
    "        line=dict(width=2),\n",
    "        mode='lines+markers',\n",
    "        #fillcolor='rgba(68, 68, 68, 0.3)',\n",
    "        #fill='tonexty',\n",
    "        showlegend=True\n",
    "    ),\n",
    "    go.Scatter(\n",
    "        name= 'F.Ciencias Agrarias, pregrado hombres P.2',\n",
    "        x=df_t_H_CAPGB2['Fecha_c'],\n",
    "        y=df_t_H_CAPGB2['Matriculados'], \n",
    "        marker=dict(color='orange', size=2),\n",
    "        line=dict(width=2),\n",
    "        mode='lines+markers',\n",
    "        #fillcolor='rgba(68, 68, 68, 0.3)',\n",
    "        #fill='tonexty',\n",
    "        showlegend=True\n",
    "    ),\n",
    "        go.Scatter(\n",
    "        name='Pronostico: F.Ciencias Agrarias, pregrado mujeres P.1',\n",
    "        x=forecast_ca_pre_mu_1.index,\n",
    "        y=forecast_ca_pre_mu_1['Matriculados'],\n",
    "        mode='lines+markers',\n",
    "        marker=dict(color='red', size=2),\n",
    "        showlegend=True\n",
    "    ),\n",
    "    go.Scatter(\n",
    "        name='Pronostico: F.Ciencias Agrarias, pregrado mujeres P.2',\n",
    "        x=forecast_ca_pre_mu_2.index,\n",
    "        y=forecast_ca_pre_mu_2['Matriculados'],\n",
    "        mode='lines+markers',\n",
    "        marker=dict(color='violet', size=2),\n",
    "        line=dict(width=2),\n",
    "        showlegend=True\n",
    "    ),\n",
    "    go.Scatter(\n",
    "        name='Pronostico: F.Ciencias Agrarias, pregrado hombres P.1',\n",
    "        x=forecast_ca_pre_ho_1.index,\n",
    "        y=forecast_ca_pre_ho_1['Matriculados'],\n",
    "        marker=dict(color='green', size=2),\n",
    "        line=dict(width=2),\n",
    "        mode='lines+markers',\n",
    "        #fillcolor='rgba(68, 68, 68, 0.3)',\n",
    "        #fill='tonexty',\n",
    "        showlegend=True\n",
    "    ),\n",
    "    go.Scatter(\n",
    "        name= 'Pronostico: F.Ciencias Agrarias, pregrado hombres P.2',\n",
    "        x=forecast_ca_pre_ho_2.index,\n",
    "        y=forecast_ca_pre_ho_2['Matriculados'], \n",
    "        marker=dict(color='orange', size=2),\n",
    "        line=dict(width=2),\n",
    "        mode='lines+markers',\n",
    "        #fillcolor='rgba(68, 68, 68, 0.3)',\n",
    "        #fill='tonexty',\n",
    "        showlegend=True\n",
    "    )\n",
    "])\n",
    "fig.update_layout(\n",
    "    yaxis_title='No. Matriculados',\n",
    "    title='Matriculados facultad de Ciencias Agrarias',\n",
    "    hovermode=\"x\"\n",
    ")\n",
    "fig.show()\n",
    "\n",
    "fig.write_image(\"png/Matriculados facultad de Ciencias Agrarias.png\") # guardando resultado como .png\n",
    "fig.write_html(\"html/Matriculados facultad de Ciencias Agrarias.html\") # guardando resultado como.html\n"
   ]
  },
  {
   "cell_type": "markdown",
   "id": "33727609",
   "metadata": {},
   "source": [
    "## Análisis de resultados ##"
   ]
  },
  {
   "cell_type": "code",
   "execution_count": null,
   "id": "33f5060e",
   "metadata": {},
   "outputs": [],
   "source": []
  },
  {
   "cell_type": "markdown",
   "id": "4837c520",
   "metadata": {},
   "source": [
    "# Series de tiempo Facultad de Ciencias Económicas #"
   ]
  },
  {
   "cell_type": "markdown",
   "id": "ebd27236",
   "metadata": {},
   "source": [
    "## Filtros para modelos facultad de Ciencias Económicas ##"
   ]
  },
  {
   "cell_type": "code",
   "execution_count": null,
   "id": "4e7a539f",
   "metadata": {},
   "outputs": [],
   "source": [
    "#filtro por facultad Mujeres\n",
    "df_t_M_CE = df_t_M.loc[df_t_M['Facultad'] == \"C. Económicas\"]\n",
    "#filtro por facultad hombres\n",
    "df_t_H_CE = df_t_H.loc[df_t_H['Facultad'] == \"C. Económicas\"]\n",
    "\n",
    "#filtro por facultad Mujeres por periodo\n",
    "df_t_M_CEP = df_t_M_CE.loc[df_t_M_CE['Semestre_A'] == \"1\"] \n",
    "#filtro por facultad Mujeres por periodo por grado\n",
    "df_t_M_CEPG = df_t_M_CEP.loc[df_t_M_CEP['Grado'] == \"Pregrado\"] #usar este modelo 1\n",
    "\n",
    "#filtro por facultad Mujeres por periodo 2\n",
    "df_t_M_CEPGB= df_t_M_CE.loc[df_t_M_CE['Semestre_A'] == \"2\"]\n",
    "#filtro por facultad Mujeres por periodo por grado\n",
    "df_t_M_CEPGB1 = df_t_M_CEPGB.loc[df_t_M_CEPGB['Grado'] == \"Pregrado\"]#usar este modelo 2\n",
    "\n",
    "#filtro por facultad Hombres por periodo\n",
    "df_t_H_CEP = df_t_H_CE.loc[df_t_H_CE['Semestre_A'] == \"1\"] \n",
    "#filtro por facultad Hombres por periodo por grado\n",
    "df_t_H_CEPG = df_t_H_CEP.loc[df_t_H_CEP['Grado'] == \"Pregrado\"] #usar este modelo 3\n",
    "\n",
    "#filtro por facultad Hombres por periodo\n",
    "df_t_H_CEPGB = df_t_H_CE.loc[df_t_H_CE['Semestre_A'] == \"2\"]\n",
    "#filtro por facultad Hombres por periodo por grado\n",
    "df_t_H_CEPGB2 = df_t_H_CEPGB.loc[df_t_H_CEPGB['Grado'] == \"Pregrado\"] #usar este modelo 4"
   ]
  },
  {
   "cell_type": "markdown",
   "id": "5dad94ee",
   "metadata": {},
   "source": [
    "## Modelos  facultad de Ciencias Económicas ##"
   ]
  },
  {
   "cell_type": "code",
   "execution_count": null,
   "id": "0468e43a",
   "metadata": {},
   "outputs": [],
   "source": [
    "#modelo para la ## Modelos  facultad de ciencias económicas, pregrado mujeres en el primer periodo \n",
    "model3_ce_pre_mu_1 = AutoTS(forecast_length=2, frequency='infer', prediction_interval=0.80,\n",
    "                ensemble='simple', model_list=model_list, transformer_list='fast',\n",
    "                max_generations=5, num_validations=2)\n",
    "model3_ce_pre_mu_1 = model3_ce_pre_mu_1.fit(df_t_M_CEPG,\n",
    "                                              date_col='Fecha_c', value_col='Matriculados', id_col=None)"
   ]
  },
  {
   "cell_type": "code",
   "execution_count": null,
   "id": "8a7eb04a",
   "metadata": {},
   "outputs": [],
   "source": [
    "prediction_ce_pre_mu_1 = model3_ce_pre_mu_1.predict()\n",
    "forecast_ce_pre_mu_1 =  prediction_ce_pre_mu_1.forecast\n",
    "print(model3_ce_pre_mu_1)"
   ]
  },
  {
   "cell_type": "code",
   "execution_count": null,
   "id": "44dba560",
   "metadata": {},
   "outputs": [],
   "source": [
    "#modelo para la facultad de ciencias económicas, pregrado mujeres en el segundo periodo \n",
    "model3_ce_pre_mu_2 = AutoTS(forecast_length=2, frequency='infer', prediction_interval=0.80,\n",
    "                ensemble='simple', model_list=model_list, transformer_list='fast',\n",
    "                max_generations=5, num_validations=2)\n",
    "model3_ce_pre_mu_2 = model3_ce_pre_mu_2.fit(df_t_M_CEPGB1,\n",
    "                                              date_col='Fecha_c', value_col='Matriculados', id_col=None)"
   ]
  },
  {
   "cell_type": "code",
   "execution_count": null,
   "id": "15a685fc",
   "metadata": {},
   "outputs": [],
   "source": [
    "prediction_ce_pre_mu_2 = model3_ce_pre_mu_2.predict()\n",
    "forecast_ce_pre_mu_2 =  prediction_ce_pre_mu_2.forecast\n",
    "print(model3_ce_pre_mu_2)"
   ]
  },
  {
   "cell_type": "code",
   "execution_count": null,
   "id": "f4902da2",
   "metadata": {},
   "outputs": [],
   "source": [
    "#modelo para la facultad de ciencias económicas, pregrado hombres en el primer periodo \n",
    "model3_ce_pre_ho_1 = AutoTS(forecast_length=2, frequency='infer', prediction_interval=0.80,\n",
    "                ensemble='simple', model_list=model_list, transformer_list='fast',\n",
    "                max_generations=5, num_validations=2)\n",
    "model3_ce_pre_ho_1 = model3_ce_pre_ho_1.fit(df_t_H_CEPG,\n",
    "                                              date_col='Fecha_c', value_col='Matriculados', id_col=None)"
   ]
  },
  {
   "cell_type": "code",
   "execution_count": null,
   "id": "9457a6b3",
   "metadata": {},
   "outputs": [],
   "source": [
    "prediction_ce_pre_ho_1 = model3_ce_pre_ho_1.predict()\n",
    "forecast_ce_pre_ho_1 =  prediction_ce_pre_ho_1.forecast\n",
    "print(model3_ce_pre_ho_1)"
   ]
  },
  {
   "cell_type": "code",
   "execution_count": null,
   "id": "93d485e2",
   "metadata": {},
   "outputs": [],
   "source": [
    "#modelo para la facultad de ciencias económicas, pregrado hombres en el segundo periodo \n",
    "model3_ce_pre_ho_2 = AutoTS(forecast_length=2, frequency='infer', prediction_interval=0.80,\n",
    "                ensemble='simple', model_list=model_list, transformer_list='fast',\n",
    "                max_generations=5, num_validations=2)\n",
    "model3_ce_pre_ho_2 = model3_ce_pre_ho_2.fit(df_t_H_CEPGB2,\n",
    "                                              date_col='Fecha_c', value_col='Matriculados', id_col=None)"
   ]
  },
  {
   "cell_type": "code",
   "execution_count": null,
   "id": "ccfb4ea5",
   "metadata": {},
   "outputs": [],
   "source": [
    "prediction_ce_pre_ho_2 = model3_ce_pre_ho_2.predict()\n",
    "forecast_ce_pre_ho_2 =  prediction_ce_pre_ho_2.forecast\n",
    "print(model3_ce_pre_ho_2)"
   ]
  },
  {
   "cell_type": "code",
   "execution_count": null,
   "id": "a6eb5dc5",
   "metadata": {},
   "outputs": [],
   "source": [
    "print(forecast_ce_pre_mu_1)\n",
    "print(forecast_ce_pre_mu_2)\n",
    "print(forecast_ce_pre_ho_1)\n",
    "print(forecast_ce_pre_ho_2)"
   ]
  },
  {
   "cell_type": "code",
   "execution_count": null,
   "id": "6d49ab70",
   "metadata": {},
   "outputs": [],
   "source": [
    "fig = go.Figure([\n",
    "    go.Scatter(\n",
    "        name='F.Ciencias económicas, pregrado mujeres P.1',\n",
    "        x=df_t_M_CEPG['Fecha_c'],\n",
    "        y=df_t_M_CEPG['Matriculados'],\n",
    "        mode='lines+markers',\n",
    "        marker=dict(color='red', size=2),\n",
    "        showlegend=True\n",
    "    ),\n",
    "    go.Scatter(\n",
    "        name='F.Ciencias económicas, pregrado mujeres P.2',\n",
    "        x=df_t_M_CEPGB1['Fecha_c'],\n",
    "        y=df_t_M_CEPGB1['Matriculados'],\n",
    "        mode='lines+markers',\n",
    "        marker=dict(color='violet', size=2),\n",
    "        line=dict(width=2),\n",
    "        showlegend=True\n",
    "    ),\n",
    "    go.Scatter(\n",
    "        name='F.Ciencias económicas, pregrado hombres P.1',\n",
    "        x=df_t_H_CEPG['Fecha_c'],\n",
    "        y=df_t_H_CEPG['Matriculados'],\n",
    "        marker=dict(color='green', size=2),\n",
    "        line=dict(width=2),\n",
    "        mode='lines+markers',\n",
    "        #fillcolor='rgba(68, 68, 68, 0.3)',\n",
    "        #fill='tonexty',\n",
    "        showlegend=True\n",
    "    ),\n",
    "    go.Scatter(\n",
    "        name= 'F.Ciencias económicas, pregrado hombres P.2',\n",
    "        x=df_t_H_CEPGB2['Fecha_c'],\n",
    "        y=df_t_H_CEPGB2['Matriculados'], \n",
    "        marker=dict(color='orange', size=2),\n",
    "        line=dict(width=2),\n",
    "        mode='lines+markers',\n",
    "        #fillcolor='rgba(68, 68, 68, 0.3)',\n",
    "        #fill='tonexty',\n",
    "        showlegend=True\n",
    "    ),\n",
    "        go.Scatter(\n",
    "        name='Pronostico: F.Ciencias económicas, pregrado mujeres P.1',\n",
    "        x=forecast_ce_pre_mu_1.index,\n",
    "        y=forecast_ce_pre_mu_1['Matriculados'],\n",
    "        mode='lines+markers',\n",
    "        marker=dict(color='red', size=2),\n",
    "        showlegend=True\n",
    "    ),\n",
    "    go.Scatter(\n",
    "        name='Pronostico: F.Ciencias económicas, pregrado mujeres P.2',\n",
    "        x=forecast_ce_pre_mu_2.index,\n",
    "        y=forecast_ce_pre_mu_2['Matriculados'],\n",
    "        mode='lines+markers',\n",
    "        marker=dict(color='violet', size=2),\n",
    "        line=dict(width=2),\n",
    "        showlegend=True\n",
    "    ),\n",
    "    go.Scatter(\n",
    "        name='Pronostico: F.Ciencias económicas, pregrado hombres P.1',\n",
    "        x=forecast_ce_pre_ho_1.index,\n",
    "        y=forecast_ce_pre_ho_1['Matriculados'],\n",
    "        marker=dict(color='green', size=2),\n",
    "        line=dict(width=2),\n",
    "        mode='lines+markers',\n",
    "        #fillcolor='rgba(68, 68, 68, 0.3)',\n",
    "        #fill='tonexty',\n",
    "        showlegend=True\n",
    "    ),\n",
    "    go.Scatter(\n",
    "        name= 'Pronostico: F.Ciencias económicas, pregrado hombres P.2',\n",
    "        x=forecast_ce_pre_ho_2.index,\n",
    "        y=forecast_ce_pre_ho_2['Matriculados'], \n",
    "        marker=dict(color='orange', size=2),\n",
    "        line=dict(width=2),\n",
    "        mode='lines+markers',\n",
    "        #fillcolor='rgba(68, 68, 68, 0.3)',\n",
    "        #fill='tonexty',\n",
    "        showlegend=True\n",
    "    )\n",
    "])\n",
    "fig.update_layout(\n",
    "    yaxis_title='No. Matriculados',\n",
    "    title='Matriculados facultad de Ciencias económicas',\n",
    "    hovermode=\"x\"\n",
    ")\n",
    "fig.show()\n",
    "\n",
    "fig.write_image(\"png/Matriculados facultad de Ciencias económicas.png\") # guardando resultado como .png\n",
    "fig.write_html(\"html/Matriculados facultad de Ciencias económicas.html\") # guardando resultado como.html\n"
   ]
  },
  {
   "cell_type": "markdown",
   "id": "686620fc",
   "metadata": {},
   "source": [
    "## Análisis de resultados ##"
   ]
  },
  {
   "cell_type": "code",
   "execution_count": null,
   "id": "78a91922",
   "metadata": {},
   "outputs": [],
   "source": []
  },
  {
   "cell_type": "markdown",
   "id": "2407ebfe",
   "metadata": {},
   "source": [
    "# Series de tiempo Facultad de Ciencias Humanas #"
   ]
  },
  {
   "cell_type": "markdown",
   "id": "4459ba7a",
   "metadata": {},
   "source": [
    "## Filtros para modelos facultad de Ciencias Humanas ##"
   ]
  },
  {
   "cell_type": "code",
   "execution_count": null,
   "id": "46d244fc",
   "metadata": {},
   "outputs": [],
   "source": [
    "#filtro por facultad Mujeres\n",
    "df_t_M_CH = df_t_M.loc[df_t_M['Facultad'] == \"C. Humanas\"]\n",
    "#filtro por facultad hombres\n",
    "df_t_H_CH = df_t_H.loc[df_t_H['Facultad'] == \"C. Humanas\"]\n",
    "\n",
    "#filtro por facultad Mujeres por periodo\n",
    "df_t_M_CHP = df_t_M_CH.loc[df_t_M_CH['Semestre_A'] == \"1\"] \n",
    "#filtro por facultad Mujeres por periodo por grado\n",
    "df_t_M_CHPG = df_t_M_CHP.loc[df_t_M_CHP['Grado'] == \"Pregrado\"] #usar este modelo 1\n",
    "\n",
    "#filtro por facultad Mujeres por periodo 2\n",
    "df_t_M_CHPGB= df_t_M_CH.loc[df_t_M_CH['Semestre_A'] == \"2\"]\n",
    "#filtro por facultad Mujeres por periodo por grado\n",
    "df_t_M_CHPGB1 = df_t_M_CHPGB.loc[df_t_M_CHPGB['Grado'] == \"Pregrado\"]#usar este modelo 2\n",
    "\n",
    "#filtro por facultad Hombres por periodo\n",
    "df_t_H_CHP = df_t_H_CH.loc[df_t_H_CH['Semestre_A'] == \"1\"] \n",
    "#filtro por facultad Hombres por periodo por grado\n",
    "df_t_H_CHPG = df_t_H_CHP.loc[df_t_H_CHP['Grado'] == \"Pregrado\"] #usar este modelo 3\n",
    "\n",
    "#filtro por facultad Hombres por periodo\n",
    "df_t_H_CHPGB = df_t_H_CH.loc[df_t_H_CH['Semestre_A'] == \"2\"]\n",
    "#filtro por facultad Hombres por periodo por grado\n",
    "df_t_H_CHPGB2 = df_t_H_CHPGB.loc[df_t_H_CHPGB['Grado'] == \"Pregrado\"] #usar este modelo 4"
   ]
  },
  {
   "cell_type": "markdown",
   "id": "fb504ac9",
   "metadata": {},
   "source": [
    "## Modelos  facultad de Ciencias Humanas ##"
   ]
  },
  {
   "cell_type": "code",
   "execution_count": null,
   "id": "8fafafbb",
   "metadata": {},
   "outputs": [],
   "source": [
    "#modelo para la ## Modelos  facultad de ciencias humanas, pregrado mujeres en el primer periodo \n",
    "model4_ch_pre_mu_1 = AutoTS(forecast_length=2, frequency='infer', prediction_interval=0.80,\n",
    "                ensemble='simple', model_list=model_list, transformer_list='fast',\n",
    "                max_generations=5, num_validations=2)\n",
    "model4_ch_pre_mu_1 = model4_ch_pre_mu_1.fit(df_t_M_CHPG,\n",
    "                                              date_col='Fecha_c', value_col='Matriculados', id_col=None)"
   ]
  },
  {
   "cell_type": "code",
   "execution_count": null,
   "id": "9f018737",
   "metadata": {},
   "outputs": [],
   "source": [
    "prediction_ch_pre_mu_1 = model4_ch_pre_mu_1.predict()\n",
    "forecast_ch_pre_mu_1 =  prediction_ch_pre_mu_1.forecast\n",
    "print(model4_ch_pre_mu_1)"
   ]
  },
  {
   "cell_type": "code",
   "execution_count": null,
   "id": "4b144088",
   "metadata": {},
   "outputs": [],
   "source": [
    "#modelo para la facultad de ciencias humanas, pregrado mujeres en el segundo periodo \n",
    "model4_ch_pre_mu_2 = AutoTS(forecast_length=2, frequency='infer', prediction_interval=0.80,\n",
    "                ensemble='simple', model_list=model_list, transformer_list='fast',\n",
    "                max_generations=5, num_validations=2)\n",
    "model4_ch_pre_mu_2 = model4_ch_pre_mu_2.fit(df_t_M_CHPGB1,\n",
    "                                              date_col='Fecha_c', value_col='Matriculados', id_col=None)"
   ]
  },
  {
   "cell_type": "code",
   "execution_count": null,
   "id": "c4dea9b9",
   "metadata": {},
   "outputs": [],
   "source": [
    "prediction_ch_pre_mu_2 = model4_ch_pre_mu_2.predict()\n",
    "forecast_ch_pre_mu_2 =  prediction_ch_pre_mu_2.forecast\n",
    "print(model4_ch_pre_mu_2)"
   ]
  },
  {
   "cell_type": "code",
   "execution_count": null,
   "id": "68d1a82a",
   "metadata": {},
   "outputs": [],
   "source": [
    "#modelo para la facultad de ciencias humanas, pregrado hombres en el primer periodo \n",
    "model4_ch_pre_ho_1 = AutoTS(forecast_length=2, frequency='infer', prediction_interval=0.80,\n",
    "                ensemble='simple', model_list=model_list, transformer_list='fast',\n",
    "                max_generations=5, num_validations=2)\n",
    "model4_ch_pre_ho_1 = model4_ch_pre_ho_1.fit(df_t_H_CHPG,\n",
    "                                              date_col='Fecha_c', value_col='Matriculados', id_col=None)"
   ]
  },
  {
   "cell_type": "code",
   "execution_count": null,
   "id": "457fd510",
   "metadata": {},
   "outputs": [],
   "source": [
    "prediction_ch_pre_ho_1 = model4_ch_pre_ho_1.predict()\n",
    "forecast_ch_pre_ho_1 =  prediction_ch_pre_ho_1.forecast\n",
    "print(model4_ch_pre_ho_1)"
   ]
  },
  {
   "cell_type": "code",
   "execution_count": null,
   "id": "dacaeec8",
   "metadata": {},
   "outputs": [],
   "source": [
    "#modelo para la facultad de ciencias humanas, pregrado hombres en el segundo periodo \n",
    "model4_ch_pre_ho_2 = AutoTS(forecast_length=2, frequency='infer', prediction_interval=0.80,\n",
    "                ensemble='simple', model_list=model_list, transformer_list='fast',\n",
    "                max_generations=5, num_validations=2)\n",
    "model4_ch_pre_ho_2 = model4_ch_pre_ho_2.fit(df_t_H_CHPGB2,\n",
    "                                              date_col='Fecha_c', value_col='Matriculados', id_col=None)"
   ]
  },
  {
   "cell_type": "code",
   "execution_count": null,
   "id": "a08bca06",
   "metadata": {},
   "outputs": [],
   "source": [
    "prediction_ch_pre_ho_2 = model4_ch_pre_ho_2.predict()\n",
    "forecast_ch_pre_ho_2 =  prediction_ch_pre_ho_2.forecast\n",
    "print(model4_ch_pre_ho_2)"
   ]
  },
  {
   "cell_type": "code",
   "execution_count": null,
   "id": "d6b5f91c",
   "metadata": {},
   "outputs": [],
   "source": [
    "print(forecast_ch_pre_mu_1)\n",
    "print(forecast_ch_pre_mu_2)\n",
    "print(forecast_ch_pre_ho_1)\n",
    "print(forecast_ch_pre_ho_2)"
   ]
  },
  {
   "cell_type": "code",
   "execution_count": null,
   "id": "84c5bde6",
   "metadata": {},
   "outputs": [],
   "source": [
    "fig = go.Figure([\n",
    "    go.Scatter(\n",
    "        name='F.Ciencias humanas, pregrado mujeres P.1',\n",
    "        x=df_t_M_CHPG['Fecha_c'],\n",
    "        y=df_t_M_CHPG['Matriculados'],\n",
    "        mode='lines+markers',\n",
    "        marker=dict(color='red', size=2),\n",
    "        showlegend=True\n",
    "    ),\n",
    "    go.Scatter(\n",
    "        name='F.Ciencias humanas, pregrado mujeres P.2',\n",
    "        x=df_t_M_CHPGB1['Fecha_c'],\n",
    "        y=df_t_M_CHPGB1['Matriculados'],\n",
    "        mode='lines+markers',\n",
    "        marker=dict(color='violet', size=2),\n",
    "        line=dict(width=2),\n",
    "        showlegend=True\n",
    "    ),\n",
    "    go.Scatter(\n",
    "        name='F.Ciencias humanas, pregrado hombres P.1',\n",
    "        x=df_t_H_CHPG['Fecha_c'],\n",
    "        y=df_t_H_CHPG['Matriculados'],\n",
    "        marker=dict(color='green', size=2),\n",
    "        line=dict(width=2),\n",
    "        mode='lines+markers',\n",
    "        #fillcolor='rgba(68, 68, 68, 0.3)',\n",
    "        #fill='tonexty',\n",
    "        showlegend=True\n",
    "    ),\n",
    "    go.Scatter(\n",
    "        name= 'F.Ciencias humanas, pregrado hombres P.2',\n",
    "        x=df_t_H_CHPGB2['Fecha_c'],\n",
    "        y=df_t_H_CHPGB2['Matriculados'], \n",
    "        marker=dict(color='orange', size=2),\n",
    "        line=dict(width=2),\n",
    "        mode='lines+markers',\n",
    "        #fillcolor='rgba(68, 68, 68, 0.3)',\n",
    "        #fill='tonexty',\n",
    "        showlegend=True\n",
    "    ),\n",
    "        go.Scatter(\n",
    "        name='Pronostico: F.Ciencias humanas, pregrado mujeres P.1',\n",
    "        x=forecast_ch_pre_mu_1.index,\n",
    "        y=forecast_ch_pre_mu_1['Matriculados'],\n",
    "        mode='lines+markers',\n",
    "        marker=dict(color='red', size=2),\n",
    "        showlegend=True\n",
    "    ),\n",
    "    go.Scatter(\n",
    "        name='Pronostico: F.Ciencias humanas, pregrado mujeres P.2',\n",
    "        x=forecast_ch_pre_mu_2.index,\n",
    "        y=forecast_ch_pre_mu_2['Matriculados'],\n",
    "        mode='lines+markers',\n",
    "        marker=dict(color='violet', size=2),\n",
    "        line=dict(width=2),\n",
    "        showlegend=True\n",
    "    ),\n",
    "    go.Scatter(\n",
    "        name='Pronostico: F.Ciencias humanas, pregrado hombres P.1',\n",
    "        x=forecast_ch_pre_ho_1.index,\n",
    "        y=forecast_ch_pre_ho_1['Matriculados'],\n",
    "        marker=dict(color='green', size=2),\n",
    "        line=dict(width=2),\n",
    "        mode='lines+markers',\n",
    "        #fillcolor='rgba(68, 68, 68, 0.3)',\n",
    "        #fill='tonexty',\n",
    "        showlegend=True\n",
    "    ),\n",
    "    go.Scatter(\n",
    "        name= 'Pronostico: F.Ciencias humanas, pregrado hombres P.2',\n",
    "        x=forecast_ch_pre_ho_2.index,\n",
    "        y=forecast_ch_pre_ho_2['Matriculados'], \n",
    "        marker=dict(color='orange', size=2),\n",
    "        line=dict(width=2),\n",
    "        mode='lines+markers',\n",
    "        #fillcolor='rgba(68, 68, 68, 0.3)',\n",
    "        #fill='tonexty',\n",
    "        showlegend=True\n",
    "    )\n",
    "])\n",
    "fig.update_layout(\n",
    "    yaxis_title='No. Matriculados',\n",
    "    title='Matriculados facultad de Ciencias humanas',\n",
    "    hovermode=\"x\"\n",
    ")\n",
    "fig.show()\n",
    "\n",
    "fig.write_image(\"png/Matriculados facultad de Ciencias humanas.png\") # guardando resultado como .png\n",
    "fig.write_html(\"html/Matriculados facultad de Ciencias humanas.html\") # guardando resultado como.html\n"
   ]
  },
  {
   "cell_type": "markdown",
   "id": "6dea8e8b",
   "metadata": {},
   "source": [
    "## Análisis de resultados ##"
   ]
  },
  {
   "cell_type": "code",
   "execution_count": null,
   "id": "3f638562",
   "metadata": {},
   "outputs": [],
   "source": []
  },
  {
   "cell_type": "markdown",
   "id": "1d821ef1",
   "metadata": {},
   "source": [
    "# Series de tiempo Facultad de Ciencias #"
   ]
  },
  {
   "cell_type": "markdown",
   "id": "d29a13ae",
   "metadata": {},
   "source": [
    "## Filtros para modelos facultad de Ciencias  ##"
   ]
  },
  {
   "cell_type": "code",
   "execution_count": null,
   "id": "186d97e0",
   "metadata": {},
   "outputs": [],
   "source": [
    "#filtro por facultad Mujeres\n",
    "df_t_M_C_ = df_t_M.loc[df_t_M['Facultad'] == \"C. Humanas\"]\n",
    "#filtro por facultad hombres\n",
    "df_t_H_C_ = df_t_H.loc[df_t_H['Facultad'] == \"C. Humanas\"]\n",
    "\n",
    "#filtro por facultad Mujeres por periodo\n",
    "df_t_M_C_P = df_t_M_C_.loc[df_t_M_C_['Semestre_A'] == \"1\"] \n",
    "#filtro por facultad Mujeres por periodo por grado\n",
    "df_t_M_C_PG = df_t_M_C_P.loc[df_t_M_C_P['Grado'] == \"Pregrado\"] #usar este modelo 1\n",
    "\n",
    "#filtro por facultad Mujeres por periodo 2\n",
    "df_t_M_C_PGB= df_t_M_C_.loc[df_t_M_C_['Semestre_A'] == \"2\"]\n",
    "#filtro por facultad Mujeres por periodo por grado\n",
    "df_t_M_C_PGB1 = df_t_M_C_PGB.loc[df_t_M_C_PGB['Grado'] == \"Pregrado\"]#usar este modelo 2\n",
    "\n",
    "#filtro por facultad Hombres por periodo\n",
    "df_t_H_C_P = df_t_H_C_.loc[df_t_H_C_['Semestre_A'] == \"1\"] \n",
    "#filtro por facultad Hombres por periodo por grado\n",
    "df_t_H_C_PG = df_t_H_C_P.loc[df_t_H_C_P['Grado'] == \"Pregrado\"] #usar este modelo 3\n",
    "\n",
    "#filtro por facultad Hombres por periodo\n",
    "df_t_H_C_PGB = df_t_H_C_.loc[df_t_H_C_['Semestre_A'] == \"2\"]\n",
    "#filtro por facultad Hombres por periodo por grado\n",
    "df_t_H_C_PGB2 = df_t_H_C_PGB.loc[df_t_H_C_PGB['Grado'] == \"Pregrado\"] #usar este modelo 4"
   ]
  },
  {
   "cell_type": "markdown",
   "id": "cea70d1c",
   "metadata": {},
   "source": [
    "## Modelos  facultad de Ciencias ##"
   ]
  },
  {
   "cell_type": "code",
   "execution_count": null,
   "id": "70f8488a",
   "metadata": {},
   "outputs": [],
   "source": [
    "#modelo para la ## Modelos  facultad de ciencias, pregrado mujeres en el primer periodo \n",
    "model5_c_pre_mu_1 = AutoTS(forecast_length=2, frequency='infer', prediction_interval=0.80,\n",
    "                ensemble='simple', model_list=model_list, transformer_list='fast',\n",
    "                max_generations=5, num_validations=2)\n",
    "model5_c_pre_mu_1 = model5_c_pre_mu_1.fit(df_t_M_C_PG,\n",
    "                                              date_col='Fecha_c', value_col='Matriculados', id_col=None)"
   ]
  },
  {
   "cell_type": "code",
   "execution_count": null,
   "id": "7174a559",
   "metadata": {},
   "outputs": [],
   "source": [
    "prediction_c_pre_mu_1 = model5_c_pre_mu_1.predict()\n",
    "forecast_c_pre_mu_1 =  prediction_c_pre_mu_1.forecast\n",
    "print(model5_c_pre_mu_1)"
   ]
  },
  {
   "cell_type": "code",
   "execution_count": null,
   "id": "09d3c69a",
   "metadata": {},
   "outputs": [],
   "source": [
    "#modelo para la facultad de ciencias, pregrado mujeres en el segundo periodo \n",
    "model5_c_pre_mu_2 = AutoTS(forecast_length=2, frequency='infer', prediction_interval=0.80,\n",
    "                ensemble='simple', model_list=model_list, transformer_list='fast',\n",
    "                max_generations=5, num_validations=2)\n",
    "model5_c_pre_mu_2 = model5_c_pre_mu_2.fit(df_t_M_C_PGB1,\n",
    "                                              date_col='Fecha_c', value_col='Matriculados', id_col=None)"
   ]
  },
  {
   "cell_type": "code",
   "execution_count": null,
   "id": "5d19a5ed",
   "metadata": {},
   "outputs": [],
   "source": [
    "prediction_c_pre_mu_2 = model5_c_pre_mu_2.predict()\n",
    "forecast_c_pre_mu_2 =  prediction_c_pre_mu_2.forecast\n",
    "print(model5_c_pre_mu_2)"
   ]
  },
  {
   "cell_type": "code",
   "execution_count": null,
   "id": "e24ba2d8",
   "metadata": {},
   "outputs": [],
   "source": [
    "#modelo para la facultad de ciencias, pregrado hombres en el primer periodo \n",
    "model5_c_pre_ho_1 = AutoTS(forecast_length=2, frequency='infer', prediction_interval=0.80,\n",
    "                ensemble='simple', model_list=model_list, transformer_list='fast',\n",
    "                max_generations=5, num_validations=2)\n",
    "model5_c_pre_ho_1 = model5_c_pre_ho_1.fit(df_t_H_C_PG,\n",
    "                                              date_col='Fecha_c', value_col='Matriculados', id_col=None)"
   ]
  },
  {
   "cell_type": "code",
   "execution_count": null,
   "id": "054317cf",
   "metadata": {},
   "outputs": [],
   "source": [
    "prediction_c_pre_ho_1 = model5_c_pre_ho_1.predict()\n",
    "forecast_c_pre_ho_1 =  prediction_c_pre_ho_1.forecast\n",
    "print(model5_c_pre_ho_1)"
   ]
  },
  {
   "cell_type": "code",
   "execution_count": null,
   "id": "138254c9",
   "metadata": {},
   "outputs": [],
   "source": [
    "#modelo para la facultad de ciencias, pregrado hombres en el segundo periodo \n",
    "model5_c_pre_ho_2 = AutoTS(forecast_length=2, frequency='infer', prediction_interval=0.80,\n",
    "                ensemble='simple', model_list=model_list, transformer_list='fast',\n",
    "                max_generations=5, num_validations=2)\n",
    "model5_c_pre_ho_2 = model5_c_pre_ho_2.fit(df_t_H_C_PGB2,\n",
    "                                              date_col='Fecha_c', value_col='Matriculados', id_col=None)"
   ]
  },
  {
   "cell_type": "code",
   "execution_count": null,
   "id": "dbc2f4c0",
   "metadata": {},
   "outputs": [],
   "source": [
    "prediction_c_pre_ho_2 = model5_c_pre_ho_2.predict()\n",
    "forecast_c_pre_ho_2 =  prediction_c_pre_ho_2.forecast\n",
    "print(model5_c_pre_ho_2)"
   ]
  },
  {
   "cell_type": "code",
   "execution_count": null,
   "id": "ea27e44f",
   "metadata": {},
   "outputs": [],
   "source": [
    "print(forecast_c_pre_mu_1)\n",
    "print(forecast_c_pre_mu_2)\n",
    "print(forecast_c_pre_ho_1)\n",
    "print(forecast_c_pre_ho_2)"
   ]
  },
  {
   "cell_type": "code",
   "execution_count": null,
   "id": "a129bd30",
   "metadata": {},
   "outputs": [],
   "source": [
    "fig = go.Figure([\n",
    "    go.Scatter(\n",
    "        name='F.Ciencias, pregrado mujeres P.1',\n",
    "        x=df_t_M_C_PG['Fecha_c'],\n",
    "        y=df_t_M_C_PG['Matriculados'],\n",
    "        mode='lines+markers',\n",
    "        marker=dict(color='red', size=2),\n",
    "        showlegend=True\n",
    "    ),\n",
    "    go.Scatter(\n",
    "        name='F.Ciencias, pregrado mujeres P.2',\n",
    "        x=df_t_M_C_PGB1['Fecha_c'],\n",
    "        y=df_t_M_C_PGB1['Matriculados'],\n",
    "        mode='lines+markers',\n",
    "        marker=dict(color='violet', size=2),\n",
    "        line=dict(width=2),\n",
    "        showlegend=True\n",
    "    ),\n",
    "    go.Scatter(\n",
    "        name='F.Ciencias, pregrado hombres P.1',\n",
    "        x=df_t_H_C_PG['Fecha_c'],\n",
    "        y=df_t_H_C_PG['Matriculados'],\n",
    "        marker=dict(color='green', size=2),\n",
    "        line=dict(width=2),\n",
    "        mode='lines+markers',\n",
    "        #fillcolor='rgba(68, 68, 68, 0.3)',\n",
    "        #fill='tonexty',\n",
    "        showlegend=True\n",
    "    ),\n",
    "    go.Scatter(\n",
    "        name= 'F.Ciencias, pregrado hombres P.2',\n",
    "        x=df_t_H_C_PGB2['Fecha_c'],\n",
    "        y=df_t_H_C_PGB2['Matriculados'], \n",
    "        marker=dict(color='orange', size=2),\n",
    "        line=dict(width=2),\n",
    "        mode='lines+markers',\n",
    "        #fillcolor='rgba(68, 68, 68, 0.3)',\n",
    "        #fill='tonexty',\n",
    "        showlegend=True\n",
    "    ),\n",
    "        go.Scatter(\n",
    "        name='Pronostico: F.Ciencias, pregrado mujeres P.1',\n",
    "        x=forecast_c_pre_mu_1.index,\n",
    "        y=forecast_c_pre_mu_1['Matriculados'],\n",
    "        mode='lines+markers',\n",
    "        marker=dict(color='red', size=2),\n",
    "        showlegend=True\n",
    "    ),\n",
    "    go.Scatter(\n",
    "        name='Pronostico: F.Ciencias, pregrado mujeres P.2',\n",
    "        x=forecast_c_pre_mu_2.index,\n",
    "        y=forecast_c_pre_mu_2['Matriculados'],\n",
    "        mode='lines+markers',\n",
    "        marker=dict(color='violet', size=2),\n",
    "        line=dict(width=2),\n",
    "        showlegend=True\n",
    "    ),\n",
    "    go.Scatter(\n",
    "        name='Pronostico: F.Ciencias, pregrado hombres P.1',\n",
    "        x=forecast_c_pre_ho_1.index,\n",
    "        y=forecast_c_pre_ho_1['Matriculados'],\n",
    "        marker=dict(color='green', size=2),\n",
    "        line=dict(width=2),\n",
    "        mode='lines+markers',\n",
    "        #fillcolor='rgba(68, 68, 68, 0.3)',\n",
    "        #fill='tonexty',\n",
    "        showlegend=True\n",
    "    ),\n",
    "    go.Scatter(\n",
    "        name= 'Pronostico: F.Ciencias, pregrado hombres P.2',\n",
    "        x=forecast_c_pre_ho_2.index,\n",
    "        y=forecast_c_pre_ho_2['Matriculados'], \n",
    "        marker=dict(color='orange', size=2),\n",
    "        line=dict(width=2),\n",
    "        mode='lines+markers',\n",
    "        #fillcolor='rgba(68, 68, 68, 0.3)',\n",
    "        #fill='tonexty',\n",
    "        showlegend=True\n",
    "    )\n",
    "])\n",
    "fig.update_layout(\n",
    "    yaxis_title='No. Matriculados',\n",
    "    title='Matriculados facultad de Ciencias',\n",
    "    hovermode=\"x\"\n",
    ")\n",
    "fig.show()\n",
    "\n",
    "fig.write_image(\"png/Matriculados facultad de Ciencias.png\") # guardando resultado como .png\n",
    "fig.write_html(\"html/Matriculados facultad de Ciencias.html\") # guardando resultado como.html\n"
   ]
  },
  {
   "cell_type": "markdown",
   "id": "d2704cbf",
   "metadata": {},
   "source": [
    "## Análisis de resultados ##"
   ]
  },
  {
   "cell_type": "code",
   "execution_count": null,
   "id": "f9ff763d",
   "metadata": {},
   "outputs": [],
   "source": []
  },
  {
   "cell_type": "markdown",
   "id": "038d6fd0",
   "metadata": {},
   "source": [
    "# Series de tiempo Facultad de Derecho, C. Políticas y Sociales #"
   ]
  },
  {
   "cell_type": "markdown",
   "id": "c9bf798e",
   "metadata": {},
   "source": [
    "## Filtros para modelos facultad de Derecho, C. Políticas y Sociales ##"
   ]
  },
  {
   "cell_type": "code",
   "execution_count": null,
   "id": "7d21fa94",
   "metadata": {},
   "outputs": [],
   "source": [
    "#filtro por facultad Mujeres\n",
    "df_t_M_CDPS = df_t_M.loc[df_t_M['Facultad'] == \"C. Humanas\"]\n",
    "#filtro por facultad hombres\n",
    "df_t_H_CDPS = df_t_H.loc[df_t_H['Facultad'] == \"C. Humanas\"]\n",
    "\n",
    "#filtro por facultad Mujeres por periodo\n",
    "df_t_M_CDPSP = df_t_M_CDPS.loc[df_t_M_CDPS['Semestre_A'] == \"1\"] \n",
    "#filtro por facultad Mujeres por periodo por grado\n",
    "df_t_M_CDPSPG = df_t_M_CDPSP.loc[df_t_M_CDPSP['Grado'] == \"Pregrado\"] #usar este modelo 1\n",
    "\n",
    "#filtro por facultad Mujeres por periodo 2\n",
    "df_t_M_CDPSPGB= df_t_M_CDPS.loc[df_t_M_CDPS['Semestre_A'] == \"2\"]\n",
    "#filtro por facultad Mujeres por periodo por grado\n",
    "df_t_M_CDPSPGB1 = df_t_M_CDPSPGB.loc[df_t_M_CDPSPGB['Grado'] == \"Pregrado\"]#usar este modelo 2\n",
    "\n",
    "#filtro por facultad Hombres por periodo\n",
    "df_t_H_CDPSP = df_t_H_CDPS.loc[df_t_H_CDPS['Semestre_A'] == \"1\"] \n",
    "#filtro por facultad Hombres por periodo por grado\n",
    "df_t_H_CDPSPG = df_t_H_CDPSP.loc[df_t_H_CDPSP['Grado'] == \"Pregrado\"] #usar este modelo 3\n",
    "\n",
    "#filtro por facultad Hombres por periodo\n",
    "df_t_H_CDPSPGB = df_t_H_CDPS.loc[df_t_H_CDPS['Semestre_A'] == \"2\"]\n",
    "#filtro por facultad Hombres por periodo por grado\n",
    "df_t_H_CDPSPGB2 = df_t_H_CDPSPGB.loc[df_t_H_CDPSPGB['Grado'] == \"Pregrado\"] #usar este modelo 4"
   ]
  },
  {
   "cell_type": "markdown",
   "id": "e59b57b4",
   "metadata": {},
   "source": [
    "## Modelos  facultad de Derecho, C. Políticas y Sociales ##"
   ]
  },
  {
   "cell_type": "code",
   "execution_count": null,
   "id": "ae20c2d5",
   "metadata": {},
   "outputs": [],
   "source": [
    "#modelo para la ## Modelos  facultad de Derecho, C. Políticas y Sociales, pregrado mujeres en el primer periodo \n",
    "model6_dps_pre_mu_1 = AutoTS(forecast_length=2, frequency='infer', prediction_interval=0.80,\n",
    "                ensemble='simple', model_list=model_list, transformer_list='fast',\n",
    "                max_generations=5, num_validations=2)\n",
    "model6_dps_pre_mu_1 = model6_dps_pre_mu_1.fit(df_t_M_CDPSPG,\n",
    "                                              date_col='Fecha_c', value_col='Matriculados', id_col=None)"
   ]
  },
  {
   "cell_type": "code",
   "execution_count": null,
   "id": "3b057348",
   "metadata": {},
   "outputs": [],
   "source": [
    "prediction_dps_pre_mu_1 = model6_dps_pre_mu_1.predict()\n",
    "forecast_dps_pre_mu_1 =  prediction_dps_pre_mu_1.forecast\n",
    "print(model6_dps_pre_mu_1)"
   ]
  },
  {
   "cell_type": "code",
   "execution_count": null,
   "id": "ef473e9a",
   "metadata": {},
   "outputs": [],
   "source": [
    "#modelo para la facultad de Derecho, C. Políticas y Sociales, pregrado mujeres en el segundo periodo \n",
    "model6_dps_pre_mu_2 = AutoTS(forecast_length=2, frequency='infer', prediction_interval=0.80,\n",
    "                ensemble='simple', model_list=model_list, transformer_list='fast',\n",
    "                max_generations=5, num_validations=2)\n",
    "model6_dps_pre_mu_2 = model6_dps_pre_mu_2.fit(df_t_M_CDPSPGB1,\n",
    "                                              date_col='Fecha_c', value_col='Matriculados', id_col=None)"
   ]
  },
  {
   "cell_type": "code",
   "execution_count": null,
   "id": "531e390c",
   "metadata": {},
   "outputs": [],
   "source": [
    "#modelo para la facultad de Derecho, C. Políticas y Sociales, pregrado mujeres en el segundo periodo \n",
    "model6_dps_pre_mu_2 = AutoTS(forecast_length=2, frequency='infer', prediction_interval=0.80,\n",
    "                ensemble='simple', model_list=model_list, transformer_list='fast',\n",
    "                max_generations=5, num_validations=2)\n",
    "model6_dps_pre_mu_2 = model6_dps_pre_mu_2.fit(df_t_H_CDPSPG,\n",
    "                                              date_col='Fecha_c', value_col='Matriculados', id_col=None)"
   ]
  },
  {
   "cell_type": "code",
   "execution_count": null,
   "id": "6984aaec",
   "metadata": {},
   "outputs": [],
   "source": [
    "#modelo para la facultad de Derecho, C. Políticas y Sociales, pregrado hombres en el primer periodo \n",
    "model6_dps_pre_ho_1 = AutoTS(forecast_length=2, frequency='infer', prediction_interval=0.80,\n",
    "                ensemble='simple', model_list=model_list, transformer_list='fast',\n",
    "                max_generations=5, num_validations=2)\n",
    "model6_dps_pre_ho_1 = model6_dps_pre_ho_1.fit(df_t_H_CDPSPGB2,\n",
    "                                              date_col='Fecha_c', value_col='Matriculados', id_col=None)"
   ]
  },
  {
   "cell_type": "code",
   "execution_count": null,
   "id": "8adeeead",
   "metadata": {},
   "outputs": [],
   "source": [
    "prediction_dps_pre_ho_1 = model6_dps_pre_ho_1.predict()\n",
    "forecast_dps_pre_ho_1 =  prediction_dps_pre_ho_1.forecast\n",
    "print(model6_dps_pre_ho_1)"
   ]
  },
  {
   "cell_type": "code",
   "execution_count": null,
   "id": "c6f60465",
   "metadata": {},
   "outputs": [],
   "source": [
    "#modelo para la facultad de Derecho, C. Políticas y Sociales, pregrado hombres en el segundo periodo \n",
    "model6_dps_pre_ho_2 = AutoTS(forecast_length=2, frequency='infer', prediction_interval=0.80,\n",
    "                ensemble='simple', model_list=model_list, transformer_list='fast',\n",
    "                max_generations=5, num_validations=2)\n",
    "model6_dps_pre_ho_2 = model6_dps_pre_ho_2.fit(df_t_H_C_PGB2,\n",
    "                                              date_col='Fecha_c', value_col='Matriculados', id_col=None)"
   ]
  },
  {
   "cell_type": "code",
   "execution_count": null,
   "id": "8025aa8f",
   "metadata": {},
   "outputs": [],
   "source": [
    "prediction_dps_pre_ho_2 = model6_dps_pre_ho_2.predict()\n",
    "forecast_dps_pre_ho_2 =  prediction_dps_pre_ho_2.forecast\n",
    "print(model5_c_pre_ho_2)"
   ]
  },
  {
   "cell_type": "code",
   "execution_count": null,
   "id": "50899a53",
   "metadata": {},
   "outputs": [],
   "source": [
    "print(forecast_dps_pre_mu_1)\n",
    "print(forecast_dps_pre_mu_2)\n",
    "print(forecast_dps_pre_ho_1)\n",
    "print(forecast_dps_pre_ho_2)"
   ]
  },
  {
   "cell_type": "code",
   "execution_count": null,
   "id": "b9e66075",
   "metadata": {},
   "outputs": [],
   "source": [
    "fig = go.Figure([\n",
    "    go.Scatter(\n",
    "        name='F.Derecho, C. Políticas y Sociales, pregrado mujeres P.1',\n",
    "        x=df_t_M_CDPSPG['Fecha_c'],\n",
    "        y=df_t_M_CDPSPG['Matriculados'],\n",
    "        mode='lines+markers',\n",
    "        marker=dict(color='red', size=2),\n",
    "        showlegend=True\n",
    "    ),\n",
    "    go.Scatter(\n",
    "        name='F.Derecho, C. Políticas y Sociales, pregrado mujeres P.2',\n",
    "        x=df_t_M_CDPSPGB1['Fecha_c'],\n",
    "        y=df_t_M_CDPSPGB1['Matriculados'],\n",
    "        mode='lines+markers',\n",
    "        marker=dict(color='violet', size=2),\n",
    "        line=dict(width=2),\n",
    "        showlegend=True\n",
    "    ),\n",
    "    go.Scatter(\n",
    "        name='F.Derecho, C. Políticas y Sociales, pregrado hombres P.1',\n",
    "        x=df_t_H_CDPSPG['Fecha_c'],\n",
    "        y=df_t_H_CDPSPG['Matriculados'],\n",
    "        marker=dict(color='green', size=2),\n",
    "        line=dict(width=2),\n",
    "        mode='lines+markers',\n",
    "        #fillcolor='rgba(68, 68, 68, 0.3)',\n",
    "        #fill='tonexty',\n",
    "        showlegend=True\n",
    "    ),\n",
    "    go.Scatter(\n",
    "        name= 'F.Derecho, C. Políticas y Sociales, pregrado hombres P.2',\n",
    "        x=df_t_H_CDPSPGB2['Fecha_c'],\n",
    "        y=df_t_H_CDPSPGB2['Matriculados'], \n",
    "        marker=dict(color='orange', size=2),\n",
    "        line=dict(width=2),\n",
    "        mode='lines+markers',\n",
    "        #fillcolor='rgba(68, 68, 68, 0.3)',\n",
    "        #fill='tonexty',\n",
    "        showlegend=True\n",
    "    ),\n",
    "        go.Scatter(\n",
    "        name='Pronostico: F.Derecho, C. Políticas y Sociales, pregrado mujeres P.1',\n",
    "        x=forecast_dps_pre_mu_1.index,\n",
    "        y=forecast_dps_pre_mu_1['Matriculados'],\n",
    "        mode='lines+markers',\n",
    "        marker=dict(color='red', size=2),\n",
    "        showlegend=True\n",
    "    ),\n",
    "    go.Scatter(\n",
    "        name='Pronostico: F.Derecho, C. Políticas y Sociales, pregrado mujeres P.2',\n",
    "        x=forecast_dps_pre_mu_2.index,\n",
    "        y=forecast_dps_pre_mu_2['Matriculados'],\n",
    "        mode='lines+markers',\n",
    "        marker=dict(color='violet', size=2),\n",
    "        line=dict(width=2),\n",
    "        showlegend=True\n",
    "    ),\n",
    "    go.Scatter(\n",
    "        name='Pronostico: F.Derecho, C. Políticas y Sociales, pregrado hombres P.1',\n",
    "        x=forecast_dps_pre_ho_1.index,\n",
    "        y=forecast_dps_pre_ho_1['Matriculados'],\n",
    "        marker=dict(color='green', size=2),\n",
    "        line=dict(width=2),\n",
    "        mode='lines+markers',\n",
    "        #fillcolor='rgba(68, 68, 68, 0.3)',\n",
    "        #fill='tonexty',\n",
    "        showlegend=True\n",
    "    ),\n",
    "    go.Scatter(\n",
    "        name= 'Pronostico: F.Derecho, C. Políticas y Sociales, pregrado hombres P.2',\n",
    "        x=forecast_dps_pre_ho_2.index,\n",
    "        y=forecast_dps_pre_ho_2['Matriculados'], \n",
    "        marker=dict(color='orange', size=2),\n",
    "        line=dict(width=2),\n",
    "        mode='lines+markers',\n",
    "        #fillcolor='rgba(68, 68, 68, 0.3)',\n",
    "        #fill='tonexty',\n",
    "        showlegend=True\n",
    "    )\n",
    "])\n",
    "fig.update_layout(\n",
    "    yaxis_title='No. Matriculados',\n",
    "    title='Matriculados facultad de Derecho, C. Políticas y Sociales',\n",
    "    hovermode=\"x\"\n",
    ")\n",
    "fig.show()\n",
    "\n",
    "fig.write_image(\"png/Matriculados facultad de Derecho, C. Políticas y Sociales.png\") # guardando resultado como .png\n",
    "fig.write_html(\"html/Matriculados facultad de Derecho, C. Políticas y Sociales.html\") # guardando resultado como.html\n"
   ]
  },
  {
   "cell_type": "markdown",
   "id": "e50193ef",
   "metadata": {},
   "source": [
    "## Análisis de resultados ##"
   ]
  },
  {
   "cell_type": "code",
   "execution_count": null,
   "id": "e0b717b1",
   "metadata": {},
   "outputs": [],
   "source": []
  },
  {
   "cell_type": "markdown",
   "id": "4b79ac2c",
   "metadata": {},
   "source": [
    "# Series de tiempo Facultad de Enfermería #"
   ]
  },
  {
   "cell_type": "markdown",
   "id": "469d3eef",
   "metadata": {},
   "source": [
    "## Filtros para modelos facultad de Enfermería ##"
   ]
  },
  {
   "cell_type": "code",
   "execution_count": null,
   "id": "c54943de",
   "metadata": {},
   "outputs": [],
   "source": [
    "#filtro por facultad Mujeres\n",
    "df_t_M_E_ = df_t_M.loc[df_t_M['Facultad'] == \"C. Humanas\"]\n",
    "#filtro por facultad hombres\n",
    "df_t_H_E_ = df_t_H.loc[df_t_H['Facultad'] == \"C. Humanas\"]\n",
    "\n",
    "#filtro por facultad Mujeres por periodo\n",
    "df_t_M_E_P = df_t_M_E_.loc[df_t_M_E_['Semestre_A'] == \"1\"] \n",
    "#filtro por facultad Mujeres por periodo por grado\n",
    "df_t_M_E_PG = df_t_M_E_P.loc[df_t_M_E_P['Grado'] == \"Pregrado\"] #usar este modelo 1\n",
    "\n",
    "#filtro por facultad Mujeres por periodo 2\n",
    "df_t_M_E_PGB= df_t_M_E_.loc[df_t_M_E_['Semestre_A'] == \"2\"]\n",
    "#filtro por facultad Mujeres por periodo por grado\n",
    "df_t_M_E_PGB1 = df_t_M_E_PGB.loc[df_t_M_E_PGB['Grado'] == \"Pregrado\"]#usar este modelo 2\n",
    "\n",
    "#filtro por facultad Hombres por periodo\n",
    "df_t_H_E_P = df_t_H_E_.loc[df_t_H_E_['Semestre_A'] == \"1\"] \n",
    "#filtro por facultad Hombres por periodo por grado\n",
    "df_t_H_E_PG = df_t_H_E_P.loc[df_t_H_E_P['Grado'] == \"Pregrado\"] #usar este modelo 3\n",
    "\n",
    "#filtro por facultad Hombres por periodo\n",
    "df_t_H_E_PGB = df_t_H_E_.loc[df_t_H_E_['Semestre_A'] == \"2\"]\n",
    "#filtro por facultad Hombres por periodo por grado\n",
    "df_t_H_E_PGB2 = df_t_H_E_PGB.loc[df_t_H_E_PGB['Grado'] == \"Pregrado\"] #usar este modelo 4"
   ]
  },
  {
   "cell_type": "markdown",
   "id": "a74c1a58",
   "metadata": {},
   "source": [
    "## Modelos  facultad de Enfermería ##"
   ]
  },
  {
   "cell_type": "code",
   "execution_count": null,
   "id": "46f480dc",
   "metadata": {},
   "outputs": [],
   "source": [
    "#modelo para la ## Modelos  facultad de Enfermería, pregrado mujeres en el primer periodo \n",
    "model7_E_pre_mu_1 = AutoTS(forecast_length=2, frequency='infer', prediction_interval=0.80,\n",
    "                ensemble='simple', model_list=model_list, transformer_list='fast',\n",
    "                max_generations=5, num_validations=2)\n",
    "model7_E_pre_mu_1 = model7_E_pre_mu_1.fit(df_t_M_E_PG,\n",
    "                                              date_col='Fecha_c', value_col='Matriculados', id_col=None)"
   ]
  },
  {
   "cell_type": "code",
   "execution_count": null,
   "id": "4c60dfd1",
   "metadata": {},
   "outputs": [],
   "source": [
    "prediction_E_pre_mu_1 = model7_E_pre_mu_1.predict()\n",
    "forecast_E_pre_mu_1 =  prediction_E_pre_mu_1.forecast\n",
    "print(model7_E_pre_mu_1)"
   ]
  },
  {
   "cell_type": "code",
   "execution_count": null,
   "id": "c3c44e47",
   "metadata": {},
   "outputs": [],
   "source": [
    "#modelo para la facultad de Enfermería, pregrado mujeres en el segundo periodo \n",
    "model7_E_pre_mu_2 = AutoTS(forecast_length=2, frequency='infer', prediction_interval=0.80,\n",
    "                ensemble='simple', model_list=model_list, transformer_list='fast',\n",
    "                max_generations=5, num_validations=2)\n",
    "model7_E_pre_mu_2 = model7_E_pre_mu_2.fit(df_t_M_E_PGB1,\n",
    "                                              date_col='Fecha_c', value_col='Matriculados', id_col=None)"
   ]
  },
  {
   "cell_type": "code",
   "execution_count": null,
   "id": "d987701c",
   "metadata": {},
   "outputs": [],
   "source": [
    "prediction_E_pre_mu_2 = model7_E_pre_mu_2.predict()\n",
    "forecast_E_pre_mu_2 =  prediction_E_pre_mu_2.forecast\n",
    "print(model7_E_pre_mu_2)"
   ]
  },
  {
   "cell_type": "code",
   "execution_count": null,
   "id": "30327904",
   "metadata": {},
   "outputs": [],
   "source": [
    "#modelo para la facultad de Enfermería, pregrado hombres en el primer periodo \n",
    "model7_E_pre_ho_1 = AutoTS(forecast_length=2, frequency='infer', prediction_interval=0.80,\n",
    "                ensemble='simple', model_list=model_list, transformer_list='fast',\n",
    "                max_generations=5, num_validations=2)\n",
    "model7_E_pre_ho_1 = model7_E_pre_ho_1.fit(df_t_H_E_PG ,\n",
    "                                              date_col='Fecha_c', value_col='Matriculados', id_col=None)"
   ]
  },
  {
   "cell_type": "code",
   "execution_count": null,
   "id": "e3b59c36",
   "metadata": {},
   "outputs": [],
   "source": [
    "prediction_E_pre_ho_1 = model7_E_pre_ho_1.predict()\n",
    "forecast_E_pre_ho_1 =  prediction_E_pre_ho_1.forecast\n",
    "print(model7_E_pre_ho_1)"
   ]
  },
  {
   "cell_type": "code",
   "execution_count": null,
   "id": "01b295f6",
   "metadata": {},
   "outputs": [],
   "source": [
    "#modelo para la facultad de Enfermería, pregrado hombres en el segundo periodo \n",
    "model7_E_pre_ho_2 = AutoTS(forecast_length=2, frequency='infer', prediction_interval=0.80,\n",
    "                ensemble='simple', model_list=model_list, transformer_list='fast',\n",
    "                max_generations=5, num_validations=2)\n",
    "model7_E_pre_ho_2 = model7_E_pre_ho_2.fit(df_t_H_E_PGB2,\n",
    "                                              date_col='Fecha_c', value_col='Matriculados', id_col=None)"
   ]
  },
  {
   "cell_type": "code",
   "execution_count": null,
   "id": "201ac45f",
   "metadata": {},
   "outputs": [],
   "source": [
    "prediction_E_pre_ho_2 = model7_E_pre_ho_2.predict()\n",
    "forecast_E_pre_ho_2 =  prediction_E_pre_ho_2.forecast\n",
    "print(model7_E_pre_ho_2)"
   ]
  },
  {
   "cell_type": "code",
   "execution_count": null,
   "id": "676b3b6d",
   "metadata": {},
   "outputs": [],
   "source": [
    "print(forecast_E_pre_mu_1)\n",
    "print(forecast_E_pre_mu_2)\n",
    "print(forecast_E_pre_ho_1)\n",
    "print(forecast_E_pre_ho_2)"
   ]
  },
  {
   "cell_type": "code",
   "execution_count": null,
   "id": "f12a03d6",
   "metadata": {},
   "outputs": [],
   "source": [
    "fig = go.Figure([\n",
    "    go.Scatter(\n",
    "        name='F.Enfermería, pregrado mujeres P.1',\n",
    "        x=df_t_M_E_PG['Fecha_c'],\n",
    "        y=df_t_M_E_PG['Matriculados'],\n",
    "        mode='lines+markers',\n",
    "        marker=dict(color='red', size=2),\n",
    "        showlegend=True\n",
    "    ),\n",
    "    go.Scatter(\n",
    "        name='F.Enfermería, pregrado mujeres P.2',\n",
    "        x=df_t_M_E_PGB1['Fecha_c'],\n",
    "        y=df_t_M_E_PGB1['Matriculados'],\n",
    "        mode='lines+markers',\n",
    "        marker=dict(color='violet', size=2),\n",
    "        line=dict(width=2),\n",
    "        showlegend=True\n",
    "    ),\n",
    "    go.Scatter(\n",
    "        name='F.Enfermería, pregrado hombres P.1',\n",
    "        x=df_t_H_E_PG['Fecha_c'],\n",
    "        y=df_t_H_E_PG['Matriculados'],\n",
    "        marker=dict(color='green', size=2),\n",
    "        line=dict(width=2),\n",
    "        mode='lines+markers',\n",
    "        #fillcolor='rgba(68, 68, 68, 0.3)',\n",
    "        #fill='tonexty',\n",
    "        showlegend=True\n",
    "    ),\n",
    "    go.Scatter(\n",
    "        name= 'F.Enfermería, pregrado hombres P.2',\n",
    "        x=df_t_H_E_PGB2['Fecha_c'],\n",
    "        y=df_t_H_E_PGB2['Matriculados'], \n",
    "        marker=dict(color='orange', size=2),\n",
    "        line=dict(width=2),\n",
    "        mode='lines+markers',\n",
    "        #fillcolor='rgba(68, 68, 68, 0.3)',\n",
    "        #fill='tonexty',\n",
    "        showlegend=True\n",
    "    ),\n",
    "        go.Scatter(\n",
    "        name='Pronostico: F.Enfermería, pregrado mujeres P.1',\n",
    "        x=forecast_E_pre_mu_1.index,\n",
    "        y=forecast_E_pre_mu_1['Matriculados'],\n",
    "        mode='lines+markers',\n",
    "        marker=dict(color='red', size=2),\n",
    "        showlegend=True\n",
    "    ),\n",
    "    go.Scatter(\n",
    "        name='Pronostico: F.Enfermería, pregrado mujeres P.2',\n",
    "        x=forecast_E_pre_mu_2.index,\n",
    "        y=forecast_E_pre_mu_2['Matriculados'],\n",
    "        mode='lines+markers',\n",
    "        marker=dict(color='violet', size=2),\n",
    "        line=dict(width=2),\n",
    "        showlegend=True\n",
    "    ),\n",
    "    go.Scatter(\n",
    "        name='Pronostico: F.Enfermería, pregrado hombres P.1',\n",
    "        x=forecast_E_pre_ho_1.index,\n",
    "        y=forecast_E_pre_ho_1['Matriculados'],\n",
    "        marker=dict(color='green', size=2),\n",
    "        line=dict(width=2),\n",
    "        mode='lines+markers',\n",
    "        #fillcolor='rgba(68, 68, 68, 0.3)',\n",
    "        #fill='tonexty',\n",
    "        showlegend=True\n",
    "    ),\n",
    "    go.Scatter(\n",
    "        name= 'Pronostico: F.Enfermería, pregrado hombres P.2',\n",
    "        x=forecast_E_pre_ho_2.index,\n",
    "        y=forecast_E_pre_ho_2['Matriculados'], \n",
    "        marker=dict(color='orange', size=2),\n",
    "        line=dict(width=2),\n",
    "        mode='lines+markers',\n",
    "        #fillcolor='rgba(68, 68, 68, 0.3)',\n",
    "        #fill='tonexty',\n",
    "        showlegend=True\n",
    "    )\n",
    "])\n",
    "fig.update_layout(\n",
    "    yaxis_title='No. Matriculados',\n",
    "    title='Matriculados facultad de Enfermería',\n",
    "    hovermode=\"x\"\n",
    ")\n",
    "fig.show()\n",
    "\n",
    "fig.write_image(\"png/Matriculados facultad de Enfermería.png\") # guardando resultado como .png\n",
    "fig.write_html(\"html/Matriculados facultad de Enfermería.html\") # guardando resultado como.html\n"
   ]
  },
  {
   "cell_type": "markdown",
   "id": "6aaa9a4a",
   "metadata": {},
   "source": [
    "## Análisis de resultados ##"
   ]
  },
  {
   "cell_type": "code",
   "execution_count": null,
   "id": "bec7b124",
   "metadata": {},
   "outputs": [],
   "source": []
  },
  {
   "cell_type": "markdown",
   "id": "50785a61",
   "metadata": {},
   "source": [
    "# Series de tiempo Facultad de Ingeniería #"
   ]
  },
  {
   "cell_type": "markdown",
   "id": "669793f2",
   "metadata": {},
   "source": [
    "## Filtros para modelos facultad de Ingeniería ##"
   ]
  },
  {
   "cell_type": "code",
   "execution_count": null,
   "id": "d6125110",
   "metadata": {},
   "outputs": [],
   "source": [
    "#filtro por facultad Mujeres\n",
    "df_t_M_I_ = df_t_M.loc[df_t_M['Facultad'] == \"C. Humanas\"]\n",
    "#filtro por facultad hombres\n",
    "df_t_H_I_ = df_t_H.loc[df_t_H['Facultad'] == \"C. Humanas\"]\n",
    "\n",
    "#filtro por facultad Mujeres por periodo\n",
    "df_t_M_I_P = df_t_M_I_.loc[df_t_M_I_['Semestre_A'] == \"1\"] \n",
    "#filtro por facultad Mujeres por periodo por grado\n",
    "df_t_M_I_PG = df_t_M_I_P.loc[df_t_M_I_P['Grado'] == \"Pregrado\"] #usar este modelo 1\n",
    "\n",
    "#filtro por facultad Mujeres por periodo 2\n",
    "df_t_M_I_PGB= df_t_M_I_.loc[df_t_M_I_['Semestre_A'] == \"2\"]\n",
    "#filtro por facultad Mujeres por periodo por grado\n",
    "df_t_M_I_PGB1 = df_t_M_I_PGB.loc[df_t_M_I_PGB['Grado'] == \"Pregrado\"]#usar este modelo 2\n",
    "\n",
    "#filtro por facultad Hombres por periodo\n",
    "df_t_H_I_P = df_t_H_I_.loc[df_t_H_I_['Semestre_A'] == \"1\"] \n",
    "#filtro por facultad Hombres por periodo por grado\n",
    "df_t_H_I_PG = df_t_H_I_P.loc[df_t_H_I_P['Grado'] == \"Pregrado\"] #usar este modelo 3\n",
    "\n",
    "#filtro por facultad Hombres por periodo\n",
    "df_t_H_I_PGB = df_t_H_I_.loc[df_t_H_I_['Semestre_A'] == \"2\"]\n",
    "#filtro por facultad Hombres por periodo por grado\n",
    "df_t_H_I_PGB2 = df_t_H_I_PGB.loc[df_t_H_I_PGB['Grado'] == \"Pregrado\"] #usar este modelo 4"
   ]
  },
  {
   "cell_type": "markdown",
   "id": "5f9c0410",
   "metadata": {},
   "source": [
    "## Modelos  facultad de Ingeniería ##"
   ]
  },
  {
   "cell_type": "code",
   "execution_count": null,
   "id": "cd88cf43",
   "metadata": {},
   "outputs": [],
   "source": [
    "#modelo para la ## Modelos  facultad de Ingeniería, pregrado mujeres en el primer periodo \n",
    "model8_i_pre_mu_1 = AutoTS(forecast_length=2, frequency='infer', prediction_interval=0.80,\n",
    "                ensemble='simple', model_list=model_list, transformer_list='fast',\n",
    "                max_generations=5, num_validations=2)\n",
    "model8_i_pre_mu_1 = model8_i_pre_mu_1.fit(df_t_M_I_PG,\n",
    "                                              date_col='Fecha_c', value_col='Matriculados', id_col=None)"
   ]
  },
  {
   "cell_type": "code",
   "execution_count": null,
   "id": "3d203bed",
   "metadata": {},
   "outputs": [],
   "source": [
    "prediction_i_pre_mu_1 = model8_i_pre_mu_1.predict()\n",
    "forecast_i_pre_mu_1 =  prediction_i_pre_mu_1.forecast\n",
    "print(model8_i_pre_mu_1)"
   ]
  },
  {
   "cell_type": "code",
   "execution_count": null,
   "id": "da433123",
   "metadata": {},
   "outputs": [],
   "source": [
    "#modelo para la facultad de Ingeniería, pregrado mujeres en el segundo periodo \n",
    "model8_i_pre_mu_2 = AutoTS(forecast_length=2, frequency='infer', prediction_interval=0.80,\n",
    "                ensemble='simple', model_list=model_list, transformer_list='fast',\n",
    "                max_generations=5, num_validations=2)\n",
    "model8_i_pre_mu_2 = model8_i_pre_mu_2.fit(df_t_M_I_PGB1,\n",
    "                                              date_col='Fecha_c', value_col='Matriculados', id_col=None)"
   ]
  },
  {
   "cell_type": "code",
   "execution_count": null,
   "id": "1ce2707c",
   "metadata": {},
   "outputs": [],
   "source": [
    "prediction_i_pre_mu_2 = model8_i_pre_mu_2.predict()\n",
    "forecast_i_pre_mu_2 =  prediction_i_pre_mu_2.forecast\n",
    "print(model8_i_pre_mu_2)"
   ]
  },
  {
   "cell_type": "code",
   "execution_count": null,
   "id": "278e12c9",
   "metadata": {},
   "outputs": [],
   "source": [
    "#modelo para la facultad de Ingeniería, pregrado hombres en el primer periodo \n",
    "model8_i_pre_ho_1 = AutoTS(forecast_length=2, frequency='infer', prediction_interval=0.80,\n",
    "                ensemble='simple', model_list=model_list, transformer_list='fast',\n",
    "                max_generations=5, num_validations=2)\n",
    "model8_i_pre_ho_1 = model8_i_pre_ho_1.fit(df_t_H_I_PG,\n",
    "                                              date_col='Fecha_c', value_col='Matriculados', id_col=None)"
   ]
  },
  {
   "cell_type": "code",
   "execution_count": null,
   "id": "f94d6ce3",
   "metadata": {},
   "outputs": [],
   "source": [
    "prediction_i_pre_ho_1 = model8_i_pre_ho_1.predict()\n",
    "forecast_i_pre_ho_1 =  prediction_i_pre_ho_1.forecast\n",
    "print(model8_i_pre_ho_1)"
   ]
  },
  {
   "cell_type": "code",
   "execution_count": null,
   "id": "483bb3df",
   "metadata": {},
   "outputs": [],
   "source": [
    "#modelo para la facultad de Ingeniería, pregrado hombres en el segundo periodo \n",
    "model8_i_pre_ho_2 = AutoTS(forecast_length=2, frequency='infer', prediction_interval=0.80,\n",
    "                ensemble='simple', model_list=model_list, transformer_list='fast',\n",
    "                max_generations=5, num_validations=2)\n",
    "model8_i_pre_ho_2 = model8_i_pre_ho_2.fit(df_t_H_I_PGB2,\n",
    "                                              date_col='Fecha_c', value_col='Matriculados', id_col=None)"
   ]
  },
  {
   "cell_type": "code",
   "execution_count": null,
   "id": "1aacbcf0",
   "metadata": {},
   "outputs": [],
   "source": [
    "prediction_i_pre_ho_2 = model8_i_pre_ho_2.predict()\n",
    "forecast_i_pre_ho_2 =  prediction_i_pre_ho_2.forecast\n",
    "print(model8_i_pre_ho_2)"
   ]
  },
  {
   "cell_type": "code",
   "execution_count": null,
   "id": "73a2b641",
   "metadata": {},
   "outputs": [],
   "source": [
    "print(forecast_i_pre_mu_1)\n",
    "print(forecast_i_pre_mu_2)\n",
    "print(forecast_i_pre_ho_1)\n",
    "print(forecast_i_pre_ho_2)"
   ]
  },
  {
   "cell_type": "code",
   "execution_count": null,
   "id": "de8b097d",
   "metadata": {},
   "outputs": [],
   "source": [
    "fig = go.Figure([\n",
    "    go.Scatter(\n",
    "        name='F.Ingeniería, pregrado mujeres P.1',\n",
    "        x=df_t_M_I_PG['Fecha_c'],\n",
    "        y=df_t_M_I_PG['Matriculados'],\n",
    "        mode='lines+markers',\n",
    "        marker=dict(color='red', size=2),\n",
    "        showlegend=True\n",
    "    ),\n",
    "    go.Scatter(\n",
    "        name='F.Ingeniería, pregrado mujeres P.2',\n",
    "        x=df_t_M_I_PGB1['Fecha_c'],\n",
    "        y=df_t_M_I_PGB1['Matriculados'],\n",
    "        mode='lines+markers',\n",
    "        marker=dict(color='violet', size=2),\n",
    "        line=dict(width=2),\n",
    "        showlegend=True\n",
    "    ),\n",
    "    go.Scatter(\n",
    "        name='F.Ingeniería, pregrado hombres P.1',\n",
    "        x=df_t_H_I_PG['Fecha_c'],\n",
    "        y=df_t_H_I_PG['Matriculados'],\n",
    "        marker=dict(color='green', size=2),\n",
    "        line=dict(width=2),\n",
    "        mode='lines+markers',\n",
    "        #fillcolor='rgba(68, 68, 68, 0.3)',\n",
    "        #fill='tonexty',\n",
    "        showlegend=True\n",
    "    ),\n",
    "    go.Scatter(\n",
    "        name= 'F.Ingeniería, pregrado hombres P.2',\n",
    "        x=df_t_H_I_PGB2['Fecha_c'],\n",
    "        y=df_t_H_I_PGB2['Matriculados'], \n",
    "        marker=dict(color='orange', size=2),\n",
    "        line=dict(width=2),\n",
    "        mode='lines+markers',\n",
    "        #fillcolor='rgba(68, 68, 68, 0.3)',\n",
    "        #fill='tonexty',\n",
    "        showlegend=True\n",
    "    ),\n",
    "        go.Scatter(\n",
    "        name='Pronostico: F.Ingeniería, pregrado mujeres P.1',\n",
    "        x=forecast_i_pre_mu_1.index,\n",
    "        y=forecast_i_pre_mu_1['Matriculados'],\n",
    "        mode='lines+markers',\n",
    "        marker=dict(color='red', size=2),\n",
    "        showlegend=True\n",
    "    ),\n",
    "    go.Scatter(\n",
    "        name='Pronostico: F.Ingeniería, pregrado mujeres P.2',\n",
    "        x=forecast_i_pre_mu_2.index,\n",
    "        y=forecast_i_pre_mu_2['Matriculados'],\n",
    "        mode='lines+markers',\n",
    "        marker=dict(color='violet', size=2),\n",
    "        line=dict(width=2),\n",
    "        showlegend=True\n",
    "    ),\n",
    "    go.Scatter(\n",
    "        name='Pronostico: F.Ingeniería, pregrado hombres P.1',\n",
    "        x=forecast_i_pre_ho_1.index,\n",
    "        y=forecast_i_pre_ho_1['Matriculados'],\n",
    "        marker=dict(color='green', size=2),\n",
    "        line=dict(width=2),\n",
    "        mode='lines+markers',\n",
    "        #fillcolor='rgba(68, 68, 68, 0.3)',\n",
    "        #fill='tonexty',\n",
    "        showlegend=True\n",
    "    ),\n",
    "    go.Scatter(\n",
    "        name= 'Pronostico: F.Ingeniería, pregrado hombres P.2',\n",
    "        x=forecast_i_pre_ho_2.index,\n",
    "        y=forecast_i_pre_ho_2['Matriculados'], \n",
    "        marker=dict(color='orange', size=2),\n",
    "        line=dict(width=2),\n",
    "        mode='lines+markers',\n",
    "        #fillcolor='rgba(68, 68, 68, 0.3)',\n",
    "        #fill='tonexty',\n",
    "        showlegend=True\n",
    "    )\n",
    "])\n",
    "fig.update_layout(\n",
    "    yaxis_title='No. Matriculados',\n",
    "    title='Matriculados facultad de Ingeniería',\n",
    "    hovermode=\"x\"\n",
    ")\n",
    "fig.show()\n",
    "\n",
    "fig.write_image(\"png/Matriculados facultad de Ingeniería.png\") # guardando resultado como .png\n",
    "fig.write_html(\"html/Matriculados facultad de Ingeniería.html\") # guardando resultado como.html\n"
   ]
  },
  {
   "cell_type": "code",
   "execution_count": null,
   "id": "a669d8ae",
   "metadata": {},
   "outputs": [],
   "source": []
  },
  {
   "cell_type": "markdown",
   "id": "372128d2",
   "metadata": {},
   "source": [
    "## Análisis de resultados ##"
   ]
  },
  {
   "cell_type": "code",
   "execution_count": null,
   "id": "c8bf7e8c",
   "metadata": {},
   "outputs": [],
   "source": []
  },
  {
   "cell_type": "markdown",
   "id": "85db48c6",
   "metadata": {},
   "source": [
    "# Series de tiempo Facultad de Med. veterinaria y de Zootecnia #"
   ]
  },
  {
   "cell_type": "markdown",
   "id": "3c9965f7",
   "metadata": {},
   "source": [
    "## Filtros para modelos facultad de Med. veterinaria y de Zootecnia ##"
   ]
  },
  {
   "cell_type": "code",
   "execution_count": null,
   "id": "555355ed",
   "metadata": {},
   "outputs": [],
   "source": [
    "#filtro por facultad Mujeres\n",
    "df_t_M_VET_ = df_t_M.loc[df_t_M['Facultad'] == \"C. Humanas\"]\n",
    "#filtro por facultad hombres\n",
    "df_t_H_VET_ = df_t_H.loc[df_t_H['Facultad'] == \"C. Humanas\"]\n",
    "\n",
    "#filtro por facultad Mujeres por periodo\n",
    "df_t_M_VET_P = df_t_M_VET_.loc[df_t_M_VET_['Semestre_A'] == \"1\"] \n",
    "#filtro por facultad Mujeres por periodo por grado\n",
    "df_t_M_VET_PG = df_t_M_VET_P.loc[df_t_M_VET_P['Grado'] == \"Pregrado\"] #usar este modelo 1\n",
    "\n",
    "#filtro por facultad Mujeres por periodo 2\n",
    "df_t_M_VET_PGB= df_t_M_VET_.loc[df_t_M_VET_['Semestre_A'] == \"2\"]\n",
    "#filtro por facultad Mujeres por periodo por grado\n",
    "df_t_M_VET_PGB1 = df_t_M_VET_PGB.loc[df_t_M_VET_PGB['Grado'] == \"Pregrado\"]#usar este modelo 2\n",
    "\n",
    "#filtro por facultad Hombres por periodo\n",
    "df_t_H_VET_P = df_t_H_VET_.loc[df_t_H_VET_['Semestre_A'] == \"1\"] \n",
    "#filtro por facultad Hombres por periodo por grado\n",
    "df_t_H_VET_PG = df_t_H_VET_P.loc[df_t_H_VET_P['Grado'] == \"Pregrado\"] #usar este modelo 3\n",
    "\n",
    "#filtro por facultad Hombres por periodo\n",
    "df_t_H_VET_PGB = df_t_H_VET_.loc[df_t_H_VET_['Semestre_A'] == \"2\"]\n",
    "#filtro por facultad Hombres por periodo por grado\n",
    "df_t_H_VET_PGB2 = df_t_H_VET_PGB.loc[df_t_H_VET_PGB['Grado'] == \"Pregrado\"] #usar este modelo 4"
   ]
  },
  {
   "cell_type": "markdown",
   "id": "4476a69c",
   "metadata": {},
   "source": [
    "## Modelos  facultad de Med. veterinaria y de Zootecnia ##"
   ]
  },
  {
   "cell_type": "code",
   "execution_count": null,
   "id": "7b6ef62a",
   "metadata": {},
   "outputs": [],
   "source": [
    "#modelo para la ## Modelos  facultad de Med. veterinaria y de Zootecnia, pregrado mujeres en el primer periodo \n",
    "model9_vet_pre_mu_1 = AutoTS(forecast_length=2, frequency='infer', prediction_interval=0.80,\n",
    "                ensemble='simple', model_list=model_list, transformer_list='fast',\n",
    "                max_generations=5, num_validations=2)\n",
    "model9_vet_pre_mu_1 = model9_vet_pre_mu_1.fit(df_t_M_VET_PG,\n",
    "                                              date_col='Fecha_c', value_col='Matriculados', id_col=None)"
   ]
  },
  {
   "cell_type": "code",
   "execution_count": null,
   "id": "b61eac93",
   "metadata": {},
   "outputs": [],
   "source": [
    "prediction_vet_pre_mu_1 = model9_vet_pre_mu_1.predict()\n",
    "forecast_vet_pre_mu_1 =  prediction_vet_pre_mu_1.forecast\n",
    "print(model5_c_pre_mu_1)"
   ]
  },
  {
   "cell_type": "code",
   "execution_count": null,
   "id": "a212441b",
   "metadata": {},
   "outputs": [],
   "source": [
    "#modelo para la facultad de Med. veterinaria y de Zootecnia, pregrado mujeres en el segundo periodo \n",
    "model9_vet_pre_mu_2 = AutoTS(forecast_length=2, frequency='infer', prediction_interval=0.80,\n",
    "                ensemble='simple', model_list=model_list, transformer_list='fast',\n",
    "                max_generations=5, num_validations=2)\n",
    "model9_vet_pre_mu_2 = model9_vet_pre_mu_2.fit(df_t_M_VET_PGB1,\n",
    "                                              date_col='Fecha_c', value_col='Matriculados', id_col=None)"
   ]
  },
  {
   "cell_type": "code",
   "execution_count": null,
   "id": "3d92f67e",
   "metadata": {},
   "outputs": [],
   "source": [
    "prediction_vet_pre_mu_2 = model9_vet_pre_mu_2.predict()\n",
    "forecast_vet_pre_mu_2 =  prediction_vet_pre_mu_2.forecast\n",
    "print(model9_vet_pre_mu_2)"
   ]
  },
  {
   "cell_type": "code",
   "execution_count": null,
   "id": "7f055360",
   "metadata": {},
   "outputs": [],
   "source": [
    "#modelo para la facultad de Med. veterinaria y de Zootecnia, pregrado hombres en el primer periodo \n",
    "model9_vet_pre_ho_1 = AutoTS(forecast_length=2, frequency='infer', prediction_interval=0.80,\n",
    "                ensemble='simple', model_list=model_list, transformer_list='fast',\n",
    "                max_generations=5, num_validations=2)\n",
    "model9_vet_pre_ho_1 = model9_vet_pre_ho_1.fit(df_t_H_VET_PG,\n",
    "                                              date_col='Fecha_c', value_col='Matriculados', id_col=None)"
   ]
  },
  {
   "cell_type": "code",
   "execution_count": null,
   "id": "204285bd",
   "metadata": {},
   "outputs": [],
   "source": [
    "prediction_vet_pre_ho_1 = model9_vet_pre_ho_1.predict()\n",
    "forecast_vet_pre_ho_1 =  prediction_vet_pre_ho_1.forecast\n",
    "print(model9_vet_pre_ho_1)"
   ]
  },
  {
   "cell_type": "code",
   "execution_count": null,
   "id": "b79bcce3",
   "metadata": {},
   "outputs": [],
   "source": [
    "#modelo para la facultad de Med. veterinaria y de Zootecnia, pregrado hombres en el segundo periodo \n",
    "model9_vet_pre_ho_2 = AutoTS(forecast_length=2, frequency='infer', prediction_interval=0.80,\n",
    "                ensemble='simple', model_list=model_list, transformer_list='fast',\n",
    "                max_generations=5, num_validations=2)\n",
    "model9_vet_pre_ho_2 = model9_vet_pre_ho_2.fit(df_t_H_VET_PGB2,\n",
    "                                              date_col='Fecha_c', value_col='Matriculados', id_col=None)"
   ]
  },
  {
   "cell_type": "code",
   "execution_count": null,
   "id": "e24cf7b3",
   "metadata": {},
   "outputs": [],
   "source": [
    "prediction_vet_pre_ho_2 = model9_vet_pre_ho_2.predict()\n",
    "forecast_vet_pre_ho_2 =  prediction_vet_pre_ho_2.forecast\n",
    "print(model9_vet_pre_ho_2)"
   ]
  },
  {
   "cell_type": "code",
   "execution_count": null,
   "id": "dba4f1bd",
   "metadata": {},
   "outputs": [],
   "source": [
    "print(forecast_vet_pre_mu_1)\n",
    "print(forecast_vet_pre_mu_2)\n",
    "print(forecast_vet_pre_ho_1)\n",
    "print(forecast_vet_pre_ho_2)"
   ]
  },
  {
   "cell_type": "code",
   "execution_count": null,
   "id": "e3419189",
   "metadata": {},
   "outputs": [],
   "source": [
    "fig = go.Figure([\n",
    "    go.Scatter(\n",
    "        name='F.Med. veterinaria y de Zootecnia, pregrado mujeres P.1',\n",
    "        x=df_t_M_VET_PG['Fecha_c'],\n",
    "        y=df_t_M_VET_PG['Matriculados'],\n",
    "        mode='lines+markers',\n",
    "        marker=dict(color='red', size=2),\n",
    "        showlegend=True\n",
    "    ),\n",
    "    go.Scatter(\n",
    "        name='F.Med. veterinaria y de Zootecnia, pregrado mujeres P.2',\n",
    "        x=df_t_M_VET_PGB1['Fecha_c'],\n",
    "        y=df_t_M_VET_PGB1['Matriculados'],\n",
    "        mode='lines+markers',\n",
    "        marker=dict(color='violet', size=2),\n",
    "        line=dict(width=2),\n",
    "        showlegend=True\n",
    "    ),\n",
    "    go.Scatter(\n",
    "        name='F.Med. veterinaria y de Zootecnia, pregrado hombres P.1',\n",
    "        x=df_t_H_VET_PG['Fecha_c'],\n",
    "        y=df_t_H_VET_PG['Matriculados'],\n",
    "        marker=dict(color='green', size=2),\n",
    "        line=dict(width=2),\n",
    "        mode='lines+markers',\n",
    "        #fillcolor='rgba(68, 68, 68, 0.3)',\n",
    "        #fill='tonexty',\n",
    "        showlegend=True\n",
    "    ),\n",
    "    go.Scatter(\n",
    "        name= 'F.Med. veterinaria y de Zootecnia, pregrado hombres P.2',\n",
    "        x=df_t_H_VET_PGB2['Fecha_c'],\n",
    "        y=df_t_H_VET_PGB2['Matriculados'], \n",
    "        marker=dict(color='orange', size=2),\n",
    "        line=dict(width=2),\n",
    "        mode='lines+markers',\n",
    "        #fillcolor='rgba(68, 68, 68, 0.3)',\n",
    "        #fill='tonexty',\n",
    "        showlegend=True\n",
    "    ),\n",
    "        go.Scatter(\n",
    "        name='Pronostico: F.Med. veterinaria y de Zootecnia, pregrado mujeres P.1',\n",
    "        x=forecast_vet_pre_mu_1.index,\n",
    "        y=forecast_vet_pre_mu_1['Matriculados'],\n",
    "        mode='lines+markers',\n",
    "        marker=dict(color='red', size=2),\n",
    "        showlegend=True\n",
    "    ),\n",
    "    go.Scatter(\n",
    "        name='Pronostico: F.Med. veterinaria y de Zootecnia, pregrado mujeres P.2',\n",
    "        x=forecast_vet_pre_mu_2.index,\n",
    "        y=forecast_vet_pre_mu_2['Matriculados'],\n",
    "        mode='lines+markers',\n",
    "        marker=dict(color='violet', size=2),\n",
    "        line=dict(width=2),\n",
    "        showlegend=True\n",
    "    ),\n",
    "    go.Scatter(\n",
    "        name='Pronostico: F.Med. veterinaria y de Zootecnia, pregrado hombres P.1',\n",
    "        x=forecast_vet_pre_ho_1.index,\n",
    "        y=forecast_vet_pre_ho_1['Matriculados'],\n",
    "        marker=dict(color='green', size=2),\n",
    "        line=dict(width=2),\n",
    "        mode='lines+markers',\n",
    "        #fillcolor='rgba(68, 68, 68, 0.3)',\n",
    "        #fill='tonexty',\n",
    "        showlegend=True\n",
    "    ),\n",
    "    go.Scatter(\n",
    "        name= 'Pronostico: F.Med. veterinaria y de Zootecnia, pregrado hombres P.2',\n",
    "        x=forecast_vet_pre_ho_2.index,\n",
    "        y=forecast_vet_pre_ho_2['Matriculados'], \n",
    "        marker=dict(color='orange', size=2),\n",
    "        line=dict(width=2),\n",
    "        mode='lines+markers',\n",
    "        #fillcolor='rgba(68, 68, 68, 0.3)',\n",
    "        #fill='tonexty',\n",
    "        showlegend=True\n",
    "    )\n",
    "])\n",
    "fig.update_layout(\n",
    "    yaxis_title='No. Matriculados',\n",
    "    title='Matriculados facultad de Med. veterinaria y de Zootecnia',\n",
    "    hovermode=\"x\"\n",
    ")\n",
    "fig.show()\n",
    "\n",
    "fig.write_image(\"png/Matriculados facultad de Med. veterinaria y de Zootecnia.png\") # guardando resultado como .png\n",
    "fig.write_html(\"html/Matriculados facultad de Med. veterinaria y de Zootecnia.html\") # guardando resultado como.html\n"
   ]
  },
  {
   "cell_type": "markdown",
   "id": "786ccf2b",
   "metadata": {},
   "source": [
    "## Análisis de resultados ##"
   ]
  },
  {
   "cell_type": "code",
   "execution_count": null,
   "id": "0133d9cb",
   "metadata": {},
   "outputs": [],
   "source": []
  },
  {
   "cell_type": "markdown",
   "id": "93a7f0a5",
   "metadata": {},
   "source": [
    "# Series de tiempo Facultad de Medicina #"
   ]
  },
  {
   "cell_type": "markdown",
   "id": "07c80079",
   "metadata": {},
   "source": [
    "## Filtros para modelos facultad de Medicina ##"
   ]
  },
  {
   "cell_type": "code",
   "execution_count": null,
   "id": "6c65a4f6",
   "metadata": {},
   "outputs": [],
   "source": [
    "#filtro por facultad Mujeres\n",
    "df_t_M_MED_ = df_t_M.loc[df_t_M['Facultad'] == \"C. Humanas\"]\n",
    "#filtro por facultad hombres\n",
    "df_t_H_MED_ = df_t_H.loc[df_t_H['Facultad'] == \"C. Humanas\"]\n",
    "\n",
    "#filtro por facultad Mujeres por periodo\n",
    "df_t_M_MED_P = df_t_M_MED_.loc[df_t_M_MED_['Semestre_A'] == \"1\"] \n",
    "#filtro por facultad Mujeres por periodo por grado\n",
    "df_t_M_MED_PG = df_t_M_MED_P.loc[df_t_M_MED_P['Grado'] == \"Pregrado\"] #usar este modelo 1\n",
    "\n",
    "#filtro por facultad Mujeres por periodo 2\n",
    "df_t_M_MED_PGB= df_t_M_MED_.loc[df_t_M_MED_['Semestre_A'] == \"2\"]\n",
    "#filtro por facultad Mujeres por periodo por grado\n",
    "df_t_M_MED_PGB1 = df_t_M_MED_PGB.loc[df_t_M_MED_PGB['Grado'] == \"Pregrado\"]#usar este modelo 2\n",
    "\n",
    "#filtro por facultad Hombres por periodo\n",
    "df_t_H_MED_P = df_t_H_MED_.loc[df_t_H_MED_['Semestre_A'] == \"1\"] \n",
    "#filtro por facultad Hombres por periodo por grado\n",
    "df_t_H_MED_PG = df_t_H_MED_P.loc[df_t_H_MED_P['Grado'] == \"Pregrado\"] #usar este modelo 3\n",
    "\n",
    "#filtro por facultad Hombres por periodo\n",
    "df_t_H_MED_PGB = df_t_H_MED_.loc[df_t_H_MED_['Semestre_A'] == \"2\"]\n",
    "#filtro por facultad Hombres por periodo por grado\n",
    "df_t_H_MED_PGB2 = df_t_H_MED_PGB.loc[df_t_H_MED_PGB['Grado'] == \"Pregrado\"] #usar este modelo 4"
   ]
  },
  {
   "cell_type": "markdown",
   "id": "3dc63447",
   "metadata": {},
   "source": [
    "## Modelos  facultad de Medicina ##"
   ]
  },
  {
   "cell_type": "code",
   "execution_count": null,
   "id": "603c74ae",
   "metadata": {},
   "outputs": [],
   "source": [
    "#modelo para la ## Modelos  facultad de medicina, pregrado mujeres en el primer periodo \n",
    "model10_med_pre_mu_1 = AutoTS(forecast_length=2, frequency='infer', prediction_interval=0.80,\n",
    "                ensemble='simple', model_list=model_list, transformer_list='fast',\n",
    "                max_generations=5, num_validations=2)\n",
    "model10_med_pre_mu_1 = model10_med_pre_mu_1.fit(df_t_M_MED_PG,\n",
    "                                              date_col='Fecha_c', value_col='Matriculados', id_col=None)"
   ]
  },
  {
   "cell_type": "code",
   "execution_count": null,
   "id": "fe7d0d44",
   "metadata": {},
   "outputs": [],
   "source": [
    "prediction_med_pre_mu_1 = model10_med_pre_mu_1.predict()\n",
    "forecast_med_pre_mu_1 =  prediction_med_pre_mu_1.forecast\n",
    "print(model10_med_pre_mu_1)"
   ]
  },
  {
   "cell_type": "code",
   "execution_count": null,
   "id": "af7f53cc",
   "metadata": {},
   "outputs": [],
   "source": [
    "#modelo para la facultad de medicina, pregrado mujeres en el segundo periodo \n",
    "model10_med_pre_mu_2 = AutoTS(forecast_length=2, frequency='infer', prediction_interval=0.80,\n",
    "                ensemble='simple', model_list=model_list, transformer_list='fast',\n",
    "                max_generations=5, num_validations=2)\n",
    "model10_med_pre_mu_2 = model10_med_pre_mu_2.fit(df_t_M_MED_PGB1,\n",
    "                                              date_col='Fecha_c', value_col='Matriculados', id_col=None)"
   ]
  },
  {
   "cell_type": "code",
   "execution_count": null,
   "id": "c2045815",
   "metadata": {},
   "outputs": [],
   "source": [
    "prediction_med_pre_mu_2 = model10_med_pre_mu_2.predict()\n",
    "forecast_med_pre_mu_2 =  prediction_med_pre_mu_2.forecast\n",
    "print(model10_med_pre_mu_2)"
   ]
  },
  {
   "cell_type": "code",
   "execution_count": null,
   "id": "16fabc31",
   "metadata": {},
   "outputs": [],
   "source": [
    "#modelo para la facultad de medicina, pregrado hombres en el primer periodo \n",
    "model10_med_pre_ho_1 = AutoTS(forecast_length=2, frequency='infer', prediction_interval=0.80,\n",
    "                ensemble='simple', model_list=model_list, transformer_list='fast',\n",
    "                max_generations=5, num_validations=2)\n",
    "model10_med_pre_ho_1 = model10_med_pre_ho_1.fit(df_t_H_MED_PG,\n",
    "                                              date_col='Fecha_c', value_col='Matriculados', id_col=None)"
   ]
  },
  {
   "cell_type": "code",
   "execution_count": null,
   "id": "5dba153e",
   "metadata": {},
   "outputs": [],
   "source": [
    "prediction_med_pre_ho_1 = model10_med_pre_ho_1.predict()\n",
    "forecast_med_pre_ho_1 =  prediction_med_pre_ho_1.forecast\n",
    "print(model10_med_pre_ho_1)"
   ]
  },
  {
   "cell_type": "code",
   "execution_count": null,
   "id": "3bfda8b6",
   "metadata": {},
   "outputs": [],
   "source": [
    "#modelo para la facultad de medicina, pregrado hombres en el segundo periodo \n",
    "model10_med_pre_ho_2 = AutoTS(forecast_length=2, frequency='infer', prediction_interval=0.80,\n",
    "                ensemble='simple', model_list=model_list, transformer_list='fast',\n",
    "                max_generations=5, num_validations=2)\n",
    "model10_med_pre_ho_2 = model10_med_pre_ho_2.fit(df_t_H_MED_PGB2,\n",
    "                                              date_col='Fecha_c', value_col='Matriculados', id_col=None)"
   ]
  },
  {
   "cell_type": "code",
   "execution_count": null,
   "id": "f2c47eb5",
   "metadata": {},
   "outputs": [],
   "source": [
    "prediction_med_pre_ho_2 = model10_med_pre_ho_2.predict()\n",
    "forecast_med_pre_ho_2 =  prediction_med_pre_ho_2.forecast\n",
    "print(model10_med_pre_ho_2)"
   ]
  },
  {
   "cell_type": "code",
   "execution_count": null,
   "id": "341cc6a4",
   "metadata": {},
   "outputs": [],
   "source": [
    "print(forecast_med_pre_mu_1)\n",
    "print(forecast_med_pre_mu_2)\n",
    "print(forecast_med_pre_ho_1)\n",
    "print(forecast_med_pre_ho_2)"
   ]
  },
  {
   "cell_type": "code",
   "execution_count": null,
   "id": "95eb87af",
   "metadata": {},
   "outputs": [],
   "source": [
    "fig = go.Figure([\n",
    "    go.Scatter(\n",
    "        name='F.Medicina, pregrado mujeres P.1',\n",
    "        x=df_t_M_MED_PG['Fecha_c'],\n",
    "        y=df_t_M_MED_PG['Matriculados'],\n",
    "        mode='lines+markers',\n",
    "        marker=dict(color='red', size=2),\n",
    "        showlegend=True\n",
    "    ),\n",
    "    go.Scatter(\n",
    "        name='F.Medicina, pregrado mujeres P.2',\n",
    "        x=df_t_M_MED_PGB1['Fecha_c'],\n",
    "        y=df_t_M_MED_PGB1['Matriculados'],\n",
    "        mode='lines+markers',\n",
    "        marker=dict(color='violet', size=2),\n",
    "        line=dict(width=2),\n",
    "        showlegend=True\n",
    "    ),\n",
    "    go.Scatter(\n",
    "        name='F.Medicina, pregrado hombres P.1',\n",
    "        x=df_t_H_MED_PG['Fecha_c'],\n",
    "        y=df_t_H_MED_PG['Matriculados'],\n",
    "        marker=dict(color='green', size=2),\n",
    "        line=dict(width=2),\n",
    "        mode='lines+markers',\n",
    "        #fillcolor='rgba(68, 68, 68, 0.3)',\n",
    "        #fill='tonexty',\n",
    "        showlegend=True\n",
    "    ),\n",
    "    go.Scatter(\n",
    "        name= 'F.Medicina, pregrado hombres P.2',\n",
    "        x=df_t_H_MED_PGB2['Fecha_c'],\n",
    "        y=df_t_H_MED_PGB2['Matriculados'], \n",
    "        marker=dict(color='orange', size=2),\n",
    "        line=dict(width=2),\n",
    "        mode='lines+markers',\n",
    "        #fillcolor='rgba(68, 68, 68, 0.3)',\n",
    "        #fill='tonexty',\n",
    "        showlegend=True\n",
    "    ),\n",
    "        go.Scatter(\n",
    "        name='Pronostico: F.Medicina, pregrado mujeres P.1',\n",
    "        x=forecast_med_pre_mu_1.index,\n",
    "        y=forecast_med_pre_mu_1['Matriculados'],\n",
    "        mode='lines+markers',\n",
    "        marker=dict(color='red', size=2),\n",
    "        showlegend=True\n",
    "    ),\n",
    "    go.Scatter(\n",
    "        name='Pronostico: F.Medicina, pregrado mujeres P.2',\n",
    "        x=forecast_med_pre_mu_2.index,\n",
    "        y=forecast_med_pre_mu_2['Matriculados'],\n",
    "        mode='lines+markers',\n",
    "        marker=dict(color='violet', size=2),\n",
    "        line=dict(width=2),\n",
    "        showlegend=True\n",
    "    ),\n",
    "    go.Scatter(\n",
    "        name='Pronostico: F.Medicina, pregrado hombres P.1',\n",
    "        x=forecast_med_pre_ho_1.index,\n",
    "        y=forecast_vet_pre_ho_1['Matriculados'],\n",
    "        marker=dict(color='green', size=2),\n",
    "        line=dict(width=2),\n",
    "        mode='lines+markers',\n",
    "        #fillcolor='rgba(68, 68, 68, 0.3)',\n",
    "        #fill='tonexty',\n",
    "        showlegend=True\n",
    "    ),\n",
    "    go.Scatter(\n",
    "        name= 'Pronostico: F.Medicina, pregrado hombres P.2',\n",
    "        x=forecast_med_pre_ho_2.index,\n",
    "        y=forecast_med_pre_ho_2['Matriculados'], \n",
    "        marker=dict(color='orange', size=2),\n",
    "        line=dict(width=2),\n",
    "        mode='lines+markers',\n",
    "        #fillcolor='rgba(68, 68, 68, 0.3)',\n",
    "        #fill='tonexty',\n",
    "        showlegend=True\n",
    "    )\n",
    "])\n",
    "fig.update_layout(\n",
    "    yaxis_title='No. Matriculados',\n",
    "    title='Matriculados facultad de Medicina',\n",
    "    hovermode=\"x\"\n",
    ")\n",
    "fig.show()\n",
    "\n",
    "fig.write_image(\"png/Matriculados facultad de Medicina.png\") # guardando resultado como .png\n",
    "fig.write_html(\"html/Matriculados facultad de Medicina.html\") # guardando resultado como.html\n"
   ]
  },
  {
   "cell_type": "markdown",
   "id": "3669cb50",
   "metadata": {},
   "source": [
    "## Análisis de resultados ##"
   ]
  },
  {
   "cell_type": "code",
   "execution_count": null,
   "id": "dd7230bf",
   "metadata": {},
   "outputs": [],
   "source": []
  },
  {
   "cell_type": "markdown",
   "id": "d56123c2",
   "metadata": {},
   "source": [
    "# Series de tiempo Odontología #"
   ]
  },
  {
   "cell_type": "markdown",
   "id": "0790f885",
   "metadata": {},
   "source": [
    "## Filtros para modelos facultad de Odontología ##"
   ]
  },
  {
   "cell_type": "code",
   "execution_count": null,
   "id": "a74ed356",
   "metadata": {},
   "outputs": [],
   "source": [
    "#filtro por facultad Mujeres\n",
    "df_t_M_O_ = df_t_M.loc[df_t_M['Facultad'] == \"C. Humanas\"]\n",
    "#filtro por facultad hombres\n",
    "df_t_H_O_ = df_t_H.loc[df_t_H['Facultad'] == \"C. Humanas\"]\n",
    "\n",
    "#filtro por facultad Mujeres por periodo\n",
    "df_t_M_O_P = df_t_M_O_.loc[df_t_M_O_['Semestre_A'] == \"1\"] \n",
    "#filtro por facultad Mujeres por periodo por grado\n",
    "df_t_M_O_PG = df_t_M_O_P.loc[df_t_M_O_P['Grado'] == \"Pregrado\"] #usar este modelo 1\n",
    "\n",
    "#filtro por facultad Mujeres por periodo 2\n",
    "df_t_M_O_PGB= df_t_M_O_.loc[df_t_M_O_['Semestre_A'] == \"2\"]\n",
    "#filtro por facultad Mujeres por periodo por grado\n",
    "df_t_M_O_PGB1 = df_t_M_O_PGB.loc[df_t_M_O_PGB['Grado'] == \"Pregrado\"]#usar este modelo 2\n",
    "\n",
    "#filtro por facultad Hombres por periodo\n",
    "df_t_H_O_P = df_t_H_O_.loc[df_t_H_O_['Semestre_A'] == \"1\"] \n",
    "#filtro por facultad Hombres por periodo por grado\n",
    "df_t_H_O_PG = df_t_H_O_P.loc[df_t_H_O_P['Grado'] == \"Pregrado\"] #usar este modelo 3\n",
    "\n",
    "#filtro por facultad Hombres por periodo\n",
    "df_t_H_O_PGB = df_t_H_O_.loc[df_t_H_O_['Semestre_A'] == \"2\"]\n",
    "#filtro por facultad Hombres por periodo por grado\n",
    "df_t_H_O_PGB2 = df_t_H_O_PGB.loc[df_t_H_O_PGB['Grado'] == \"Pregrado\"] #usar este modelo 4"
   ]
  },
  {
   "cell_type": "markdown",
   "id": "f22aab38",
   "metadata": {},
   "source": [
    "## Modelos  facultad de Odontología ##"
   ]
  },
  {
   "cell_type": "code",
   "execution_count": null,
   "id": "dab0d041",
   "metadata": {},
   "outputs": [],
   "source": [
    "#modelo para la  facultad de Odontología, pregrado mujeres en el primer periodo \n",
    "model11_o_pre_mu_1 = AutoTS(forecast_length=2, frequency='infer', prediction_interval=0.80,\n",
    "                ensemble='simple', model_list=model_list, transformer_list='fast',\n",
    "                max_generations=5, num_validations=2)\n",
    "model11_o_pre_mu_1 = model1_o_pre_mu_1.fit(df_t_M_O_PG,\n",
    "                                              date_col='Fecha_c', value_col='Matriculados', id_col=None)"
   ]
  },
  {
   "cell_type": "code",
   "execution_count": null,
   "id": "00ae270f",
   "metadata": {},
   "outputs": [],
   "source": [
    "prediction_o_pre_mu_1 = model11_o_pre_mu_1.predict()\n",
    "forecast_o_pre_mu_1 =  prediction_o_pre_mu_1.forecast\n",
    "print(model11_o_pre_mu_1)"
   ]
  },
  {
   "cell_type": "code",
   "execution_count": null,
   "id": "1e485ce0",
   "metadata": {},
   "outputs": [],
   "source": [
    "#modelo para la facultad de Odontología, pregrado mujeres en el segundo periodo \n",
    "model11_o_pre_mu_2 = AutoTS(forecast_length=2, frequency='infer', prediction_interval=0.80,\n",
    "                ensemble='simple', model_list=model_list, transformer_list='fast',\n",
    "                max_generations=5, num_validations=2)\n",
    "model11_o_pre_mu_2 = model11_o_pre_mu_2.fit(df_t_M_O_PGB1,\n",
    "                                              date_col='Fecha_c', value_col='Matriculados', id_col=None)"
   ]
  },
  {
   "cell_type": "code",
   "execution_count": null,
   "id": "d362d73f",
   "metadata": {},
   "outputs": [],
   "source": [
    "prediction_o_pre_mu_2 = model1_o_pre_mu_2.predict()\n",
    "forecast_o_pre_mu_2 =  prediction_o_pre_mu_2.forecast\n",
    "print(model11_o_pre_mu_2)"
   ]
  },
  {
   "cell_type": "code",
   "execution_count": null,
   "id": "84bd619c",
   "metadata": {},
   "outputs": [],
   "source": [
    "#modelo para la facultad de Odontología, pregrado hombres en el primer periodo \n",
    "model11_o_pre_ho_1 = AutoTS(forecast_length=2, frequency='infer', prediction_interval=0.80,\n",
    "                ensemble='simple', model_list=model_list, transformer_list='fast',\n",
    "                max_generations=5, num_validations=2)\n",
    "model11_o_pre_ho_1 = model11_o_pre_ho_1.fit(df_t_H_O_PG,\n",
    "                                              date_col='Fecha_c', value_col='Matriculados', id_col=None)"
   ]
  },
  {
   "cell_type": "code",
   "execution_count": null,
   "id": "bb1674af",
   "metadata": {},
   "outputs": [],
   "source": [
    "prediction_o_pre_ho_1 = model11_o_pre_ho_1.predict()\n",
    "forecast_o_pre_ho_1 =  prediction_o_pre_ho_1.forecast\n",
    "print(model11_o_pre_ho_1)"
   ]
  },
  {
   "cell_type": "code",
   "execution_count": null,
   "id": "09c4685b",
   "metadata": {},
   "outputs": [],
   "source": [
    "#modelo para la facultad de Odontología, pregrado hombres en el segundo periodo \n",
    "model11_o_pre_ho_2 = AutoTS(forecast_length=2, frequency='infer', prediction_interval=0.80,\n",
    "                ensemble='simple', model_list=model_list, transformer_list='fast',\n",
    "                max_generations=5, num_validations=2)\n",
    "model11_o_pre_ho_2 = model11_o_pre_ho_2.fit(df_t_H_O_PGB2,\n",
    "                                              date_col='Fecha_c', value_col='Matriculados', id_col=None)"
   ]
  },
  {
   "cell_type": "code",
   "execution_count": null,
   "id": "f34307fc",
   "metadata": {},
   "outputs": [],
   "source": [
    "prediction_o_pre_ho_2 = model11_o_pre_ho_2.predict()\n",
    "forecast_0_pre_ho_2 =  prediction_0_pre_ho_2.forecast\n",
    "print(model11_o_pre_ho_2)"
   ]
  },
  {
   "cell_type": "code",
   "execution_count": null,
   "id": "6357a57a",
   "metadata": {},
   "outputs": [],
   "source": [
    "print(forecast_o_pre_mu_1)\n",
    "print(forecast_o_pre_mu_2)\n",
    "print(forecast_o_pre_ho_1)\n",
    "print(forecast_o_pre_ho_2)"
   ]
  },
  {
   "cell_type": "code",
   "execution_count": null,
   "id": "b149432d",
   "metadata": {},
   "outputs": [],
   "source": [
    "fig = go.Figure([\n",
    "    go.Scatter(\n",
    "        name='F.Odontología, pregrado mujeres P.1',\n",
    "        x=df_t_M_O_PG['Fecha_c'],\n",
    "        y=df_t_M_O_PG['Matriculados'],\n",
    "        mode='lines+markers',\n",
    "        marker=dict(color='red', size=2),\n",
    "        showlegend=True\n",
    "    ),\n",
    "    go.Scatter(\n",
    "        name='Odontología, pregrado mujeres P.2',\n",
    "        x=df_t_M_O_PGB1['Fecha_c'],\n",
    "        y=df_t_M_O_PGB1['Matriculados'],\n",
    "        mode='lines+markers',\n",
    "        marker=dict(color='violet', size=2),\n",
    "        line=dict(width=2),\n",
    "        showlegend=True\n",
    "    ),\n",
    "    go.Scatter(\n",
    "        name='Odontología, pregrado hombres P.1',\n",
    "        x=df_t_H_O_PG['Fecha_c'],\n",
    "        y=df_t_H_O_PG['Matriculados'],\n",
    "        marker=dict(color='green', size=2),\n",
    "        line=dict(width=2),\n",
    "        mode='lines+markers',\n",
    "        #fillcolor='rgba(68, 68, 68, 0.3)',\n",
    "        #fill='tonexty',\n",
    "        showlegend=True\n",
    "    ),\n",
    "    go.Scatter(\n",
    "        name= 'Odontología, pregrado hombres P.2',\n",
    "        x=df_t_H_O_PGB2['Fecha_c'],\n",
    "        y=df_t_H_O_PGB2['Matriculados'], \n",
    "        marker=dict(color='orange', size=2),\n",
    "        line=dict(width=2),\n",
    "        mode='lines+markers',\n",
    "        #fillcolor='rgba(68, 68, 68, 0.3)',\n",
    "        #fill='tonexty',\n",
    "        showlegend=True\n",
    "    ),\n",
    "        go.Scatter(\n",
    "        name='Pronostico: F.Odontología, pregrado mujeres P.1',\n",
    "        x=forecast_o_pre_mu_1.index,\n",
    "        y=forecast_o_pre_mu_1['Matriculados'],\n",
    "        mode='lines+markers',\n",
    "        marker=dict(color='red', size=2),\n",
    "        showlegend=True\n",
    "    ),\n",
    "    go.Scatter(\n",
    "        name='Pronostico: F.Odontología, pregrado mujeres P.2',\n",
    "        x=forecast_o_pre_mu_2.index,\n",
    "        y=forecast_o_pre_mu_2['Matriculados'],\n",
    "        mode='lines+markers',\n",
    "        marker=dict(color='violet', size=2),\n",
    "        line=dict(width=2),\n",
    "        showlegend=True\n",
    "    ),\n",
    "    go.Scatter(\n",
    "        name='Pronostico: F.Odontología, pregrado hombres P.1',\n",
    "        x=forecast_o_pre_ho_1.index,\n",
    "        y=forecast_o_pre_ho_1['Matriculados'],\n",
    "        marker=dict(color='green', size=2),\n",
    "        line=dict(width=2),\n",
    "        mode='lines+markers',\n",
    "        #fillcolor='rgba(68, 68, 68, 0.3)',\n",
    "        #fill='tonexty',\n",
    "        showlegend=True\n",
    "    ),\n",
    "    go.Scatter(\n",
    "        name= 'Pronostico: F.Odontología, pregrado hombres P.2',\n",
    "        x=forecast_o_pre_ho_2.index,\n",
    "        y=forecast_o_pre_ho_2['Matriculados'], \n",
    "        marker=dict(color='orange', size=2),\n",
    "        line=dict(width=2),\n",
    "        mode='lines+markers',\n",
    "        #fillcolor='rgba(68, 68, 68, 0.3)',\n",
    "        #fill='tonexty',\n",
    "        showlegend=True\n",
    "    )\n",
    "])\n",
    "fig.update_layout(\n",
    "    yaxis_title='No. Matriculados',\n",
    "    title='Matriculados facultad de Odontología',\n",
    "    hovermode=\"x\"\n",
    ")\n",
    "fig.show()\n",
    "\n",
    "fig.write_image(\"png/Matriculados facultad de Odontología.png\") # guardando resultado como .png\n",
    "fig.write_html(\"html/Matriculados facultad de Odontología.html\") # guardando resultado como.html\n"
   ]
  },
  {
   "cell_type": "markdown",
   "id": "346667b5",
   "metadata": {},
   "source": [
    "## Análisis de resultados ##"
   ]
  },
  {
   "cell_type": "code",
   "execution_count": null,
   "id": "44412a88",
   "metadata": {},
   "outputs": [],
   "source": []
  }
 ],
 "metadata": {
  "kernelspec": {
   "display_name": "Python 3 (ipykernel)",
   "language": "python",
   "name": "python3"
  },
  "language_info": {
   "codemirror_mode": {
    "name": "ipython",
    "version": 3
   },
   "file_extension": ".py",
   "mimetype": "text/x-python",
   "name": "python",
   "nbconvert_exporter": "python",
   "pygments_lexer": "ipython3",
   "version": "3.8.13"
  }
 },
 "nbformat": 4,
 "nbformat_minor": 5
}
